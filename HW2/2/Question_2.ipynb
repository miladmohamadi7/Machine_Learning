{
  "cells": [
    {
      "cell_type": "code",
      "execution_count": null,
      "metadata": {
        "colab": {
          "base_uri": "https://localhost:8080/"
        },
        "id": "60N1udmK9-a6",
        "outputId": "a2435850-e4e1-4417-e37d-dce114711a97"
      },
      "outputs": [
        {
          "output_type": "stream",
          "name": "stdout",
          "text": [
            "Drive already mounted at /content/gdrive; to attempt to forcibly remount, call drive.mount(\"/content/gdrive\", force_remount=True).\n"
          ]
        }
      ],
      "source": [
        "from google.colab import drive\n",
        "\n",
        "drive.mount('/content/gdrive')"
      ]
    },
    {
      "cell_type": "code",
      "execution_count": null,
      "metadata": {
        "id": "-_ZUFIL6-FLJ"
      },
      "outputs": [],
      "source": [
        "import tensorflow as tf\n",
        "import numpy as np\n",
        "from sklearn.model_selection import train_test_split\n",
        "from sklearn import linear_model\n",
        "from matplotlib import pyplot as plt\n",
        "from tensorflow import keras\n",
        "from tensorflow.keras.utils import plot_model, to_categorical\n",
        "from tensorflow.keras import models\n",
        "from tensorflow.keras.models import Sequential\n",
        "from numpy import genfromtxt\n",
        "from sklearn.utils import shuffle\n",
        "from sklearn.preprocessing import MinMaxScaler , StandardScaler\n",
        "from tensorflow.keras.layers import Dense\n",
        "from tensorflow.keras.optimizers import Adam\n",
        "import pandas as pd\n",
        "from sklearn import preprocessing"
      ]
    },
    {
      "cell_type": "code",
      "execution_count": null,
      "metadata": {
        "id": "Kfp3C_jo-GQE"
      },
      "outputs": [],
      "source": [
        "data = pd.read_csv('/content/gdrive/MyDrive/data.csv')\n",
        "# data = data[data['price'] != 0]"
      ]
    },
    {
      "cell_type": "code",
      "source": [
        "# data=data[data[\"price\"]/data[\"sqft_living\"]<10000]"
      ],
      "metadata": {
        "id": "lCyLr3wdsN8k"
      },
      "execution_count": null,
      "outputs": []
    },
    {
      "cell_type": "code",
      "source": [
        "x = data[\"price\"]/data[\"sqft_living\"]\n",
        "plt.hist(x)"
      ],
      "metadata": {
        "id": "Zdr3I3TQrrd0"
      },
      "execution_count": null,
      "outputs": []
    },
    {
      "cell_type": "code",
      "source": [
        "data['date'] = pd.factorize(data['date'])[0] + 0.0\n",
        "data['street'] = pd.factorize(data['street'])[0] +0.0\n",
        "data['city'] = pd.factorize(data['city'])[0] + 0.0\n",
        "data['statezip'] = pd.factorize(data['statezip'])[0] + 0.0\n",
        "data['country'] = pd.factorize(data['country'])[0] + 0.0"
      ],
      "metadata": {
        "id": "ZoNkaVqsLq2K"
      },
      "execution_count": null,
      "outputs": []
    },
    {
      "cell_type": "code",
      "source": [
        "y = data.price\n",
        "x = data.drop('price' , axis = 1)\n",
        "# x = data.drop(['country','price'], axis = 1)\n",
        "X_train, X_test, y_train, y_test = train_test_split(x, y, test_size=0.2, random_state = 50)\n",
        "X_train, X_val, y_train, y_val = train_test_split(X_train, y_train, test_size=0.1, random_state = 20)\n",
        "\n",
        "scaler = StandardScaler()\n",
        "X_train = scaler.fit_transform(X_train)\n",
        "X_test = scaler.fit_transform(X_test)\n",
        "X_val = scaler.fit_transform(X_val)"
      ],
      "metadata": {
        "id": "W7-DhlUxBfhE"
      },
      "execution_count": null,
      "outputs": []
    },
    {
      "cell_type": "code",
      "execution_count": null,
      "metadata": {
        "id": "YwLJU-SZ-GJa"
      },
      "outputs": [],
      "source": [
        "def build_model():\n",
        "    model = Sequential()\n",
        "    model.add(Dense(256, activation='relu',input_shape=[17]))\n",
        "    model.add(Dense(128, activation= 'relu'))\n",
        "    model.add(Dense(64, activation= 'relu'))\n",
        "\n",
        "    model.add(Dense(1, activation= 'linear'))\n",
        "    model.compile(optimizer='adam', loss='mae', metrics=['mae'])\n",
        "    return model\n",
        "model = build_model()\n",
        "callback = tf.keras.callbacks.EarlyStopping(monitor='loss', patience=5)\n",
        "recordModel = model.fit(X_train, y_train, epochs=500,validation_data = (X_val,y_val ),callbacks=[callback])"
      ]
    },
    {
      "cell_type": "code",
      "execution_count": null,
      "metadata": {
        "id": "FQPZFKSQ-F77"
      },
      "outputs": [],
      "source": [
        "fig_Loss = plt.figure(figsize=(10, 10))\n",
        "plt.plot(recordModel.history['loss'])\n",
        "plt.plot(recordModel.history[\"val_loss\"])\n",
        "plt.title(\"Model Loss\")\n",
        "plt.ylabel(\"Loss\")\n",
        "plt.xlabel(\"Epoch\")\n",
        "plt.legend([\"Train Loss\",\"Validation Loss\"])\n",
        "plt.show()"
      ]
    },
    {
      "cell_type": "code",
      "execution_count": null,
      "metadata": {
        "id": "etO0tKB9-Ft1"
      },
      "outputs": [],
      "source": [
        "Test_Predict = model.predict(X_test)\n",
        "plt.scatter(y_test,Test_Predict)\n",
        "_ = plt.plot([0, 2.5e6],[0, 2.5e6], color = 'red')\n",
        "plt.xlabel('Right Values')\n",
        "plt.ylabel('Prediction')\n",
        "plt.show()\n",
        "mae = model.evaluate(X_test, y_test)[0]\n",
        "print(\"Test - Mean Absoulate Error \" ,mae)"
      ]
    },
    {
      "cell_type": "code",
      "source": [
        "class RidgeRegression() :\n",
        "\t\n",
        "\tdef __init__( self, learning_rate, iterations, l2_penality ) :\n",
        "\t\t\n",
        "\t\tself.learning_rate = learning_rate\t\t\n",
        "\t\tself.iterations = iterations\t\t\n",
        "\t\tself.l2_penality = l2_penality\n",
        "\t\t\t\t\t\n",
        "\tdef fit( self, X, Y ) :\n",
        "\t\t\n",
        "\t\tself.m, self.n = X.shape\n",
        "\t\t\t\t\n",
        "\t\tself.W = np.zeros( self.n )\n",
        "\t\t\n",
        "\t\tself.b = 0\t\t\n",
        "\t\tself.X = X\t\t\n",
        "\t\tself.Y = Y\n",
        "\t\t\t\t\n",
        "\t\tfor i in range( self.iterations ) :\t\t\t\n",
        "\t\t\tself.update_weights()\t\t\t\n",
        "\t\treturn self\n",
        "\t\n",
        "\tdef update_weights( self ) :\t\t\n",
        "\t\tY_pred = self.predict( self.X )\n",
        "\t\t\n",
        "\t\tdW = ( - ( 2 * ( self.X.T ).dot( self.Y - Y_pred ) ) + ( 2 * self.l2_penality * self.W ) ) / self.m\t\n",
        "\t\tdb = - 2 * np.sum( self.Y - Y_pred ) / self.m\n",
        "\t\t\n",
        "\t\t\n",
        "\t\tself.W = self.W - self.learning_rate * dW\t\n",
        "\t\tself.b = self.b - self.learning_rate * db\t\t\n",
        "\t\treturn self\n",
        "\n",
        "\tdef predict( self, X ) :\t\n",
        "\t\treturn X.dot( self.W ) + self.b\n",
        "\t\t\n",
        "model = RidgeRegression( iterations = 1000, learning_rate = 0.01, l2_penality = 1 )\n",
        "model.fit( X_train, y_train )\n",
        "\n",
        "\n",
        "Y_pred = model.predict( X_test )\n",
        "Test_Predict = model.predict(X_test)\n",
        "plt.scatter(y_test,Test_Predict)\n",
        "_ = plt.plot([0, 2.5e6],[0, 2.5e6], color = 'red')\n",
        "plt.xlabel('Right Values')\n",
        "plt.ylabel('Prediction')\n",
        "plt.show()\n"
      ],
      "metadata": {
        "id": "EHeC6n4_VW3y"
      },
      "execution_count": null,
      "outputs": []
    }
  ],
  "metadata": {
    "colab": {
      "collapsed_sections": [],
      "name": "Question-2.ipynb",
      "provenance": []
    },
    "kernelspec": {
      "display_name": "Python 3",
      "name": "python3"
    },
    "language_info": {
      "name": "python"
    }
  },
  "nbformat": 4,
  "nbformat_minor": 0
}