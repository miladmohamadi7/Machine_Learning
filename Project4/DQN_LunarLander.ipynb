{
  "cells": [
    {
      "cell_type": "markdown",
      "source": [
        "# **Part 1**\n",
        "\n",
        "**<font color='4B7BE5'> Reinforcement learning issues need an agent that interacts with the environment and takes optimal actions that make him a goal. Lunar Lander has the role of the same environment in which learning occurs.</font>**\n",
        "\n",
        "**<font color='orange'>Feature space</font>:** **Showdly with 2 components: horizontal position, vertical position, horizontal velocity, vertical velocity, angle, angular velocity, (time) left foot contact, right foot contact.**\n",
        "\n",
        "**<font color='orange'>Operation space</font>: In each step, the astronaut can choose one of four actions (NO OP) or do nothing, turn on the left engine, turn the right engine turning on and turn the middle engine.</font>**\n",
        "\n",
        "**<font color='orange'>Reward System</font>: The environment is calculated by the environment and based on the amount of fuel used, the landing position and contact time of the legs are calculated.**\n",
        "\n"
      ],
      "metadata": {
        "id": "ycw-2hfYF3UM"
      }
    },
    {
      "cell_type": "code",
      "source": [
        "# install dependencies\n",
        "!pip3 install gym --upgrade\n",
        "!pip3 install pyglet\n",
        "!pip3 install Box2D\n",
        "!pip3 install box2d-py\n",
        "!pip3 install gym[Box_2D]\n",
        "!pip3 install gym[box2d]"
      ],
      "metadata": {
        "id": "P5hBb-KVdi8P"
      },
      "execution_count": null,
      "outputs": []
    },
    {
      "cell_type": "code",
      "source": [
        "import torch\n",
        "\n",
        "# if gpu is to be used\n",
        "device = torch.device(\"cuda\" if torch.cuda.is_available() else \"cpu\")\n",
        "device"
      ],
      "metadata": {
        "colab": {
          "base_uri": "https://localhost:8080/"
        },
        "id": "qsjPBh4m3pCU",
        "outputId": "7e77196a-e5be-4908-cd71-1be2967559cd"
      },
      "execution_count": 2,
      "outputs": [
        {
          "output_type": "execute_result",
          "data": {
            "text/plain": [
              "device(type='cuda')"
            ]
          },
          "metadata": {},
          "execution_count": 2
        }
      ]
    },
    {
      "cell_type": "code",
      "execution_count": 3,
      "metadata": {
        "colab": {
          "base_uri": "https://localhost:8080/"
        },
        "id": "IMLFjDwLdPI9",
        "outputId": "f9666989-5301-4879-b0af-4028d0adfa2f"
      },
      "outputs": [
        {
          "output_type": "stream",
          "name": "stdout",
          "text": [
            "State size:  8\n",
            "action_size:  4\n"
          ]
        }
      ],
      "source": [
        "# enviroment\n",
        "import gym\n",
        "\n",
        "env = gym.make('LunarLander-v2')\n",
        "print('State size: ', env.observation_space.shape[0])\n",
        "print('action_size: ', env.action_space.n)               "
      ]
    },
    {
      "cell_type": "code",
      "source": [
        "# Q Network\n",
        "import torch\n",
        "import torch.nn as nn\n",
        "import torch.nn.functional as F\n",
        "\n",
        "class QNetwork(nn.Module):\n",
        "\n",
        "    def __init__(self, state_size, action_size, seed):\n",
        "\n",
        "        super(QNetwork, self).__init__()   \n",
        "        self.seed = torch.manual_seed(seed)\n",
        "        self.fc1 = nn.Linear(state_size, 256)\n",
        "        self.fc2 = nn.Linear(256,128)\n",
        "        self.fc3 = nn.Linear(128,64)\n",
        "        self.out = nn.Linear(64, action_size)\n",
        "        \n",
        "    def forward(self, state):\n",
        "        x = F.relu(self.fc1(state))\n",
        "        x = F.relu(self.fc2(x))\n",
        "        x = F.relu(self.fc3(x))\n",
        "        q_vals = self.out(x)\n",
        "        return q_vals "
      ],
      "metadata": {
        "id": "l29zp-WMkdxX"
      },
      "execution_count": 4,
      "outputs": []
    },
    {
      "cell_type": "code",
      "source": [
        "# DQN Agent\n",
        "import numpy as np\n",
        "import random\n",
        "from collections import namedtuple, deque\n",
        "import torch\n",
        "import torch.nn.functional as F\n",
        "import torch.optim as optim\n",
        "\n",
        "\n",
        "BUFFER_SIZE = int(1e5)  # replay buffer size\n",
        "BATCH_SIZE = 64      # minibatch size\n",
        "GAMMA = 0.99            # discount factor\n",
        "TAU = 1e-3              # for soft update of target parameters\n",
        "LR = 5e-4               # learning rate \n",
        "UPDATE_EVERY = 4        # how often to update the network\n",
        "\n",
        "class Agent():\n",
        "\n",
        "    def __init__(self, state_size, action_size, seed):\n",
        "      \n",
        "        self.state_size = state_size\n",
        "        self.action_size = action_size\n",
        "        self.seed = random.seed(seed)\n",
        "\n",
        "        # Q-Network\n",
        "        self.qnetwork_local = QNetwork(state_size, action_size, seed).to(device)\n",
        "        self.qnetwork_target = QNetwork(state_size, action_size, seed).to(device)\n",
        "        self.optimizer = optim.Adam(self.qnetwork_local.parameters(), lr=LR)\n",
        "\n",
        "        # Replay memory\n",
        "        self.memory = ReplayBuffer(action_size, BUFFER_SIZE, BATCH_SIZE, seed)\n",
        "        # Initialize time step (for updating every UPDATE_EVERY steps)\n",
        "        self.t_step = 0\n",
        "    \n",
        "    def step(self, state, action, reward, next_state, done):\n",
        "        # Save experience in replay memory\n",
        "        self.memory.add(state, action, reward, next_state, done)\n",
        "        \n",
        "        # Learn every UPDATE_EVERY time steps.\n",
        "        self.t_step = (self.t_step + 1) % UPDATE_EVERY\n",
        "        if self.t_step == 0:\n",
        "            # If enough samples are available in memory, get random subset and learn\n",
        "            if len(self.memory) > BATCH_SIZE:\n",
        "                experiences = self.memory.sample()\n",
        "                self.learn(experiences, GAMMA)\n",
        "\n",
        "    def act(self, state, eps=0.):\n",
        "\n",
        "        state = torch.from_numpy(state).float().unsqueeze(0).to(device)\n",
        "        self.qnetwork_local.eval()\n",
        "        with torch.no_grad():\n",
        "            action_values = self.qnetwork_local(state)\n",
        "        self.qnetwork_local.train()\n",
        "\n",
        "        # Epsilon-greedy action selection\n",
        "        if random.random() > eps:\n",
        "            return np.argmax(action_values.cpu().data.numpy())\n",
        "        else:\n",
        "            return random.choice(np.arange(self.action_size))\n",
        "\n",
        "    def learn(self, experiences, gamma):\n",
        "\n",
        "        states, actions, rewards, next_states, dones = experiences\n",
        "        \n",
        "        # compute Q_target from the target network inputing next_state\n",
        "        Q_target_av = self.qnetwork_target(next_states).detach().max(1)[0].unsqueeze(1)\n",
        "        Q_target = rewards + gamma*(Q_target_av)*(1-dones) # broadcasting works here.\n",
        "        # compute the Q_expected \n",
        "        Q_expected = self.qnetwork_local(states).gather(1, actions) # get q value for corrosponding action along dimension 1 of 64,4 matrix\n",
        "        \n",
        "        #apply gradient descent\n",
        "        #compute loss\n",
        "        loss = F.mse_loss(Q_expected, Q_target)\n",
        "        self.optimizer.zero_grad()\n",
        "        loss.backward() # since we detached the Q_target, it becomes a constant and the gradients wrt Q_expected is computed only\n",
        "        self.optimizer.step() # update weights\n",
        "        \n",
        "        # ------------------- update target network ------------------- #\n",
        "        self.soft_update(self.qnetwork_local, self.qnetwork_target, TAU)                     \n",
        "\n",
        "    def soft_update(self, local_model, target_model, tau):\n",
        "\n",
        "        for target_param, local_param in zip(target_model.parameters(), local_model.parameters()):\n",
        "            target_param.data.copy_(tau*local_param.data + (1.0-tau)*target_param.data)"
      ],
      "metadata": {
        "id": "TbuPKrTo5W3K"
      },
      "execution_count": null,
      "outputs": []
    },
    {
      "cell_type": "code",
      "source": [
        "# experience reply\n",
        "class ReplayBuffer:\n",
        "\n",
        "    def __init__(self, action_size, buffer_size, batch_size, seed):\n",
        "\n",
        "        self.action_size = action_size\n",
        "        self.memory = deque(maxlen=100)  \n",
        "        self.batch_size = batch_size\n",
        "        self.experience = namedtuple(\"Experience\", field_names=[\"state\", \"action\", \"reward\", \"next_state\", \"done\"])\n",
        "        self.seed = random.seed(seed)\n",
        "    \n",
        "    def add(self, state, action, reward, next_state, done):\n",
        "        # Add a new experience to memory\n",
        "        e = self.experience(state, action, reward, next_state, done)\n",
        "        self.memory.append(e)\n",
        "    \n",
        "    def sample(self):\n",
        "        # Randomly sample a batch of experiences from memory\n",
        "        experiences = random.sample(self.memory, k=self.batch_size)\n",
        "\n",
        "        states = torch.from_numpy(np.vstack([e.state for e in experiences if e is not None])).float().to(device)\n",
        "        actions = torch.from_numpy(np.vstack([e.action for e in experiences if e is not None])).long().to(device)\n",
        "        rewards = torch.from_numpy(np.vstack([e.reward for e in experiences if e is not None])).float().to(device)\n",
        "        next_states = torch.from_numpy(np.vstack([e.next_state for e in experiences if e is not None])).float().to(device)\n",
        "        dones = torch.from_numpy(np.vstack([e.done for e in experiences if e is not None]).astype(np.uint8)).float().to(device)\n",
        "  \n",
        "        return (states, actions, rewards, next_states, dones)\n",
        "\n",
        "    def __len__(self):\n",
        "        # Return the current size of internal memory\n",
        "        return len(self.memory)"
      ],
      "metadata": {
        "id": "utPnti-9kZiv"
      },
      "execution_count": null,
      "outputs": []
    },
    {
      "cell_type": "code",
      "execution_count": null,
      "metadata": {
        "id": "CyqRVQjtdPJP"
      },
      "outputs": [],
      "source": [
        "# trainig phase\n",
        "agent = Agent(state_size=8, action_size=4, seed=0)\n",
        "\n",
        "def dqn(n_episodes=500, max_t=1000, eps_start=1.0, eps_end=0.01, eps_decay=0.995):\n",
        "\n",
        "    \n",
        "    scores = []                        # list containing scores from each episode\n",
        "    scores_window = deque(maxlen=100)   # last 25 scores\n",
        "    eps = eps_start                    # initialize epsilon\n",
        "    for i_episode in range(1, n_episodes+1):\n",
        "        state = env.reset()\n",
        "        score = 0\n",
        "        for t in range(max_t):\n",
        "            action = agent.act(state, eps)\n",
        "            # env.render()\n",
        "            next_state, reward, done, _ = env.step(action)\n",
        "            agent.step(state, action, reward, next_state, done)\n",
        "            state = next_state\n",
        "            score += reward\n",
        "            if done:\n",
        "                break \n",
        "        \n",
        "\n",
        "        scores_window.append(score)       # save most recent score\n",
        "        scores.append(score)              # save most recent score\n",
        "        eps = max(eps_end, eps_decay*eps) # decrease epsilon\n",
        "        print('\\rEpisode {}\\tAverage Score: {:.2f}'.format(i_episode, np.mean(scores_window)), end=\"\")\n",
        "        torch.save(agent.qnetwork_local.state_dict(), 'checkpointDQN.pth') \n",
        "        if i_episode % 25 == 0:\n",
        "            print('\\rEpisode {}\\tAverage Score: {:.2f}'.format(i_episode, np.mean(scores_window), eps_start))\n",
        "        if np.mean(scores_window)>=240.0:       #regret\n",
        "            print('\\nEnvironment solved in {:d} episodes!\\tAverage Score: {:.2f}'.format(i_episode-100, np.mean(scores_window)))\n",
        "            break\n",
        "    return scores"
      ]
    },
    {
      "cell_type": "markdown",
      "source": [
        "# **Part 2**"
      ],
      "metadata": {
        "id": "ZoYbaXa90aCa"
      }
    },
    {
      "cell_type": "markdown",
      "source": [
        "**batch size: 32**"
      ],
      "metadata": {
        "id": "K2VRVHNSBVmG"
      }
    },
    {
      "cell_type": "code",
      "source": [
        "import time\n",
        "t1 = time.time()\n",
        "scores = dqn()\n",
        "t2 = time.time()\n",
        "print('Training time is :', (t2 - t1)/60 ,'Minutes')"
      ],
      "metadata": {
        "id": "7ScI_NUWjWzY",
        "colab": {
          "base_uri": "https://localhost:8080/"
        },
        "outputId": "f1abce25-8c17-49cb-a7cd-c7d336bd3672"
      },
      "execution_count": 12,
      "outputs": [
        {
          "output_type": "stream",
          "name": "stdout",
          "text": [
            "Episode 25\tAverage Score: -176.62\n",
            "Episode 50\tAverage Score: -157.97\n",
            "Episode 75\tAverage Score: -135.11\n",
            "Episode 100\tAverage Score: -115.87\n",
            "Episode 125\tAverage Score: -84.02\n",
            "Episode 150\tAverage Score: -61.90\n",
            "Episode 175\tAverage Score: -54.33\n",
            "Episode 200\tAverage Score: -48.96\n",
            "Episode 225\tAverage Score: -52.82\n",
            "Episode 250\tAverage Score: -50.37\n",
            "Episode 275\tAverage Score: -50.87\n",
            "Episode 300\tAverage Score: -51.26\n",
            "Episode 325\tAverage Score: -43.78\n",
            "Episode 350\tAverage Score: -38.69\n",
            "Episode 375\tAverage Score: -12.45\n",
            "Episode 400\tAverage Score: -0.96\n",
            "Episode 425\tAverage Score: 26.42\n",
            "Episode 450\tAverage Score: 28.98\n",
            "Episode 475\tAverage Score: 30.70\n",
            "Episode 500\tAverage Score: 35.35\n",
            "Training time is : 5.852133496602376 Minutes\n"
          ]
        }
      ]
    },
    {
      "cell_type": "code",
      "source": [
        "import pandas as pd\n",
        "series = pd.Series(scores)\n",
        "cumsum = series.cumsum()\n",
        "# plot the scores\n",
        "import matplotlib.pyplot as plt\n",
        "fig = plt.figure()\n",
        "ax = fig.add_subplot(111)\n",
        "plt.plot(np.arange(len(cumsum)), cumsum)\n",
        "plt.ylabel('Cumulative Score')\n",
        "plt.xlabel('Episode')\n",
        "plt.show()"
      ],
      "metadata": {
        "colab": {
          "base_uri": "https://localhost:8080/",
          "height": 279
        },
        "id": "EdS3SLP9DS8n",
        "outputId": "79aac9d1-5ac4-49f6-ae5d-60ee4199b8e0"
      },
      "execution_count": 13,
      "outputs": [
        {
          "output_type": "display_data",
          "data": {
            "text/plain": [
              "<Figure size 432x288 with 1 Axes>"
            ],
            "image/png": "[encoded data removed]"
          },
          "metadata": {
            "needs_background": "light"
          }
        }
      ]
    },
    {
      "cell_type": "markdown",
      "source": [
        "**batch size: 64**"
      ],
      "metadata": {
        "id": "kEB5_c_K-RtR"
      }
    },
    {
      "cell_type": "code",
      "source": [
        "import time\n",
        "t1 = time.time()\n",
        "scores = dqn()\n",
        "t2 = time.time()\n",
        "print('Training time is :', (t2 - t1)/60 ,'Minutes')"
      ],
      "metadata": {
        "colab": {
          "base_uri": "https://localhost:8080/"
        },
        "outputId": "0f2e05f6-969d-4ec1-e001-c4eb59cff70d",
        "id": "iMfGxpBV-ZCf"
      },
      "execution_count": null,
      "outputs": [
        {
          "output_type": "stream",
          "name": "stdout",
          "text": [
            "Episode 25\tAverage Score: -179.90\n",
            "Episode 50\tAverage Score: -175.09\n",
            "Episode 75\tAverage Score: -158.68\n",
            "Episode 100\tAverage Score: -148.52\n",
            "Episode 125\tAverage Score: -128.45\n",
            "Episode 150\tAverage Score: -110.58\n",
            "Episode 175\tAverage Score: -98.41\n",
            "Episode 200\tAverage Score: -92.10\n",
            "Episode 225\tAverage Score: -76.20\n",
            "Episode 250\tAverage Score: -65.26\n",
            "Episode 275\tAverage Score: -56.26\n",
            "Episode 300\tAverage Score: -42.16\n",
            "Episode 325\tAverage Score: -34.73\n",
            "Episode 350\tAverage Score: -16.83\n",
            "Episode 375\tAverage Score: 12.20\n",
            "Episode 400\tAverage Score: 49.87\n",
            "Episode 425\tAverage Score: 91.49\n",
            "Episode 450\tAverage Score: 126.53\n",
            "Episode 475\tAverage Score: 141.93\n",
            "Episode 500\tAverage Score: 166.29\n",
            "Training time is : 10.803916215896606 Minutes\n"
          ]
        }
      ]
    },
    {
      "cell_type": "code",
      "source": [
        "import pandas as pd\n",
        "series = pd.Series(scores)\n",
        "cumsum = series.cumsum()\n",
        "# plot the scores\n",
        "import matplotlib.pyplot as plt\n",
        "fig = plt.figure()\n",
        "ax = fig.add_subplot(111)\n",
        "plt.plot(np.arange(len(cumsum)), cumsum)\n",
        "plt.ylabel('Cumulative Score')\n",
        "plt.xlabel('Episode')\n",
        "plt.show()"
      ],
      "metadata": {
        "colab": {
          "base_uri": "https://localhost:8080/",
          "height": 279
        },
        "outputId": "e5dcbbea-fbeb-477b-f7b9-c1003dbc2756",
        "id": "sCAT_waK-a2E"
      },
      "execution_count": null,
      "outputs": [
        {
          "output_type": "display_data",
          "data": {
            "text/plain": [
              "<Figure size 432x288 with 1 Axes>"
            ],
            "image/png": "[encoded data removed]"
          },
          "metadata": {
            "needs_background": "light"
          }
        }
      ]
    },
    {
      "cell_type": "markdown",
      "source": [
        "**batch size: 128**"
      ],
      "metadata": {
        "id": "DpK5VwiV_Kxl"
      }
    },
    {
      "cell_type": "code",
      "source": [
        "import time\n",
        "t1 = time.time()\n",
        "scores = dqn()\n",
        "t2 = time.time()\n",
        "print('Training time is :', (t2 - t1)/60 ,'Minutes')"
      ],
      "metadata": {
        "id": "toKTFvFIAId8",
        "colab": {
          "base_uri": "https://localhost:8080/"
        },
        "outputId": "13fc5f88-11ff-4f46-da83-4031d3e90810"
      },
      "execution_count": null,
      "outputs": [
        {
          "output_type": "stream",
          "name": "stdout",
          "text": [
            "Episode 25\tAverage Score: -173.58\n",
            "Episode 50\tAverage Score: -169.30\n",
            "Episode 75\tAverage Score: -151.76\n",
            "Episode 100\tAverage Score: -143.53\n",
            "Episode 125\tAverage Score: -126.38\n",
            "Episode 150\tAverage Score: -106.51\n",
            "Episode 175\tAverage Score: -100.27\n",
            "Episode 200\tAverage Score: -83.88\n",
            "Episode 225\tAverage Score: -86.59\n",
            "Episode 250\tAverage Score: -74.66\n",
            "Episode 275\tAverage Score: -69.89\n",
            "Episode 300\tAverage Score: -52.87\n",
            "Episode 325\tAverage Score: -11.16\n",
            "Episode 350\tAverage Score: 18.13\n",
            "Episode 375\tAverage Score: 66.92\n",
            "Episode 400\tAverage Score: 90.76\n",
            "Episode 425\tAverage Score: 115.48\n",
            "Episode 450\tAverage Score: 137.37\n",
            "Episode 475\tAverage Score: 145.00\n",
            "Episode 500\tAverage Score: 145.28\n",
            "Training time is : 10.93846271832784 Minutes\n"
          ]
        }
      ]
    },
    {
      "cell_type": "code",
      "source": [
        "import pandas as pd\n",
        "import matplotlib.pyplot as plt\n",
        "\n",
        "series = pd.Series(scores)\n",
        "cumsum = series.cumsum()\n",
        "# plot the scores\n",
        "fig = plt.figure()\n",
        "ax = fig.add_subplot(111)\n",
        "plt.plot(np.arange(len(cumsum)), cumsum)\n",
        "plt.ylabel('Cumulative Score')\n",
        "plt.xlabel('Episode')\n",
        "plt.show()"
      ],
      "metadata": {
        "colab": {
          "base_uri": "https://localhost:8080/",
          "height": 279
        },
        "outputId": "134e4bf2-cbb7-460b-993b-8fe4b34df713",
        "id": "zPnFzNoM-e4S"
      },
      "execution_count": null,
      "outputs": [
        {
          "output_type": "display_data",
          "data": {
            "text/plain": [
              "<Figure size 432x288 with 1 Axes>"
            ],
            "image/png": "[encoded data removed]"
          },
          "metadata": {
            "needs_background": "light"
          }
        }
      ]
    },
    {
      "cell_type": "markdown",
      "source": [
        "**We investigated agent performance by drawing cumulative reward in each episode for batch size = 32, 64 and 128 and the highest score was obtained with batch size = 64. In terms of convergence speed, the average rate of Batch Size= 128 is positive in Episode = 350, but in the rest of the Batch Size of Episode 375 this happens. Also, the amount of training time in Batch Size is lower than the rest, and the highest average scores occur in this Batch size.**"
      ],
      "metadata": {
        "id": "2ueyZF_3W1WI"
      }
    },
    {
      "cell_type": "markdown",
      "source": [
        "# **Part 3**"
      ],
      "metadata": {
        "id": "XNZhjfzl6QH0"
      }
    },
    {
      "cell_type": "code",
      "source": [
        "class ReplayBuffer:\n",
        "\n",
        "    def __init__(self, state_size, action_size, buffer_size, batch_size,):\n",
        "\n",
        "        self.states = torch.zeros((buffer_size,)+(state_size,)).to(device)\n",
        "        self.next_states = torch.zeros((buffer_size,)+(state_size,)).to(device)\n",
        "        self.actions = torch.zeros(buffer_size,1, dtype=torch.long).to(device)\n",
        "        self.rewards = torch.zeros(buffer_size, 1, dtype=torch.float).to(device)\n",
        "        self.dones = torch.zeros(buffer_size, 1, dtype=torch.float).to(device)\n",
        "        self.e = np.zeros((buffer_size, 1), dtype=np.float)\n",
        "        \n",
        "\n",
        "        self.ptr = 0\n",
        "        self.n = 0\n",
        "        self.buffer_size = buffer_size\n",
        "        self.batch_size = batch_size\n",
        "    \n",
        "    def add(self, state, action, reward, next_state, done):\n",
        "       \n",
        "        self.states[self.ptr] = torch.from_numpy(state).to(device)\n",
        "        self.next_states[self.ptr] = torch.from_numpy(next_state).to(device)\n",
        "        \n",
        "        self.actions[self.ptr] = torch.from_numpy(np.asarray(action)).to(device)\n",
        "        self.rewards[self.ptr] = torch.from_numpy(np.asarray(reward)).to(device)\n",
        "        self.dones[self.ptr] = done\n",
        "        \n",
        "        self.ptr += 1\n",
        "        if self.ptr >= self.buffer_size:\n",
        "            self.ptr = 0\n",
        "            self.n = self.buffer_size\n",
        "\n",
        "    def sample(self, get_all=False):\n",
        "        n = len(self)\n",
        "        if get_all:\n",
        "            return self.states[:n], self.actions[:n], self.rewards[:n], self.next_states[:n], self.dones[:n]\n",
        "        \n",
        "        idx = np.random.choice(n, self.batch_size, replace=False)\n",
        "        \n",
        "        states = self.states[idx]\n",
        "        next_states = self.next_states[idx]\n",
        "        actions = self.actions[idx]\n",
        "        rewards = self.rewards[idx]\n",
        "        dones = self.dones[idx]\n",
        "        \n",
        "        return (states, actions, rewards, next_states, dones), idx\n",
        "      \n",
        "    def update_error(self, e, idx=None):\n",
        "        e = torch.abs(e.detach())\n",
        "        e = e / e.sum()\n",
        "        if idx is not None:\n",
        "            self.e[idx] = e.cpu().numpy()\n",
        "        else:\n",
        "            self.e[:len(self)] = e.cpu().numpy()\n",
        "        \n",
        "    def __len__(self):\n",
        "        if self.n == 0:\n",
        "            return self.ptr\n",
        "        else:\n",
        "            return self.n"
      ],
      "metadata": {
        "id": "rOq9OrelY3o7"
      },
      "execution_count": 6,
      "outputs": []
    },
    {
      "cell_type": "code",
      "source": [
        "class DDQNAgent():\n",
        "\n",
        "    def __init__(self, state_size, action_size, seed=42, ddqn=True):\n",
        "\n",
        "        self.state_size = state_size\n",
        "        self.action_size = action_size\n",
        "        self.seed = random.seed(seed)\n",
        "        self.ddqn = ddqn\n",
        "\n",
        "        \n",
        "        self.qnetwork_local = QNetwork(state_size, action_size, seed).to(device)\n",
        "        self.qnetwork_target = QNetwork(state_size, action_size, seed).to(device)\n",
        "        self.optimizer = optim.Adam(self.qnetwork_local.parameters(), lr=LR)\n",
        "\n",
        "        # Replay memory\n",
        "        self.memory = ReplayBuffer(state_size, (action_size,), BUFFER_SIZE, BATCH_SIZE)\n",
        "        # Initialize time step (for updating every UPDATE_EVERY steps)\n",
        "        self.t_step = 0\n",
        "    \n",
        "    def step(self, state, action, reward, next_state, done):\n",
        "        # Save experience in replay memory\n",
        "        self.memory.add(state, action, reward, next_state, done)\n",
        "        \n",
        "        # Learn every UPDATE_EVERY time steps.\n",
        "        self.t_step = (self.t_step + 1) % UPDATE_EVERY\n",
        "        if self.t_step == 0:\n",
        "            # If enough samples are available in memory, get random subset and learn\n",
        "            if len(self.memory) > BATCH_SIZE:\n",
        "                experiences, idx = self.memory.sample()\n",
        "                e = self.learn(experiences)\n",
        "                self.memory.update_error(e, idx)\n",
        "    \n",
        "    def act(self, state, eps=0.):\n",
        "       \n",
        "        state = torch.from_numpy(state).float().unsqueeze(0).to(device)\n",
        "        self.qnetwork_local.eval()\n",
        "        with torch.no_grad():\n",
        "            action_values = self.qnetwork_local(state)\n",
        "        self.qnetwork_local.train()\n",
        "\n",
        "        # Epsilon-greedy action selection\n",
        "        if random.random() > eps:\n",
        "            return np.argmax(action_values.cpu().data.numpy())\n",
        "        else:\n",
        "            return random.choice(np.arange(self.action_size))\n",
        "          \n",
        "    def update_error(self):\n",
        "        states, actions, rewards, next_states, dones = self.memory.sample(get_all=True)\n",
        "        with torch.no_grad():\n",
        "            if self.ddqn:\n",
        "                old_val = self.qnetwork_local(states).gather(-1, actions)\n",
        "                actions = self.qnetwork_local(next_states).argmax(-1, keepdim=True)\n",
        "                maxQ = self.qnetwork_target(next_states).gather(-1, actions)\n",
        "                target = rewards+GAMMA*maxQ*(1-dones)\n",
        "            else: # Normal DQN\n",
        "                maxQ = self.qnetwork_target(next_states).max(-1, keepdim=True)[0]\n",
        "                target = rewards+GAMMA*maxQ*(1-dones)\n",
        "                old_val = self.qnetwork_local(states).gather(-1, actions)\n",
        "            e = old_val - target\n",
        "            self.memory.update_error(e)\n",
        "\n",
        "    def learn(self, experiences):\n",
        "        \n",
        "        states, actions, rewards, next_states, dones = experiences\n",
        "\n",
        "        ## compute and minimize the loss\n",
        "        self.optimizer.zero_grad()\n",
        "        if self.ddqn:\n",
        "            old_val = self.qnetwork_local(states).gather(-1, actions)\n",
        "            with torch.no_grad():\n",
        "                next_actions = self.qnetwork_local(next_states).argmax(-1, keepdim=True)\n",
        "                maxQ = self.qnetwork_target(next_states).gather(-1, next_actions)\n",
        "                target = rewards+GAMMA*maxQ*(1-dones)\n",
        "        else: # Normal DQN\n",
        "            with torch.no_grad():\n",
        "                maxQ = self.qnetwork_target(next_states).max(-1, keepdim=True)[0]\n",
        "                target = rewards+GAMMA*maxQ*(1-dones)\n",
        "            old_val = self.qnetwork_local(states).gather(-1, actions)   \n",
        "        \n",
        "        loss = F.mse_loss(old_val, target)\n",
        "        loss.backward()\n",
        "        self.optimizer.step()\n",
        "\n",
        "        # update target network\n",
        "        self.soft_update(self.qnetwork_local, self.qnetwork_target, TAU) \n",
        "        \n",
        "        return old_val - target\n",
        "\n",
        "\n",
        "    def soft_update(self, local_model, target_model, tau):\n",
        "       \n",
        "        for target_param, local_param in zip(target_model.parameters(), local_model.parameters()):\n",
        "            target_param.data.copy_(tau*local_param.data + (1.0-tau)*target_param.data)"
      ],
      "metadata": {
        "id": "2yowMIIbIg6g"
      },
      "execution_count": 7,
      "outputs": []
    },
    {
      "cell_type": "code",
      "execution_count": null,
      "metadata": {
        "id": "a3rYdF95r7Cy"
      },
      "outputs": [],
      "source": [
        "# trainig phase\n",
        "agent = DDQNAgent(state_size=8, action_size=4,  seed=42, ddqn=True)\n",
        "\n",
        "def DDQN(n_episodes=500, max_t=1000, eps_start=1.0, eps_end=0.01, eps_decay=0.995):\n",
        "\n",
        "    \n",
        "    scores = []                        # list containing scores from each episode\n",
        "    scores_window = deque(maxlen=100)   # last 25 scores\n",
        "    eps = eps_start                    # initialize epsilon\n",
        "    for i_episode in range(1, n_episodes+1):\n",
        "        state = env.reset()\n",
        "        score = 0\n",
        "        for t in range(max_t):\n",
        "            action = agent.act(state, eps)\n",
        "            # env.render()\n",
        "            next_state, reward, done, _ = env.step(action)\n",
        "            agent.step(state, action, reward, next_state, done)\n",
        "            state = next_state\n",
        "            score += reward\n",
        "            if done:\n",
        "                break \n",
        "        \n",
        "\n",
        "        scores_window.append(score)       # save most recent score\n",
        "        scores.append(score)              # save most recent score\n",
        "        eps = max(eps_end, eps_decay*eps) # decrease epsilon\n",
        "        print('\\rEpisode {}\\tAverage Score: {:.2f}'.format(i_episode, np.mean(scores_window)), end=\"\")\n",
        "        torch.save(agent.qnetwork_local.state_dict(), 'checkpointDQN.pth') \n",
        "        if i_episode % 25 == 0:\n",
        "            print('\\rEpisode {}\\tAverage Score: {:.2f}'.format(i_episode, np.mean(scores_window), eps_start))\n",
        "        if np.mean(scores_window)>=240.0:       #regret\n",
        "            print('\\nEnvironment solved in {:d} episodes!\\tAverage Score: {:.2f}'.format(i_episode-100, np.mean(scores_window)))\n",
        "            break\n",
        "    return scores"
      ]
    },
    {
      "cell_type": "markdown",
      "source": [
        "**batch size: 64**"
      ],
      "metadata": {
        "id": "zKKRw7toKACd"
      }
    },
    {
      "cell_type": "code",
      "source": [
        "import time\n",
        "t1 = time.time()\n",
        "scores = DDQN()\n",
        "t2 = time.time()\n",
        "print('Training time is :', (t2 - t1)/60 ,'Minutes')"
      ],
      "metadata": {
        "id": "MG0AgRJWsDkn",
        "colab": {
          "base_uri": "https://localhost:8080/"
        },
        "outputId": "af8105ca-ade3-4bb2-8a49-0bb975420640"
      },
      "execution_count": 10,
      "outputs": [
        {
          "output_type": "stream",
          "name": "stdout",
          "text": [
            "Episode 25\tAverage Score: -137.43\n",
            "Episode 50\tAverage Score: -148.17\n",
            "Episode 75\tAverage Score: -158.02\n",
            "Episode 100\tAverage Score: -160.17\n",
            "Episode 125\tAverage Score: -143.57\n",
            "Episode 150\tAverage Score: -133.77\n",
            "Episode 175\tAverage Score: -116.41\n",
            "Episode 200\tAverage Score: -97.64\n",
            "Episode 225\tAverage Score: -109.79\n",
            "Episode 250\tAverage Score: -113.88\n",
            "Episode 275\tAverage Score: -103.21\n",
            "Episode 300\tAverage Score: -96.02\n",
            "Episode 325\tAverage Score: -67.06\n",
            "Episode 350\tAverage Score: -31.55\n",
            "Episode 375\tAverage Score: -2.03\n",
            "Episode 400\tAverage Score: 55.69\n",
            "Episode 425\tAverage Score: 106.49\n",
            "Episode 450\tAverage Score: 156.46\n",
            "Episode 475\tAverage Score: 196.23\n",
            "Episode 500\tAverage Score: 204.86\n",
            "Training time is : 11.47865731716156 Minutes\n"
          ]
        }
      ]
    },
    {
      "cell_type": "code",
      "source": [
        "import pandas as pd\n",
        "import matplotlib.pyplot as plt\n",
        "\n",
        "series = pd.Series(scores)\n",
        "cumsum = series.cumsum()\n",
        "# plot the scores\n",
        "fig = plt.figure()\n",
        "ax = fig.add_subplot(111)\n",
        "plt.plot(np.arange(len(cumsum)), cumsum)\n",
        "plt.ylabel('Cumulative Score')\n",
        "plt.xlabel('Episode')\n",
        "plt.show()"
      ],
      "metadata": {
        "colab": {
          "base_uri": "https://localhost:8080/",
          "height": 279
        },
        "id": "EdgDk5CXE0so",
        "outputId": "4433235e-c218-4313-9215-f34e3d96393e"
      },
      "execution_count": 11,
      "outputs": [
        {
          "output_type": "display_data",
          "data": {
            "text/plain": [
              "<Figure size 432x288 with 1 Axes>"
            ],
            "image/png": "[encoded data removed]"
          },
          "metadata": {
            "needs_background": "light"
          }
        }
      ]
    },
    {
      "cell_type": "markdown",
      "source": [
        "**agent's performance with DQN model and batch size of 64 is shown in part 2. above agent's performance with DDQN model is shown in the plot above. as it's seen the highest score in DDQN model is 204, meanwhile DQN model has a score of 166.29. this shows that DDQN perfroms better than DQN.**"
      ],
      "metadata": {
        "id": "6MiexFpeKJ5f"
      }
    }
  ],
  "metadata": {
    "kernelspec": {
      "display_name": "Python 3",
      "language": "python",
      "name": "python3"
    },
    "language_info": {
      "codemirror_mode": {
        "name": "ipython",
        "version": 3
      },
      "file_extension": ".py",
      "mimetype": "text/x-python",
      "name": "python",
      "nbconvert_exporter": "python",
      "pygments_lexer": "ipython3",
      "version": "3.6.10"
    },
    "colab": {
      "name": "DQN_LunarLander.ipynb",
      "provenance": [],
      "collapsed_sections": []
    },
    "accelerator": "GPU"
  },
  "nbformat": 4,
  "nbformat_minor": 0
}