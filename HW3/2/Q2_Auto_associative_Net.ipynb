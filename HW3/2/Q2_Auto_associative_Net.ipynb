{
  "nbformat": 4,
  "nbformat_minor": 0,
  "metadata": {
    "colab": {
      "name": "Auto-associative Net.ipynb",
      "provenance": [],
      "collapsed_sections": []
    },
    "kernelspec": {
      "name": "python3",
      "display_name": "Python 3"
    },
    "language_info": {
      "name": "python"
    },
    "accelerator": "GPU"
  },
  "cells": [
    {
      "cell_type": "code",
      "source": [
        "import numpy as np\n",
        "import matplotlib.pyplot as plt\n",
        "import random\n",
        "import copy"
      ],
      "metadata": {
        "id": "q53AKAikjhUh"
      },
      "execution_count": 1,
      "outputs": []
    },
    {
      "cell_type": "code",
      "source": [
        "zero = np.array([\n",
        "   -1,1,1,1,-1,\n",
        "    1,-1,-1,-1,1,\n",
        "    1,-1,-1,-1,1,\n",
        "    1,-1,-1,-1,1,\n",
        "    1,-1,-1,-1,1,\n",
        "    1,-1,-1,-1,1,\n",
        "    -1,1,1,1,-1\n",
        "])\n",
        "\n",
        "one = np.array([\n",
        "    -1,-1,1,-1,-1,\n",
        "    -1,1,1,-1,-1,\n",
        "    -1,-1,1,-1,-1,\n",
        "    -1,-1,1,-1,-1,\n",
        "    -1,-1,1,-1,-1,\n",
        "    -1,-1,1,-1,-1,\n",
        "    -1,1,1,1,-1\n",
        "])\n",
        "\n",
        "two = np.array([\n",
        "    -1,1,1,1,-1,\n",
        "    1,-1,-1,-1,1,\n",
        "    -1,-1,-1,-1,1,\n",
        "    -1,1,1,1,-1,\n",
        "    1,-1,-1,-1,-1,\n",
        "    1,-1,-1,-1,-1,\n",
        "    1,1,1,1,1\n",
        "                \n",
        "])"
      ],
      "metadata": {
        "id": "UJdHrkzJjhl-"
      },
      "execution_count": 2,
      "outputs": []
    },
    {
      "cell_type": "code",
      "source": [
        "class Hebbian:\n",
        "    def __init__(self, _S, _T):\n",
        "        self.S = _S\n",
        "        self.T = _T\n",
        "        self.W = np.zeros((len(_S[1]), len(_T[1])))\n",
        "        \n",
        "    def train(self):\n",
        "        for trainSample in range(len(self.S)):\n",
        "            x = self.S[trainSample]\n",
        "            y = self.T[trainSample]\n",
        "            for i in range(len(x)):\n",
        "                for j in range(len(y)):\n",
        "                    self.W[i][j] = self.W[i][j] + x[i]*y[j]\n",
        "    def showResult(self, X):\n",
        "        y_t = np.dot(X,self.W)\n",
        "        for i in range(len(y_t)): #sign\n",
        "            if(y_t[i] >= 0):\n",
        "                y_t[i] = 1\n",
        "            else:\n",
        "                y_t[i] = -1\n",
        "        plt.figure()\n",
        "        plt.imshow(y_t.reshape((7, 5)), cmap='binary')                   "
      ],
      "metadata": {
        "id": "9WkRHxtIPzJL"
      },
      "execution_count": 3,
      "outputs": []
    },
    {
      "cell_type": "code",
      "source": [
        "S = np.array([copy.deepcopy(zero), copy.deepcopy(one), copy.deepcopy(two)])\n",
        "T = np.array([copy.deepcopy(zero), copy.deepcopy(one), copy.deepcopy(two)])\n",
        "heb = Hebbian(S, T)\n",
        "heb.train()"
      ],
      "metadata": {
        "id": "2B0T_cyqObLq"
      },
      "execution_count": 4,
      "outputs": []
    },
    {
      "cell_type": "markdown",
      "source": [
        "**Part 1**\n",
        "\n",
        "Weights of Hebbian Learning Rule"
      ],
      "metadata": {
        "id": "qBpD6F3FVcTg"
      }
    },
    {
      "cell_type": "code",
      "source": [
        "heb.W"
      ],
      "metadata": {
        "id": "DwGUgIDWOAl_",
        "colab": {
          "base_uri": "https://localhost:8080/"
        },
        "outputId": "606c6a11-b5d0-4ab4-b61f-89a44f430d25"
      },
      "execution_count": 5,
      "outputs": [
        {
          "output_type": "execute_result",
          "data": {
            "text/plain": [
              "array([[ 3., -1., -3., ..., -3., -3.,  1.],\n",
              "       [-1.,  3.,  1., ...,  1.,  1.,  1.],\n",
              "       [-3.,  1.,  3., ...,  3.,  3., -1.],\n",
              "       ...,\n",
              "       [-3.,  1.,  3., ...,  3.,  3., -1.],\n",
              "       [-3.,  1.,  3., ...,  3.,  3., -1.],\n",
              "       [ 1.,  1., -1., ..., -1., -1.,  3.]])"
            ]
          },
          "metadata": {},
          "execution_count": 5
        }
      ]
    },
    {
      "cell_type": "markdown",
      "source": [
        "**Part 2**"
      ],
      "metadata": {
        "id": "Ln6KUMw8WzOF"
      }
    },
    {
      "cell_type": "markdown",
      "source": [
        "**The input and expected output image**"
      ],
      "metadata": {
        "id": "otsu36MHW9-b"
      }
    },
    {
      "cell_type": "code",
      "source": [
        "fig = plt.figure(figsize=(8, 8))\n",
        "fig.add_subplot(1, 3, 1)\n",
        "plt.imshow(zero.reshape((7, 5)), interpolation='nearest',cmap='Greys')\n",
        "plt.title('Zero')\n",
        "fig.add_subplot(1, 3, 2)\n",
        "plt.imshow(one.reshape((7, 5)), interpolation='nearest',cmap='Greys')\n",
        "plt.title('one')\n",
        "fig.add_subplot(1, 3, 3)\n",
        "plt.imshow(two.reshape((7, 5)), interpolation='nearest',cmap='Greys')\n",
        "plt.title('two')\n",
        "plt.show()"
      ],
      "metadata": {
        "id": "gAtmGc1bjhvP",
        "colab": {
          "base_uri": "https://localhost:8080/",
          "height": 248
        },
        "outputId": "9d81d3d5-eeea-4e91-9c20-b2ec632fbb95"
      },
      "execution_count": 6,
      "outputs": [
        {
          "output_type": "display_data",
          "data": {
            "text/plain": [
              "<Figure size 576x576 with 3 Axes>"
            ],
            "image/png": "[encoded data removed]"
          },
          "metadata": {
            "needs_background": "light"
          }
        }
      ]
    },
    {
      "cell_type": "markdown",
      "source": [
        "**image of network output**\n",
        "\n",
        "**The model accuracy is 100%**"
      ],
      "metadata": {
        "id": "5iF-qCUXXGOm"
      }
    },
    {
      "cell_type": "code",
      "source": [
        "heb.showResult(zero)\n",
        "heb.showResult(one)\n",
        "heb.showResult(two)"
      ],
      "metadata": {
        "id": "hkZZbMapjiE-",
        "colab": {
          "base_uri": "https://localhost:8080/",
          "height": 761
        },
        "outputId": "1e21a0c5-e250-4e48-c6c4-7dff4b677675"
      },
      "execution_count": 7,
      "outputs": [
        {
          "output_type": "display_data",
          "data": {
            "text/plain": [
              "<Figure size 432x288 with 1 Axes>"
            ],
            "image/png": "[encoded data removed]"
          },
          "metadata": {
            "needs_background": "light"
          }
        },
        {
          "output_type": "display_data",
          "data": {
            "text/plain": [
              "<Figure size 432x288 with 1 Axes>"
            ],
            "image/png": "[encoded data removed]"
          },
          "metadata": {
            "needs_background": "light"
          }
        },
        {
          "output_type": "display_data",
          "data": {
            "text/plain": [
              "<Figure size 432x288 with 1 Axes>"
            ],
            "image/png": "[encoded data removed]"
          },
          "metadata": {
            "needs_background": "light"
          }
        }
      ]
    },
    {
      "cell_type": "markdown",
      "source": [
        "**Part 3**"
      ],
      "metadata": {
        "id": "BCc1nXSFXVAo"
      }
    },
    {
      "cell_type": "code",
      "source": [
        "def ResultWhitNoise(arr,percentage):\n",
        "    pixels = int(np.prod(arr.shape)*percentage)\n",
        "    with_noise = np.copy(arr)\n",
        "    for pixel in range(pixels) :\n",
        "      random_pixel = np.random.choice(np.prod(with_noise.shape), 1)\n",
        "      if with_noise.flat[random_pixel] == -1 :\n",
        "        with_noise.flat[random_pixel] = 1\n",
        "      else:\n",
        "        with_noise.flat[random_pixel] = -1\n",
        "    \n",
        "    return with_noise"
      ],
      "metadata": {
        "id": "XC5bOTrhjiOL"
      },
      "execution_count": 8,
      "outputs": []
    },
    {
      "cell_type": "code",
      "source": [
        "zero_noise_20 = ResultWhitNoise(zero,0.2)\n",
        "one_noise_20  = ResultWhitNoise(one,0.2)\n",
        "two_noise_20  = ResultWhitNoise(two,0.2)"
      ],
      "metadata": {
        "id": "FiclTbuaNFBT"
      },
      "execution_count": 9,
      "outputs": []
    },
    {
      "cell_type": "markdown",
      "source": [
        "**The input image with 20% noise**"
      ],
      "metadata": {
        "id": "bUsAQILC4Ww6"
      }
    },
    {
      "cell_type": "code",
      "source": [
        "fig = plt.figure(figsize=(8, 8))\n",
        "fig.add_subplot(1, 3, 1)\n",
        "plt.imshow(zero_noise_20.reshape((7, 5)), interpolation='nearest',cmap='Greys')\n",
        "plt.title('zero with noise')\n",
        "fig.add_subplot(1, 3, 2)\n",
        "plt.imshow(one_noise_20.reshape((7, 5)), interpolation='nearest',cmap='Greys')\n",
        "plt.title('one with noise')\n",
        "fig.add_subplot(1, 3, 3)\n",
        "plt.imshow(two_noise_20.reshape((7, 5)), interpolation='nearest',cmap='Greys')\n",
        "plt.title('two with noise')\n",
        "plt.show()"
      ],
      "metadata": {
        "colab": {
          "base_uri": "https://localhost:8080/",
          "height": 248
        },
        "id": "zndwA4YF-jt9",
        "outputId": "dda6c3ca-c37f-4fb3-d5bc-97722e3b480f"
      },
      "execution_count": 10,
      "outputs": [
        {
          "output_type": "display_data",
          "data": {
            "text/plain": [
              "<Figure size 576x576 with 3 Axes>"
            ],
            "image/png": "[encoded data removed]"
          },
          "metadata": {
            "needs_background": "light"
          }
        }
      ]
    },
    {
      "cell_type": "code",
      "source": [
        "S = np.array([copy.deepcopy(zero), copy.deepcopy(one), copy.deepcopy(two)])\n",
        "T = np.array([copy.deepcopy(zero), copy.deepcopy(one), copy.deepcopy(two)])\n",
        "heb2 = Hebbian(S, T)\n",
        "heb2.train()"
      ],
      "metadata": {
        "id": "p331fLSHPMP5"
      },
      "execution_count": 11,
      "outputs": []
    },
    {
      "cell_type": "markdown",
      "source": [
        "**The output and expected output image with 20% noise**\n",
        "\n",
        "**accuracy is 100%**"
      ],
      "metadata": {
        "id": "q84GGaKd5-8z"
      }
    },
    {
      "cell_type": "code",
      "source": [
        "heb2.showResult(zero_noise_20)\n",
        "heb2.showResult(one_noise_20)\n",
        "heb2.showResult(two_noise_20)"
      ],
      "metadata": {
        "colab": {
          "base_uri": "https://localhost:8080/",
          "height": 761
        },
        "id": "KKxhvJs7PMJw",
        "outputId": "5ed0cc65-d0c7-441f-bcdb-acaa8175db09"
      },
      "execution_count": 12,
      "outputs": [
        {
          "output_type": "display_data",
          "data": {
            "text/plain": [
              "<Figure size 432x288 with 1 Axes>"
            ],
            "image/png": "[encoded data removed]"
          },
          "metadata": {
            "needs_background": "light"
          }
        },
        {
          "output_type": "display_data",
          "data": {
            "text/plain": [
              "<Figure size 432x288 with 1 Axes>"
            ],
            "image/png": "[encoded data removed]"
          },
          "metadata": {
            "needs_background": "light"
          }
        },
        {
          "output_type": "display_data",
          "data": {
            "text/plain": [
              "<Figure size 432x288 with 1 Axes>"
            ],
            "image/png": "[encoded data removed]"
          },
          "metadata": {
            "needs_background": "light"
          }
        }
      ]
    },
    {
      "cell_type": "code",
      "source": [
        "zero_noise_80 = ResultWhitNoise(zero,0.8)\n",
        "one_noise_80  = ResultWhitNoise(one,0.8)\n",
        "two_noise_80  = ResultWhitNoise(two,0.8)"
      ],
      "metadata": {
        "id": "iepCEWCK6cUO"
      },
      "execution_count": 20,
      "outputs": []
    },
    {
      "cell_type": "markdown",
      "source": [
        "**The input image with 80% noise**"
      ],
      "metadata": {
        "id": "DGXw-Muu6O-g"
      }
    },
    {
      "cell_type": "code",
      "source": [
        "fig = plt.figure(figsize=(8, 8))\n",
        "fig.add_subplot(1, 3, 1)\n",
        "plt.imshow(zero_noise_80.reshape((7, 5)), interpolation='nearest',cmap='Greys')\n",
        "plt.title('zero with noise')\n",
        "fig.add_subplot(1, 3, 2)\n",
        "plt.imshow(one_noise_80.reshape((7, 5)), interpolation='nearest',cmap='Greys')\n",
        "plt.title('one with noise')\n",
        "fig.add_subplot(1, 3, 3)\n",
        "plt.imshow(two_noise_80.reshape((7, 5)), interpolation='nearest',cmap='Greys')\n",
        "plt.title('two with noise')\n",
        "plt.show()"
      ],
      "metadata": {
        "colab": {
          "base_uri": "https://localhost:8080/",
          "height": 248
        },
        "id": "bdbDpRpGsS_m",
        "outputId": "af48fcf3-ba89-4512-a3fa-be1faa553aed"
      },
      "execution_count": 21,
      "outputs": [
        {
          "output_type": "display_data",
          "data": {
            "text/plain": [
              "<Figure size 576x576 with 3 Axes>"
            ],
            "image/png": "[encoded data removed]"
          },
          "metadata": {
            "needs_background": "light"
          }
        }
      ]
    },
    {
      "cell_type": "markdown",
      "source": [
        "**The expected output image**"
      ],
      "metadata": {
        "id": "9NxJEIb67Eu0"
      }
    },
    {
      "cell_type": "code",
      "source": [
        "fig = plt.figure(figsize=(8, 8))\n",
        "fig.add_subplot(1, 3, 1)\n",
        "plt.imshow(zero.reshape((7, 5)), interpolation='nearest',cmap='Greys')\n",
        "plt.title('zero')\n",
        "fig.add_subplot(1, 3, 2)\n",
        "plt.imshow(one.reshape((7, 5)), interpolation='nearest',cmap='Greys')\n",
        "plt.title('one')\n",
        "fig.add_subplot(1, 3, 3)\n",
        "plt.imshow(two.reshape((7, 5)), interpolation='nearest',cmap='Greys')\n",
        "plt.title('two')\n",
        "plt.show()"
      ],
      "metadata": {
        "colab": {
          "base_uri": "https://localhost:8080/",
          "height": 248
        },
        "id": "8SNvtaA3sSzc",
        "outputId": "67d53998-50fb-42a1-8f80-fba7355e1f16"
      },
      "execution_count": 22,
      "outputs": [
        {
          "output_type": "display_data",
          "data": {
            "text/plain": [
              "<Figure size 576x576 with 3 Axes>"
            ],
            "image/png": "[encoded data removed]"
          },
          "metadata": {
            "needs_background": "light"
          }
        }
      ]
    },
    {
      "cell_type": "code",
      "source": [
        "S = np.array([copy.deepcopy(zero), copy.deepcopy(one), copy.deepcopy(two)])\n",
        "T = np.array([copy.deepcopy(zero), copy.deepcopy(one), copy.deepcopy(two)])\n",
        "heb3 = Hebbian(S, T)\n",
        "heb3.train()"
      ],
      "metadata": {
        "id": "KSCuqgX0sSoY"
      },
      "execution_count": 23,
      "outputs": []
    },
    {
      "cell_type": "markdown",
      "source": [
        "**The network output image with 80% noise**\n",
        "\n",
        "**accuracy is 33.3**"
      ],
      "metadata": {
        "id": "MBhmLH5oD3Ev"
      }
    },
    {
      "cell_type": "code",
      "source": [
        "heb3.showResult(zero_noise_80)\n",
        "heb3.showResult(one_noise_80)\n",
        "heb3.showResult(two_noise_80)"
      ],
      "metadata": {
        "colab": {
          "base_uri": "https://localhost:8080/",
          "height": 761
        },
        "id": "taN_MNyNsSfp",
        "outputId": "b9a53152-535f-4384-97c2-c63e88ea3e08"
      },
      "execution_count": 24,
      "outputs": [
        {
          "output_type": "display_data",
          "data": {
            "text/plain": [
              "<Figure size 432x288 with 1 Axes>"
            ],
            "image/png": "[encoded data removed]"
          },
          "metadata": {
            "needs_background": "light"
          }
        },
        {
          "output_type": "display_data",
          "data": {
            "text/plain": [
              "<Figure size 432x288 with 1 Axes>"
            ],
            "image/png": "[encoded data removed]"
          },
          "metadata": {
            "needs_background": "light"
          }
        },
        {
          "output_type": "display_data",
          "data": {
            "text/plain": [
              "<Figure size 432x288 with 1 Axes>"
            ],
            "image/png": "[encoded data removed]"
          },
          "metadata": {
            "needs_background": "light"
          }
        }
      ]
    },
    {
      "cell_type": "markdown",
      "source": [
        "**Edit distance is a way of quantifying how dissimilar two strings (e.g., words) are to one another by counting the minimum number of operations required to transform one string into the other**\n",
        "\n",
        "**Due to the function output and output from the network number one has the highest sensitivity among other numbers**"
      ],
      "metadata": {
        "id": "c5zGq1HREu-J"
      }
    },
    {
      "cell_type": "code",
      "source": [
        "def edit_distance(list1, list2):\n",
        "    difference = 0\n",
        "    for i in range(len(list1)):\n",
        "        if list1[i] != list2[i]:\n",
        "            difference += 1\n",
        "\n",
        "    return difference\n",
        "\n",
        "print(edit_distance(zero,zero_noise_80 ))\n",
        "print(edit_distance(one,one_noise_80 ))\n",
        "print(edit_distance(two,two_noise_80 ))\n"
      ],
      "metadata": {
        "id": "epk0xWhSPL5u",
        "colab": {
          "base_uri": "https://localhost:8080/"
        },
        "outputId": "90a4f7b2-f4de-4547-b31b-2330542a4152"
      },
      "execution_count": 27,
      "outputs": [
        {
          "output_type": "stream",
          "name": "stdout",
          "text": [
            "12\n",
            "18\n",
            "10\n"
          ]
        }
      ]
    },
    {
      "cell_type": "markdown",
      "source": [
        "**Part 4**"
      ],
      "metadata": {
        "id": "vQgskP6TGLOB"
      }
    },
    {
      "cell_type": "code",
      "source": [
        "def showResultWithLost(arr,percentage):\n",
        "    pixels = int(np.prod(arr.shape)*percentage)\n",
        "    with_noise = np.copy(arr)\n",
        "    for pixel in range(pixels) :\n",
        "      random_pixel = np.random.choice(np.prod(with_noise.shape), 1)\n",
        "      with_noise.flat[random_pixel] = 0\n",
        "    return with_noise"
      ],
      "metadata": {
        "id": "EC0YqZBiPMBb"
      },
      "execution_count": 28,
      "outputs": []
    },
    {
      "cell_type": "code",
      "source": [
        "zero_loss_20 = showResultWithLost(zero, 0.2)\n",
        "one_loss_20 = showResultWithLost(one, 0.2)\n",
        "two_loss_20 = showResultWithLost(two, 0.2)"
      ],
      "metadata": {
        "id": "SsRltJ9bPL9S"
      },
      "execution_count": 29,
      "outputs": []
    },
    {
      "cell_type": "markdown",
      "source": [
        "**The input image with 20% loss**"
      ],
      "metadata": {
        "id": "YcEFVMR8G5Z7"
      }
    },
    {
      "cell_type": "code",
      "source": [
        "fig = plt.figure(figsize=(8, 8))\n",
        "fig.add_subplot(1, 3, 1)\n",
        "plt.imshow(zero_loss_20.reshape((7, 5)), interpolation='nearest',cmap='Greys')\n",
        "plt.title('zero_loss_20')\n",
        "fig.add_subplot(1, 3, 2)\n",
        "plt.imshow(one_loss_20.reshape((7, 5)), interpolation='nearest',cmap='Greys')\n",
        "plt.title('one_loss_20')\n",
        "fig.add_subplot(1, 3, 3)\n",
        "plt.imshow(two_loss_20.reshape((7, 5)), interpolation='nearest',cmap='Greys')\n",
        "plt.title('two_loss_20')\n",
        "plt.show()"
      ],
      "metadata": {
        "colab": {
          "base_uri": "https://localhost:8080/",
          "height": 248
        },
        "id": "jQyQFg3wGtbT",
        "outputId": "ab251530-7c87-4a2e-88f0-ea4fe51ec1c8"
      },
      "execution_count": 41,
      "outputs": [
        {
          "output_type": "display_data",
          "data": {
            "text/plain": [
              "<Figure size 576x576 with 3 Axes>"
            ],
            "image/png": "[encoded data removed]"
          },
          "metadata": {
            "needs_background": "light"
          }
        }
      ]
    },
    {
      "cell_type": "markdown",
      "source": [
        "**The expected output image**"
      ],
      "metadata": {
        "id": "tTxOTViSHNFb"
      }
    },
    {
      "cell_type": "code",
      "source": [
        "fig = plt.figure(figsize=(8, 8))\n",
        "fig.add_subplot(1, 3, 1)\n",
        "plt.imshow(zero.reshape((7, 5)), interpolation='nearest',cmap='Greys')\n",
        "plt.title('zero')\n",
        "fig.add_subplot(1, 3, 2)\n",
        "plt.imshow(one.reshape((7, 5)), interpolation='nearest',cmap='Greys')\n",
        "plt.title('one')\n",
        "fig.add_subplot(1, 3, 3)\n",
        "plt.imshow(two.reshape((7, 5)), interpolation='nearest',cmap='Greys')\n",
        "plt.title('two')\n",
        "plt.show()"
      ],
      "metadata": {
        "colab": {
          "base_uri": "https://localhost:8080/",
          "height": 248
        },
        "id": "BU_mqxc3GtT8",
        "outputId": "6fc53390-101a-47f1-9437-8f0c3bd9fca0"
      },
      "execution_count": 31,
      "outputs": [
        {
          "output_type": "display_data",
          "data": {
            "text/plain": [
              "<Figure size 576x576 with 3 Axes>"
            ],
            "image/png": "[encoded data removed]"
          },
          "metadata": {
            "needs_background": "light"
          }
        }
      ]
    },
    {
      "cell_type": "code",
      "source": [
        "S = np.array([copy.deepcopy(zero), copy.deepcopy(one), copy.deepcopy(two)])\n",
        "T = np.array([copy.deepcopy(zero), copy.deepcopy(one), copy.deepcopy(two)])\n",
        "heb4 = Hebbian(S, T)\n",
        "heb4.train()"
      ],
      "metadata": {
        "id": "0OJpcrz3HbVk"
      },
      "execution_count": 32,
      "outputs": []
    },
    {
      "cell_type": "markdown",
      "source": [
        "**The network output image**\n",
        "\n",
        "**accuracy is 100%**"
      ],
      "metadata": {
        "id": "6-XBt-CRHsdF"
      }
    },
    {
      "cell_type": "code",
      "source": [
        "heb4.showResult(zero_loss_20)\n",
        "heb4.showResult(one_loss_20)\n",
        "heb4.showResult(two_loss_20)"
      ],
      "metadata": {
        "colab": {
          "base_uri": "https://localhost:8080/",
          "height": 761
        },
        "outputId": "22300d07-25ba-480a-add4-d359b34f87c2",
        "id": "8JmE2RdXHbVo"
      },
      "execution_count": 33,
      "outputs": [
        {
          "output_type": "display_data",
          "data": {
            "text/plain": [
              "<Figure size 432x288 with 1 Axes>"
            ],
            "image/png": "[encoded data removed]"
          },
          "metadata": {
            "needs_background": "light"
          }
        },
        {
          "output_type": "display_data",
          "data": {
            "text/plain": [
              "<Figure size 432x288 with 1 Axes>"
            ],
            "image/png": "[encoded data removed]"
          },
          "metadata": {
            "needs_background": "light"
          }
        },
        {
          "output_type": "display_data",
          "data": {
            "text/plain": [
              "<Figure size 432x288 with 1 Axes>"
            ],
            "image/png": "[encoded data removed]"
          },
          "metadata": {
            "needs_background": "light"
          }
        }
      ]
    },
    {
      "cell_type": "code",
      "source": [
        "zero_loss_80 = showResultWithLost(zero, 0.8)\n",
        "one_loss_80 = showResultWithLost(one, 0.8)\n",
        "two_loss_80 = showResultWithLost(two, 0.8)"
      ],
      "metadata": {
        "id": "vfVAqcjvIRYk"
      },
      "execution_count": 42,
      "outputs": []
    },
    {
      "cell_type": "markdown",
      "source": [
        "**The input image with 80% loss**"
      ],
      "metadata": {
        "id": "ZvQv30EmI1Cr"
      }
    },
    {
      "cell_type": "code",
      "source": [
        "fig = plt.figure(figsize=(8, 8))\n",
        "fig.add_subplot(1, 3, 1)\n",
        "plt.imshow(zero_loss_80.reshape((7, 5)), interpolation='nearest',cmap='Greys')\n",
        "plt.title('zero_loss_80')\n",
        "fig.add_subplot(1, 3, 2)\n",
        "plt.imshow(one_loss_80.reshape((7, 5)), interpolation='nearest',cmap='Greys')\n",
        "plt.title('one_loss_80')\n",
        "fig.add_subplot(1, 3, 3)\n",
        "plt.imshow(two_loss_80.reshape((7, 5)), interpolation='nearest',cmap='Greys')\n",
        "plt.title('two_loss_80')\n",
        "plt.show()"
      ],
      "metadata": {
        "colab": {
          "base_uri": "https://localhost:8080/",
          "height": 248
        },
        "outputId": "26f688b3-234c-49c9-e762-e1b1e888ff61",
        "id": "DvvM9HnkIRYn"
      },
      "execution_count": 37,
      "outputs": [
        {
          "output_type": "display_data",
          "data": {
            "text/plain": [
              "<Figure size 576x576 with 3 Axes>"
            ],
            "image/png": "[encoded data removed]"
          },
          "metadata": {
            "needs_background": "light"
          }
        }
      ]
    },
    {
      "cell_type": "markdown",
      "source": [
        "**The expected output image**"
      ],
      "metadata": {
        "id": "Qyq-_HqGJDCj"
      }
    },
    {
      "cell_type": "code",
      "source": [
        "fig = plt.figure(figsize=(8, 8))\n",
        "fig.add_subplot(1, 3, 1)\n",
        "plt.imshow(zero.reshape((7, 5)), interpolation='nearest',cmap='Greys')\n",
        "plt.title('zero')\n",
        "fig.add_subplot(1, 3, 2)\n",
        "plt.imshow(one.reshape((7, 5)), interpolation='nearest',cmap='Greys')\n",
        "plt.title('one')\n",
        "fig.add_subplot(1, 3, 3)\n",
        "plt.imshow(two.reshape((7, 5)), interpolation='nearest',cmap='Greys')\n",
        "plt.title('two')\n",
        "plt.show()"
      ],
      "metadata": {
        "colab": {
          "base_uri": "https://localhost:8080/",
          "height": 248
        },
        "outputId": "d029ed15-bb52-4f3b-baa7-081ff7a8e65c",
        "id": "eT55kh_8JBwj"
      },
      "execution_count": 38,
      "outputs": [
        {
          "output_type": "display_data",
          "data": {
            "text/plain": [
              "<Figure size 576x576 with 3 Axes>"
            ],
            "image/png": "[encoded data removed]"
          },
          "metadata": {
            "needs_background": "light"
          }
        }
      ]
    },
    {
      "cell_type": "code",
      "source": [
        "S = np.array([copy.deepcopy(zero), copy.deepcopy(one), copy.deepcopy(two)])\n",
        "T = np.array([copy.deepcopy(zero), copy.deepcopy(one), copy.deepcopy(two)])\n",
        "heb5 = Hebbian(S, T)\n",
        "heb5.train()"
      ],
      "metadata": {
        "id": "MtDK3j_PJQSy"
      },
      "execution_count": 43,
      "outputs": []
    },
    {
      "cell_type": "markdown",
      "source": [
        "**The image of network output**\n",
        "\n",
        "**accuracy is 100%**"
      ],
      "metadata": {
        "id": "ozAb1AwBJbZs"
      }
    },
    {
      "cell_type": "code",
      "source": [
        "heb5.showResult(zero_loss_80)\n",
        "heb5.showResult(one_loss_80)\n",
        "heb5.showResult(two_loss_80)"
      ],
      "metadata": {
        "colab": {
          "base_uri": "https://localhost:8080/",
          "height": 761
        },
        "outputId": "f53f5292-a0ca-451d-dc5b-11da6f18499d",
        "id": "JfsexNyLJQS3"
      },
      "execution_count": 44,
      "outputs": [
        {
          "output_type": "display_data",
          "data": {
            "text/plain": [
              "<Figure size 432x288 with 1 Axes>"
            ],
            "image/png": "[encoded data removed]"
          },
          "metadata": {
            "needs_background": "light"
          }
        },
        {
          "output_type": "display_data",
          "data": {
            "text/plain": [
              "<Figure size 432x288 with 1 Axes>"
            ],
            "image/png": "[encoded data removed]"
          },
          "metadata": {
            "needs_background": "light"
          }
        },
        {
          "output_type": "display_data",
          "data": {
            "text/plain": [
              "<Figure size 432x288 with 1 Axes>"
            ],
            "image/png": "[encoded data removed]"
          },
          "metadata": {
            "needs_background": "light"
          }
        }
      ]
    }
  ]
}