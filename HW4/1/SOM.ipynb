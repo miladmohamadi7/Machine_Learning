{
  "cells": [
    {
      "cell_type": "code",
      "source": [
        "import numpy as np\n",
        "from sklearn.preprocessing import MinMaxScaler\n",
        "import sys\n",
        "\n",
        "import os\n",
        "import torch\n",
        "import matplotlib.pyplot as plt\n",
        "import torchvision.datasets as datasets\n",
        "from torch.utils.data.dataloader import DataLoader"
      ],
      "metadata": {
        "id": "m8PmBNXKJxPv"
      },
      "execution_count": 1,
      "outputs": []
    },
    {
      "cell_type": "markdown",
      "source": [
        "# **Part 1**"
      ],
      "metadata": {
        "id": "TCQKdsDWq_uE"
      }
    },
    {
      "cell_type": "code",
      "source": [
        "data = datasets.FashionMNIST('data/', train=True, download=True).data.numpy().astype(float)\n",
        "X_train = data[:1000]\n",
        "X_test = data[1000:4000]"
      ],
      "metadata": {
        "id": "jFIsQBsP-IDs"
      },
      "execution_count": null,
      "outputs": []
    },
    {
      "cell_type": "markdown",
      "source": [
        "**Flattening the 28*28 images**"
      ],
      "metadata": {
        "id": "g2p7hgy6KLsv"
      }
    },
    {
      "cell_type": "code",
      "source": [
        "X_train = X_train.reshape(1000,28*28)\n",
        "X_test = X_test.reshape(3000,28*28)"
      ],
      "metadata": {
        "id": "r1biTehXKLKI"
      },
      "execution_count": 3,
      "outputs": []
    },
    {
      "cell_type": "markdown",
      "source": [
        "**Normalizing the input images**"
      ],
      "metadata": {
        "id": "A0gUHtXYy2R-"
      }
    },
    {
      "cell_type": "code",
      "source": [
        "sc = MinMaxScaler(feature_range = (0, 1))\n",
        "X_train = sc.fit_transform(X_train)\n",
        "X_test = sc.transform(X_test)"
      ],
      "metadata": {
        "id": "t9NF8npbKGzG"
      },
      "execution_count": 4,
      "outputs": []
    },
    {
      "cell_type": "markdown",
      "source": [
        "**The weight matrix will be as follows: Number of rows = Number of neurons =  15$*$15 and Number of columns = Number of inputs = 28*28)**\n",
        "\n",
        "**In step 3, when calculating the D(j), the minimum amount among the calculated D(j)s depends on how neurons are arranged and which input vector member is subtract and reaches power 2. So at this step arrangement of neurons is important, and as the third step affects the fourth step, it is also important.**"
      ],
      "metadata": {
        "id": "S3-b0kuZZpy2"
      }
    },
    {
      "cell_type": "markdown",
      "source": [
        "# **Part 2**"
      ],
      "metadata": {
        "id": "In5lFbJBYeeC"
      }
    },
    {
      "cell_type": "markdown",
      "source": [
        "**Hyperparameters**"
      ],
      "metadata": {
        "id": "UVX6QQbIL5W5"
      }
    },
    {
      "cell_type": "code",
      "source": [
        "# Number of neurons\n",
        "M = 225\n",
        "\n",
        "# Dimension of the input patterns\n",
        "N = X_train.shape[1]\n",
        "\n",
        "# Total number of input patterns\n",
        "P = X_train.shape[0]\n",
        "\n",
        "learning_rate = 0.3\n",
        "\n",
        "R = 1\n",
        "\n",
        "MAX_EPOCHS = 100\n",
        "\n",
        "MAX_WEIGHT_DIFF = 0.0001\n",
        "\n",
        "DECAY_FACTOR = 0.0001\n",
        "\n",
        "RADIUS_REDUCTION_STEP = 200\n",
        "\n",
        "np.set_printoptions(threshold=sys.maxsize)"
      ],
      "metadata": {
        "id": "Z_llH3Srjh2h"
      },
      "execution_count": 10,
      "outputs": []
    },
    {
      "cell_type": "code",
      "source": [
        "# Step 1: Initialization of each node’s weights with a random number between 0 and 1\n",
        "initial_weight = np.random.rand(28*28*(15*15)).reshape(28*28, 15*15)\n",
        "\n",
        "weight = np.copy(initial_weight)\n",
        "\n",
        "last_weight = np.copy(weight)\n",
        "weights_history =[]\n",
        "weights_history.append(last_weight)\n",
        "for epoch in range(MAX_EPOCHS):\n",
        "    print(\"\\r\\nEpoch:\", epoch)\n",
        "    print(\"Learning rate:\", np.around(learning_rate, 6))\n",
        "    print(\"Neighborhood radius:\", R)\n",
        "    \n",
        "    # Step 2: Choosing input patterns ordering\n",
        "    # use normal ordering\n",
        "    pattern_ordering = np.arange(P)\n",
        "\n",
        "    progress = 0\n",
        "    \n",
        "    # For each input pattern do the steps 3-5\n",
        "    for p in pattern_ordering:\n",
        "        \n",
        "        progress = progress + 1\n",
        "        \n",
        "        # Step 3: Calculating the Best Matching Unit (BMU)\n",
        "\n",
        "        # initialize distance vector\n",
        "        distance_vector = np.zeros(M)\n",
        "    \n",
        "        # calculate distance of each weight from each input pattern\n",
        "        for j in range(M):\n",
        "            for i in range(N):\n",
        "                distance_vector[j] = distance_vector[j] + (weight[i,j] - X_train[p,i])**2\n",
        "\n",
        "        # Step 4: find index j such that distance_vector[j] is a minimum\n",
        "        min_distance_index = np.argmin(distance_vector)\n",
        "        \n",
        "        # Step 5: Update weights for all units j within a specified neighberhood of min_distance_index and for all i\n",
        "        # calculate neighborhood borders\n",
        "        begin_j = min_distance_index - R\n",
        "        if (begin_j < 0):\n",
        "            begin_j = 0\n",
        "        \n",
        "        end_j = min_distance_index + R\n",
        "        if (end_j > M - 1):\n",
        "            end_j = M - 1\n",
        "        \n",
        "        for j in range(begin_j, end_j + 1):\n",
        "            for i in range(N):\n",
        "                weight[i,j] = weight[i,j] + learning_rate * (X_train[p,i] - weight[i,j])\n",
        "\n",
        "    # Step 6: Update learning rate\n",
        "    learning_rate = DECAY_FACTOR * learning_rate\n",
        "        \n",
        "    # Step 8: Test stopping condition\n",
        "    weight_diff = np.amax(np.abs(weight - last_weight))\n",
        "    \n",
        "    if (weight_diff < MAX_WEIGHT_DIFF):\n",
        "        print(\"Weight change:\", weight_diff, \"<\", MAX_WEIGHT_DIFF)\n",
        "        print(\"Stopping condition is satisfied!\")\n",
        "        break\n",
        "    else:\n",
        "        print(\"Weight change:\", weight_diff, \">\", MAX_WEIGHT_DIFF)\n",
        "    \n",
        "    last_weight = np.copy(weight)\n",
        "    weights_history.append(last_weight)"
      ],
      "metadata": {
        "colab": {
          "base_uri": "https://localhost:8080/"
        },
        "id": "mppVJx4cNIQy",
        "outputId": "b50a1367-399b-4c73-bc31-9a3f3f42b8f5"
      },
      "execution_count": 12,
      "outputs": [
        {
          "output_type": "stream",
          "name": "stdout",
          "text": [
            "\r\n",
            "Epoch: 0\n",
            "Learning rate: 0.3\n",
            "Neighborhood radius: 1\n",
            "Weight change: 0.9999943949405043 > 0.0001\n",
            "\n",
            "Epoch: 1\n",
            "Learning rate: 3e-05\n",
            "Neighborhood radius: 1\n",
            "Weight change: 0.0016355817704544195 > 0.0001\n",
            "\n",
            "Epoch: 2\n",
            "Learning rate: 0.0\n",
            "Neighborhood radius: 1\n",
            "Weight change: 1.6316137574357015e-07 < 0.0001\n",
            "Stopping condition is satisfied!\n"
          ]
        }
      ]
    },
    {
      "cell_type": "markdown",
      "source": [
        "**Weights**"
      ],
      "metadata": {
        "id": "GqsOv-5lXNuL"
      }
    },
    {
      "cell_type": "code",
      "source": [
        "weight[0]"
      ],
      "metadata": {
        "colab": {
          "base_uri": "https://localhost:8080/"
        },
        "id": "tk4qMKgYXBB7",
        "outputId": "befd94b3-6b52-4479-e0bd-3ffe928a6061"
      },
      "execution_count": 48,
      "outputs": [
        {
          "output_type": "execute_result",
          "data": {
            "text/plain": [
              "array([2.69034232e-05, 8.76573213e-08, 2.04149310e-08, 1.75364915e-12,\n",
              "       3.48122580e-15, 7.59254194e-21, 8.89470281e-27, 1.99780236e-33,\n",
              "       4.20140646e-37, 3.22327826e-39, 1.91143969e-35, 9.27454509e-35,\n",
              "       7.35528536e-33, 1.72296322e-29, 3.34215150e-25, 6.83278533e-22,\n",
              "       4.86521139e-20, 1.69647982e-17, 4.35043613e-17, 4.87453120e-15,\n",
              "       4.19717197e-13, 1.92499188e-09, 8.97701295e-07, 3.24421126e-05,\n",
              "       1.70746621e-02, 4.28283924e-01, 1.26779051e-01, 5.18632369e-01,\n",
              "       3.43066137e-01, 8.27668716e-01, 2.68880839e-01, 8.83260047e-02,\n",
              "       2.25624361e-01, 9.54098810e-01, 8.24666678e-01, 2.05288537e-01,\n",
              "       5.21520769e-02, 6.08609934e-01, 7.29437684e-01, 2.75878634e-01,\n",
              "       8.67155349e-01, 4.11347365e-01, 8.83373145e-02, 2.21612589e-01,\n",
              "       2.99555438e-01, 3.14222163e-01, 8.58260922e-01, 3.68934098e-01,\n",
              "       6.99548156e-01, 1.99276481e-01, 7.21131795e-01, 8.85763640e-01,\n",
              "       9.42911130e-01, 7.62297469e-01, 3.30483585e-01, 9.20935407e-02,\n",
              "       6.80191187e-01, 1.23506843e-01, 1.25998818e-01, 3.81360234e-01,\n",
              "       5.45858216e-01, 3.53781689e-01, 6.83843726e-01, 8.83810352e-01,\n",
              "       3.17590320e-01, 7.39935767e-01, 6.94440726e-01, 7.82618034e-01,\n",
              "       1.19893646e-01, 1.57157625e-02, 9.87668616e-01, 7.37013214e-01,\n",
              "       7.19280626e-01, 4.25556807e-01, 9.09288938e-01, 2.15821294e-01,\n",
              "       1.83024157e-01, 7.23184010e-01, 2.37338074e-01, 3.55054935e-01,\n",
              "       8.27166328e-01, 2.60354008e-01, 7.25137112e-01, 2.26680757e-01,\n",
              "       8.87842631e-01, 4.60912619e-01, 9.44552946e-01, 4.31597292e-01,\n",
              "       5.44624378e-01, 2.69721367e-01, 6.52284065e-01, 2.55882423e-01,\n",
              "       8.84453825e-01, 1.30099691e-01, 8.18406555e-01, 9.10895607e-01,\n",
              "       9.40633834e-01, 4.34794706e-01, 2.52863029e-01, 1.62020612e-01,\n",
              "       7.21760845e-01, 7.05185410e-01, 3.83876228e-01, 5.64729360e-01,\n",
              "       9.65346708e-01, 1.98554405e-01, 9.54877007e-01, 2.42401563e-01,\n",
              "       4.71384530e-01, 1.71815532e-01, 5.81456206e-01, 4.99121727e-01,\n",
              "       5.82992100e-01, 6.48975855e-01, 6.07986045e-02, 2.53370448e-01,\n",
              "       4.30110945e-02, 9.15878801e-01, 3.24289264e-01, 5.80705107e-01,\n",
              "       5.47578565e-01, 7.98041232e-01, 5.65689472e-01, 7.83508771e-01,\n",
              "       5.51525844e-01, 6.75675698e-02, 9.98608518e-01, 2.33272852e-01,\n",
              "       8.27894323e-01, 5.55555702e-01, 6.85559563e-01, 7.64720192e-01,\n",
              "       9.81308019e-01, 2.64956188e-01, 3.31682254e-01, 2.88646113e-01,\n",
              "       1.26881687e-02, 6.67697994e-01, 4.76488131e-01, 7.69290071e-02,\n",
              "       8.61988760e-01, 1.35052239e-01, 7.06196704e-01, 7.76548910e-01,\n",
              "       4.95809075e-01, 3.55478454e-01, 4.54522148e-01, 4.32949432e-01,\n",
              "       5.07411390e-01, 3.60676766e-01, 9.49191461e-01, 4.40946796e-01,\n",
              "       2.76970476e-01, 4.74956480e-01, 9.28245631e-01, 4.65513367e-01,\n",
              "       4.79328096e-01, 9.31066337e-01, 2.54840609e-01, 5.01142668e-01,\n",
              "       9.51872506e-02, 9.04734797e-02, 3.90078918e-01, 5.29325165e-01,\n",
              "       4.41330688e-01, 7.72504563e-01, 9.36783927e-01, 5.83391476e-01,\n",
              "       2.39510988e-01, 4.38859510e-01, 6.86977080e-02, 9.02152122e-01,\n",
              "       1.17957436e-01, 1.08232700e-01, 7.39715676e-01, 5.43390590e-01,\n",
              "       9.26936778e-02, 1.03407396e-01, 1.81365670e-01, 7.53151161e-01,\n",
              "       7.45456260e-01, 4.98816887e-01, 4.30559656e-01, 9.46172391e-02,\n",
              "       3.03556550e-01, 8.97040902e-01, 9.02713369e-01, 2.53343691e-01,\n",
              "       3.00518891e-01, 5.69068687e-01, 2.55329823e-01, 6.59652875e-01,\n",
              "       9.56577575e-01, 2.83852552e-02, 5.73057859e-01, 6.22862806e-01,\n",
              "       1.89472333e-01, 9.06057052e-01, 5.29002892e-01, 8.72563786e-01,\n",
              "       3.76101940e-02, 7.39041303e-01, 4.48475639e-01, 6.76559260e-01,\n",
              "       5.82915595e-01, 3.98474484e-01, 6.06927381e-01, 7.62519350e-01,\n",
              "       7.33221060e-01, 3.25731518e-01, 3.88400194e-01, 7.89512890e-01,\n",
              "       9.47090263e-01, 4.54099563e-01, 6.59900044e-01, 7.49314651e-01,\n",
              "       7.05899090e-01, 2.56085269e-01, 7.64063699e-01, 3.76692931e-01,\n",
              "       8.84110852e-01, 1.21748446e-01, 6.14712505e-01, 3.34999683e-01,\n",
              "       8.28613499e-01])"
            ]
          },
          "metadata": {},
          "execution_count": 48
        }
      ]
    },
    {
      "cell_type": "code",
      "source": [
        "patterns_with_clusters = np.zeros((P, 2), dtype=int)\n",
        "\n",
        "for p in range(1000):\n",
        "\n",
        "    distance_vector = np.zeros(M)\n",
        "\n",
        "    # calculate distance of each weight from each input pattern\n",
        "    for j in range(M):\n",
        "        for i in range(N):\n",
        "            distance_vector[j] = distance_vector[j] + (weight[i,j] - X_test[p,i])**2\n",
        "\n",
        "    # find index j such that distance_vector[j] is a minimum\n",
        "    min_distance_index = np.argmin(distance_vector)\n",
        "    \n",
        "    # store pattern index \n",
        "    patterns_with_clusters[p,0] = p\n",
        "    # store cluster number associated with pattern \n",
        "    patterns_with_clusters[p,1] = min_distance_index"
      ],
      "metadata": {
        "id": "qRNnhas7Q5ef"
      },
      "execution_count": 13,
      "outputs": []
    },
    {
      "cell_type": "code",
      "source": [
        "# make an array of clusters size\n",
        "clusters_size = [0 for j in range(M)]\n",
        "clusters_members = [[] for j in range(M)]\n",
        "for p in range(1000):\n",
        "    # increment cluster size by 1\n",
        "    clusters_size[patterns_with_clusters[p,1].astype(int)] = clusters_size[patterns_with_clusters[p,1].astype(int)] + 1"
      ],
      "metadata": {
        "id": "O9XepEJmQ5Q0"
      },
      "execution_count": 38,
      "outputs": []
    },
    {
      "cell_type": "markdown",
      "source": [
        "# **Part2-Optional-1**\n",
        "\n",
        "**Given the diagram of 25 neurons have more than one class.**"
      ],
      "metadata": {
        "id": "0kqSPNKnXVe1"
      }
    },
    {
      "cell_type": "code",
      "source": [
        "import seaborn as sns\n",
        "clusters = np.asarray(clusters_size)\n",
        "# Set position of bar on X axis\n",
        "br1 = np.arange(len(clusters))\n",
        " \n",
        "# Make the plot\n",
        "plt.figure(figsize=(15,10))\n",
        "plt.bar(br1, clusters, color ='r', width = 1,\n",
        "        edgecolor ='grey', label ='IT')"
      ],
      "metadata": {
        "colab": {
          "base_uri": "https://localhost:8080/",
          "height": 609
        },
        "id": "bze8FkglTjE7",
        "outputId": "046908ec-3c52-4c61-cac9-50b449fb852c"
      },
      "execution_count": 42,
      "outputs": [
        {
          "output_type": "execute_result",
          "data": {
            "text/plain": [
              "<BarContainer object of 225 artists>"
            ]
          },
          "metadata": {},
          "execution_count": 42
        },
        {
          "output_type": "display_data",
          "data": {
            "text/plain": [
              "<Figure size 1080x720 with 1 Axes>"
            ],
            "image/png": "[encoded data removed]"
          },
          "metadata": {
            "needs_background": "light"
          }
        }
      ]
    },
    {
      "cell_type": "markdown",
      "source": [
        "# **Part2-Optional-2**\n",
        "**The weight matrix will be as follows: Number of rows = Number of neurons =  15$*$15 and Number of columns = Number of inputs = 28*28) and Network performance will be weak given that R = 0.**\n",
        "\n"
      ],
      "metadata": {
        "id": "T_6O2pWEYyNS"
      }
    },
    {
      "cell_type": "markdown",
      "source": [
        "# **Part 3**"
      ],
      "metadata": {
        "id": "DzuBhazIb6FZ"
      }
    },
    {
      "cell_type": "markdown",
      "source": [
        "**Hyperparameters**"
      ],
      "metadata": {
        "id": "qtOn22D2Gv13"
      }
    },
    {
      "cell_type": "code",
      "source": [
        "# Number of neurons\n",
        "M = 225\n",
        "\n",
        "# Dimension of the input patterns\n",
        "N = X_train.shape[1]\n",
        "\n",
        "# Total number of input patterns\n",
        "P = X_train.shape[0]\n",
        "\n",
        "learning_rate = 0.3\n",
        "\n",
        "R = 3\n",
        "\n",
        "MAX_EPOCHS = 100\n",
        "\n",
        "MAX_WEIGHT_DIFF = 0.0001\n",
        "\n",
        "DECAY_FACTOR = 0.0001\n",
        "\n",
        "RADIUS_REDUCTION_STEP = 200\n",
        "\n",
        "np.set_printoptions(threshold=sys.maxsize)"
      ],
      "metadata": {
        "id": "o7bDXdEZc5a1"
      },
      "execution_count": 5,
      "outputs": []
    },
    {
      "cell_type": "code",
      "source": [
        "initial_weight = np.random.rand(28*28*(15*15)).reshape(28*28, 15*15)\n",
        "\n",
        "# Step 1: Initialization of each node’s weights with a random number between 0 and 1\n",
        "weight = np.copy(initial_weight)\n",
        "#print(\"Initial weights:\")\n",
        "#print(np.around(weight, 2))\n",
        "\n",
        "last_weight = np.copy(weight)\n",
        "weights_history =[]\n",
        "weights_history.append(last_weight)\n",
        "for epoch in range(MAX_EPOCHS):\n",
        "    print(\"\\r\\nEpoch:\", epoch)\n",
        "    print(\"Learning rate:\", np.around(learning_rate, 6))\n",
        "    print(\"Neighborhood radius:\", R)\n",
        "    \n",
        "    # Step 2: Choosing input patterns ordering\n",
        "    # use normal ordering\n",
        "    pattern_ordering = np.arange(P)\n",
        "    # use random ordering\n",
        "    #np.random.shuffle(pattern_ordering)\n",
        "    #print(\"Random input patterns ordering:\", pattern_ordering)\n",
        "    \n",
        "    progress = 0\n",
        "    \n",
        "    # For each input pattern do the steps 3-5\n",
        "    for p in pattern_ordering:\n",
        "        \n",
        "        progress = progress + 1\n",
        "        \n",
        "        #print(\"\\r\\n\\tCurrent pattern index is\", p, \"and\", np.around(progress/P*100, 2), \"% of patterns has been processed in Epoch\", epoch)\n",
        "        \n",
        "        # Step 3: Calculating the Best Matching Unit (BMU)\n",
        "\n",
        "        # initialize distance vector\n",
        "        distance_vector = np.zeros(M)\n",
        "    \n",
        "        # calculate distance of each weight from each input pattern\n",
        "        for j in range(M):\n",
        "            for i in range(N):\n",
        "                distance_vector[j] = distance_vector[j] + (weight[i,j] - X_train[p,i])**2\n",
        "                \n",
        "        #print(\"\\tdistance_vector\", np.around(distance_vector, 2))\n",
        "\n",
        "        # Step 4: find index j such that distance_vector[j] is a minimum\n",
        "        min_distance_index = np.argmin(distance_vector)\n",
        "        \n",
        "        #print(\"\\tmin_distance_index\", min_distance_index)\n",
        "        \n",
        "        # Step 5: Update weights for all units j within a specified neighberhood of min_distance_index and for all i\n",
        "        # calculate neighborhood borders\n",
        "        begin_j = min_distance_index - R\n",
        "        if (begin_j < 0):\n",
        "            begin_j = 0\n",
        "        \n",
        "        end_j = min_distance_index + R\n",
        "        if (end_j > M - 1):\n",
        "            end_j = M - 1\n",
        "            \n",
        "        #print(\"neighberhood\", begin_j, end_j)\n",
        "        \n",
        "        for j in range(begin_j, end_j + 1):\n",
        "            for i in range(N):\n",
        "                weight[i,j] = weight[i,j] + learning_rate * (X_train[p,i] - weight[i,j])\n",
        "\n",
        "    # Step 6: Update learning rate\n",
        "    learning_rate = DECAY_FACTOR * learning_rate\n",
        "\n",
        "    # Step 7: Reduce radius of topological neighborhood at specified times\n",
        "    if R > 0 :\n",
        "            R = R - 1\n",
        "        \n",
        "    # Step 8: Test stopping condition\n",
        "    weight_diff = np.amax(np.abs(weight - last_weight))\n",
        "    \n",
        "    if (weight_diff < MAX_WEIGHT_DIFF):\n",
        "        print(\"Weight change:\", weight_diff, \"<\", MAX_WEIGHT_DIFF)\n",
        "        print(\"Stopping condition is satisfied!\")\n",
        "        break\n",
        "    else:\n",
        "        print(\"Weight change:\", weight_diff, \">\", MAX_WEIGHT_DIFF)\n",
        "    \n",
        "    last_weight = np.copy(weight)\n",
        "    weights_history.append(last_weight)"
      ],
      "metadata": {
        "colab": {
          "base_uri": "https://localhost:8080/"
        },
        "outputId": "a4f6480a-b421-4a3f-f78c-41ee01c149bb",
        "id": "1q466Rshc5a3"
      },
      "execution_count": 6,
      "outputs": [
        {
          "output_type": "stream",
          "name": "stdout",
          "text": [
            "\r\n",
            "Epoch: 0\n",
            "Learning rate: 0.3\n",
            "Neighborhood radius: 3\n",
            "Weight change: 0.9998354951980238 > 0.0001\n",
            "\n",
            "Epoch: 1\n",
            "Learning rate: 3e-05\n",
            "Neighborhood radius: 2\n",
            "Weight change: 0.0025957416211894735 > 0.0001\n",
            "\n",
            "Epoch: 2\n",
            "Learning rate: 0.0\n",
            "Neighborhood radius: 1\n",
            "Weight change: 1.9475723433970415e-07 < 0.0001\n",
            "Stopping condition is satisfied!\n"
          ]
        }
      ]
    },
    {
      "cell_type": "code",
      "source": [
        "patterns_with_clusters = np.zeros((P, 2), dtype=int)\n",
        "\n",
        "for p in range(1000):\n",
        "\n",
        "    distance_vector = np.zeros(M)\n",
        "\n",
        "    # calculate distance of each weight from each input pattern\n",
        "    for j in range(M):\n",
        "        for i in range(N):\n",
        "            distance_vector[j] = distance_vector[j] + (weight[i,j] - X_test[p,i])**2\n",
        "\n",
        "    # find index j such that distance_vector[j] is a minimum\n",
        "    min_distance_index = np.argmin(distance_vector)\n",
        "    \n",
        "    # store pattern index \n",
        "    patterns_with_clusters[p,0] = p\n",
        "    # store cluster number associated with pattern \n",
        "    patterns_with_clusters[p,1] = min_distance_index"
      ],
      "metadata": {
        "id": "jEGtxF5yi5hE"
      },
      "execution_count": 7,
      "outputs": []
    },
    {
      "cell_type": "code",
      "source": [
        "# make an array of clusters size\n",
        "clusters_size = [0 for j in range(M)]\n",
        "clusters_members = [[] for j in range(M)]\n",
        "for p in range(1000):\n",
        "    # increment cluster size by 1\n",
        "    clusters_size[patterns_with_clusters[p,1].astype(int)] = clusters_size[patterns_with_clusters[p,1].astype(int)] + 1"
      ],
      "metadata": {
        "id": "TGZJ1K61i5hG"
      },
      "execution_count": 8,
      "outputs": []
    },
    {
      "cell_type": "markdown",
      "source": [
        "# **Part 3-Optional**"
      ],
      "metadata": {
        "id": "lP7ySwGZG55_"
      }
    },
    {
      "cell_type": "code",
      "source": [
        "import seaborn as sns\n",
        "clusters = np.asarray(clusters_size)\n",
        "# Set position of bar on X axis\n",
        "br1 = np.arange(len(clusters))\n",
        "\n",
        "# Make the plot\n",
        "plt.figure(figsize=(15,10))\n",
        "plt.bar(br1, clusters, color ='r', width = 1,\n",
        "        edgecolor ='grey', label ='IT')"
      ],
      "metadata": {
        "colab": {
          "base_uri": "https://localhost:8080/",
          "height": 609
        },
        "outputId": "6722ee50-a242-43f6-ff02-248fba8356ad",
        "id": "qZDUIDnQi5hH"
      },
      "execution_count": 9,
      "outputs": [
        {
          "output_type": "execute_result",
          "data": {
            "text/plain": [
              "<BarContainer object of 225 artists>"
            ]
          },
          "metadata": {},
          "execution_count": 9
        },
        {
          "output_type": "display_data",
          "data": {
            "text/plain": [
              "<Figure size 1080x720 with 1 Axes>"
            ],
            "image/png": "[encoded data removed]"
          },
          "metadata": {
            "needs_background": "light"
          }
        }
      ]
    },
    {
      "cell_type": "markdown",
      "source": [
        "# **Part 4**\n",
        "\n",
        "**Yes the recovery has been achieved. As we can see, it is more suitable than part b, the number of the classes to neurons, and the number of neurons that has been mapped to more than one class has decreased.**\n",
        "\n",
        "**When we use variable neighborhood radius, our calculations for a neuron such as X are compared to all neurons, not just its neighbors, and therefore we get a desirable result.**"
      ],
      "metadata": {
        "id": "wPZKW-SdCiFM"
      }
    }
  ],
  "metadata": {
    "kernelspec": {
      "display_name": "Python 3",
      "language": "python",
      "name": "python3"
    },
    "language_info": {
      "codemirror_mode": {
        "name": "ipython",
        "version": 3
      },
      "file_extension": ".py",
      "mimetype": "text/x-python",
      "name": "python",
      "nbconvert_exporter": "python",
      "pygments_lexer": "ipython3",
      "version": "3.6.10"
    },
    "colab": {
      "name": "SOM.ipynb",
      "provenance": [],
      "collapsed_sections": []
    }
  },
  "nbformat": 4,
  "nbformat_minor": 0
}