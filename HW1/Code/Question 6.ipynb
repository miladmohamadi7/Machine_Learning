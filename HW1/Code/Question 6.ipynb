{
 "cells": [
  {
   "cell_type": "code",
   "execution_count": 1,
   "id": "42f49cb0",
   "metadata": {},
   "outputs": [],
   "source": [
    "import cv2\n",
    "import numpy\n",
    "import matplotlib.pyplot as plt\n",
    "from os import listdir"
   ]
  },
  {
   "cell_type": "code",
   "execution_count": 2,
   "id": "404431b3",
   "metadata": {},
   "outputs": [],
   "source": [
    "def read_files(path = \"D:\\ML\\ML_HW1\\Data\\image/Images/\"):\n",
    "    blue = [path + f for f in listdir(path) if f[0] == \"c\"]\n",
    "    red = [path + f for f in listdir(path) if f[0] == \"m\"]\n",
    "    return red , blue\n",
    "\n",
    "#calculate the averege of one image\n",
    "def average_image_color(img , remove_green = False):\n",
    "    avg_color_per_row = numpy.average(img, axis=0)\n",
    "    avg_color = numpy.average(avg_color_per_row, axis=0)\n",
    "    if remove_green:\n",
    "        return (avg_color[0],avg_color[2])\n",
    "    return tuple(avg_color)\n",
    "\n",
    "#return a list that contain average of images\n",
    "def get_averages(images:list, return_type = \"list\" , remove_green = False ):\n",
    "    averages_list = []\n",
    "    if return_type == \"list\":\n",
    "        for i in images:\n",
    "            image = cv2.imread(i)\n",
    "            averages_list.append(average_image_color(image , remove_green))\n",
    "    return averages_list"
   ]
  },
  {
   "cell_type": "code",
   "execution_count": 3,
   "id": "ba265515",
   "metadata": {},
   "outputs": [],
   "source": [
    "blue , red = read_files()\n",
    "chel_averages = get_averages(blue , remove_green = True)\n",
    "man_averages = get_averages(red , remove_green = True)"
   ]
  },
  {
   "cell_type": "code",
   "execution_count": 4,
   "id": "2d22fef4",
   "metadata": {},
   "outputs": [],
   "source": [
    "x1,y1 = [],[]\n",
    "for i in range(len(chel_averages)):\n",
    "    x1.append(man_averages[i][0])\n",
    "    y1.append(man_averages[i][1])\n",
    "x2,y2 = [],[]\n",
    "for i in range(len(chel_averages)):\n",
    "    x2.append(chel_averages[i][0])\n",
    "    y2.append(chel_averages[i][1])  "
   ]
  },
  {
   "cell_type": "code",
   "execution_count": 5,
   "id": "4cda4ca9",
   "metadata": {},
   "outputs": [
    {
     "data": {
      "text/plain": [
       "<matplotlib.collections.PathCollection at 0x1f425b95ee0>"
      ]
     },
     "execution_count": 5,
     "metadata": {},
     "output_type": "execute_result"
    },
    {
     "data": {
      "image/png": "[encoded data removed]",
      "text/plain": [
       "<Figure size 432x288 with 1 Axes>"
      ]
     },
     "metadata": {
      "needs_background": "light"
     },
     "output_type": "display_data"
    }
   ],
   "source": [
    "plt.scatter(x1,y1, c='red')\n",
    "plt.scatter(x2,y2, c='blue')"
   ]
  },
  {
   "cell_type": "code",
   "execution_count": 6,
   "id": "996d8f8a",
   "metadata": {},
   "outputs": [],
   "source": [
    "red_to_blue_ratio_c = [i[0]/i[1] for i in chel_averages]\n",
    "red_to_blue_ratio_m = [i[0]/i[1] for i in man_averages]\n",
    "red_to_blue_ratio_all = red_to_blue_ratio_c + red_to_blue_ratio_m"
   ]
  },
  {
   "cell_type": "code",
   "execution_count": 7,
   "id": "5e23b003",
   "metadata": {},
   "outputs": [],
   "source": [
    "#0.8924657649531078\n",
    "average_red_blue_ratio = sum(red_to_blue_ratio_all)/len(red_to_blue_ratio_all)\n",
    "\n",
    "true_chelsea =  [i for i in red_to_blue_ratio_c if i < average_red_blue_ratio]\n",
    "false_man =  [i for i in red_to_blue_ratio_c if i > average_red_blue_ratio]\n",
    "\n",
    "true_man =  [i for i in red_to_blue_ratio_m if i > average_red_blue_ratio]\n",
    "false_chelsea =  [i for i in red_to_blue_ratio_m if i < average_red_blue_ratio]"
   ]
  },
  {
   "cell_type": "code",
   "execution_count": 8,
   "id": "e847e87f",
   "metadata": {},
   "outputs": [],
   "source": [
    "TP = len(true_chelsea)\n",
    "FP = len(false_chelsea)\n",
    "\n",
    "TN = len(true_man)\n",
    "FN = len(false_man)"
   ]
  },
  {
   "cell_type": "code",
   "execution_count": 9,
   "id": "5e3cf4a7",
   "metadata": {},
   "outputs": [],
   "source": [
    "Accuracy = (TP + TN) / (TP + TN + FP + FN)\n",
    "Precision = TP / (TP + FP)\n",
    "Recall = TP/ (TP + FN)"
   ]
  },
  {
   "cell_type": "code",
   "execution_count": 10,
   "id": "4045dd91",
   "metadata": {},
   "outputs": [
    {
     "name": "stdout",
     "output_type": "stream",
     "text": [
      "Accuracy of our model 0.9098360655737705\n",
      "Precision of our model 0.873015873015873\n",
      "Recall of our model 0.9482758620689655\n"
     ]
    }
   ],
   "source": [
    "print('Accuracy of our model', Accuracy)\n",
    "print('Precision of our model', Precision)\n",
    "print('Recall of our model', Recall)"
   ]
  }
 ],
 "metadata": {
  "kernelspec": {
   "display_name": "Python 3 (ipykernel)",
   "language": "python",
   "name": "python3"
  },
  "language_info": {
   "codemirror_mode": {
    "name": "ipython",
    "version": 3
   },
   "file_extension": ".py",
   "mimetype": "text/x-python",
   "name": "python",
   "nbconvert_exporter": "python",
   "pygments_lexer": "ipython3",
   "version": "3.9.7"
  }
 },
 "nbformat": 4,
 "nbformat_minor": 5
}
