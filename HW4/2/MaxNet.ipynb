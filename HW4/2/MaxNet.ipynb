{
  "cells": [
    {
      "cell_type": "markdown",
      "source": [
        "# **Part 1**\n",
        "\n",
        "**If all the numbers are larger than β that is a real number, and want to find the biggest of them by the Maxnet network, it is enough to obtain the difference between these numbers with the real number and give the numbers to the network. In other words, if A is one of the numbers in this collection, we give the Maxnet network B = A - β and do this on the rest of the numbers as well.**"
      ],
      "metadata": {
        "id": "jqUN7XQZKGYM"
      }
    },
    {
      "cell_type": "code",
      "source": [
        "import numpy as np\n",
        "\n",
        "input = np.array([1.2, 1.1, 1, 0.9, 0.95, 1.15])\n",
        "eps = 0.15\n",
        "np.set_printoptions(formatter={'float': '{: 0.3f}'.format})"
      ],
      "metadata": {
        "id": "JqaaMc-fhZiH"
      },
      "execution_count": 1,
      "outputs": []
    },
    {
      "cell_type": "code",
      "source": [
        "def activation_function(x):\n",
        "  for i in range(0, len(x)):\n",
        "        if x[i] < 0.0:\n",
        "            x[i] = 0.0\n",
        "        else:\n",
        "            x[i] = x[i]\n",
        "  return x"
      ],
      "metadata": {
        "id": "D3qLi3hnIT6c"
      },
      "execution_count": 2,
      "outputs": []
    },
    {
      "cell_type": "code",
      "source": [
        "def MaxNet_Matrix(m=6, eps=0.15):\n",
        "    matrix = np.full((m, m), -1*(eps))\n",
        "    np.fill_diagonal(matrix, 1)\n",
        "    return matrix"
      ],
      "metadata": {
        "id": "Dj0B_aO6IT2d"
      },
      "execution_count": 3,
      "outputs": []
    },
    {
      "cell_type": "code",
      "source": [
        "def MaxNet(data, eps):\n",
        "    a_old = data.copy()\n",
        "    maxnet_mat = MaxNet_Matrix(m=6, eps=eps)\n",
        "    num_non_zero = 0\n",
        "    i = 0\n",
        "    while num_non_zero!=1:\n",
        "        temp_data = np.inner(maxnet_mat, a_old)\n",
        "        a_new = activation_function(temp_data)\n",
        "        print(\"Epoch {0}:===> {1}\".format(i+1, a_new))\n",
        "        print('----------------------------------')\n",
        "        num_non_zero = np.count_nonzero(a_new)\n",
        "        a_old = a_new\n",
        "        if num_non_zero == 1:\n",
        "            break\n",
        "        i+=1\n",
        "\n",
        "    out_tpl = np.nonzero(a_new)\n",
        "    print(\"Index of the Max Element :=> \", out_tpl[0].item())\n",
        "    print(\"The Value of the Max element is :=> \", data[out_tpl[0].item()])\n",
        "\n",
        "MaxNet(data=input, eps=eps)"
      ],
      "metadata": {
        "colab": {
          "base_uri": "https://localhost:8080/"
        },
        "id": "aEXuFTJYITwO",
        "outputId": "18f5db26-74a1-4143-eea6-90adaddaef6a"
      },
      "execution_count": 4,
      "outputs": [
        {
          "output_type": "stream",
          "name": "stdout",
          "text": [
            "Epoch 1:===> [ 0.435  0.320  0.205  0.090  0.147  0.377]\n",
            "----------------------------------\n",
            "Epoch 2:===> [ 0.264  0.132  0.000  0.000  0.000  0.198]\n",
            "----------------------------------\n",
            "Epoch 3:===> [ 0.215  0.062  0.000  0.000  0.000  0.139]\n",
            "----------------------------------\n",
            "Epoch 4:===> [ 0.184  0.010  0.000  0.000  0.000  0.097]\n",
            "----------------------------------\n",
            "Epoch 5:===> [ 0.168  0.000  0.000  0.000  0.000  0.068]\n",
            "----------------------------------\n",
            "Epoch 6:===> [ 0.158  0.000  0.000  0.000  0.000  0.043]\n",
            "----------------------------------\n",
            "Epoch 7:===> [ 0.152  0.000  0.000  0.000  0.000  0.019]\n",
            "----------------------------------\n",
            "Epoch 8:===> [ 0.149  0.000  0.000  0.000  0.000  0.000]\n",
            "----------------------------------\n",
            "Index of the Max Element :=>  0\n",
            "The Value of the Max element is :=>  1.2\n"
          ]
        }
      ]
    },
    {
      "cell_type": "markdown",
      "source": [
        "# **Part 2**\n",
        "**To be able to arrange a set of numbers from large to small by the Maxnet network, we can use this network as a circulation.\n",
        "This way, each time it runs through the remaining numbers, the largest number is found and the numbers can be arranged from large to small. The largest number was found in part one. Now at each step we remove the largest number from the input numbers and find the largest number between the remaining numbers.**\n"
      ],
      "metadata": {
        "id": "scpuI4RZKkQG"
      }
    },
    {
      "cell_type": "code",
      "source": [
        "def MaxNetDescending(data, eps):\n",
        "    sorted_array = []\n",
        "    m = len(data)\n",
        "    a_old = data.copy()\n",
        "    data1 = data.copy()\n",
        "    maxnet_mat = MaxNet_Matrix(m=m, eps=eps)\n",
        "    num_non_zero = 0\n",
        "    i = 0\n",
        "    for i in range(0, m):\n",
        "        a_old = data1.copy()\n",
        "        num_non_zero = 0\n",
        "        i = 0\n",
        "        while num_non_zero!=1:\n",
        "            temp_data = np.inner(maxnet_mat, a_old)\n",
        "            a_new = activation_function(temp_data)\n",
        "            print(\"Epoch {0}:===> {1}\".format(i+1, a_new))\n",
        "            print('---------------------------------')\n",
        "            num_non_zero = np.count_nonzero(a_new)\n",
        "            a_old = a_new\n",
        "            if num_non_zero == 1 or num_non_zero==0:\n",
        "                break\n",
        "            i+=1\n",
        "\n",
        "        out_tpl = np.nonzero(a_new)\n",
        "        print(\"Index of the Max Element :=> \", out_tpl[0].item())\n",
        "        print(\"The Value of the Max element is :=> \", data1[out_tpl[0].item()])\n",
        "        sorted_array.append(data1[out_tpl[0].item()])\n",
        "        data1[out_tpl[0].item()] = 0\n",
        "        print('----------------------------')\n",
        "    print(\"Entered Vector :=> \", data)\n",
        "    print(\"Final Sorted Descending Array :=> \", sorted_array)\n",
        "\n",
        "\n",
        "MaxNetDescending(data=input, eps=eps)"
      ],
      "metadata": {
        "colab": {
          "base_uri": "https://localhost:8080/"
        },
        "id": "aYg3umfEiIB5",
        "outputId": "3ac42d23-e819-40bd-cb9d-67d51288cc54"
      },
      "execution_count": 5,
      "outputs": [
        {
          "output_type": "stream",
          "name": "stdout",
          "text": [
            "Epoch 1:===> [ 0.435  0.320  0.205  0.090  0.147  0.377]\n",
            "---------------------------------\n",
            "Epoch 2:===> [ 0.264  0.132  0.000  0.000  0.000  0.198]\n",
            "---------------------------------\n",
            "Epoch 3:===> [ 0.215  0.062  0.000  0.000  0.000  0.139]\n",
            "---------------------------------\n",
            "Epoch 4:===> [ 0.184  0.010  0.000  0.000  0.000  0.097]\n",
            "---------------------------------\n",
            "Epoch 5:===> [ 0.168  0.000  0.000  0.000  0.000  0.068]\n",
            "---------------------------------\n",
            "Epoch 6:===> [ 0.158  0.000  0.000  0.000  0.000  0.043]\n",
            "---------------------------------\n",
            "Epoch 7:===> [ 0.152  0.000  0.000  0.000  0.000  0.019]\n",
            "---------------------------------\n",
            "Epoch 8:===> [ 0.149  0.000  0.000  0.000  0.000  0.000]\n",
            "---------------------------------\n",
            "Index of the Max Element :=>  0\n",
            "The Value of the Max element is :=>  1.2\n",
            "----------------------------\n",
            "Epoch 1:===> [ 0.000  0.500  0.385  0.270  0.327  0.557]\n",
            "---------------------------------\n",
            "Epoch 2:===> [ 0.000  0.269  0.137  0.005  0.071  0.335]\n",
            "---------------------------------\n",
            "Epoch 3:===> [ 0.000  0.187  0.035  0.000  0.000  0.263]\n",
            "---------------------------------\n",
            "Epoch 4:===> [ 0.000  0.142  0.000  0.000  0.000  0.230]\n",
            "---------------------------------\n",
            "Epoch 5:===> [ 0.000  0.108  0.000  0.000  0.000  0.208]\n",
            "---------------------------------\n",
            "Epoch 6:===> [ 0.000  0.077  0.000  0.000  0.000  0.192]\n",
            "---------------------------------\n",
            "Epoch 7:===> [ 0.000  0.048  0.000  0.000  0.000  0.181]\n",
            "---------------------------------\n",
            "Epoch 8:===> [ 0.000  0.021  0.000  0.000  0.000  0.174]\n",
            "---------------------------------\n",
            "Epoch 9:===> [ 0.000  0.000  0.000  0.000  0.000  0.170]\n",
            "---------------------------------\n",
            "Index of the Max Element :=>  5\n",
            "The Value of the Max element is :=>  1.15\n",
            "----------------------------\n",
            "Epoch 1:===> [ 0.000  0.673  0.557  0.443  0.500  0.000]\n",
            "---------------------------------\n",
            "Epoch 2:===> [ 0.000  0.448  0.315  0.183  0.249  0.000]\n",
            "---------------------------------\n",
            "Epoch 3:===> [ 0.000  0.335  0.183  0.031  0.107  0.000]\n",
            "---------------------------------\n",
            "Epoch 4:===> [ 0.000  0.287  0.112  0.000  0.025  0.000]\n",
            "---------------------------------\n",
            "Epoch 5:===> [ 0.000  0.267  0.065  0.000  0.000  0.000]\n",
            "---------------------------------\n",
            "Epoch 6:===> [ 0.000  0.257  0.025  0.000  0.000  0.000]\n",
            "---------------------------------\n",
            "Epoch 7:===> [ 0.000  0.253  0.000  0.000  0.000  0.000]\n",
            "---------------------------------\n",
            "Index of the Max Element :=>  1\n",
            "The Value of the Max element is :=>  1.1\n",
            "----------------------------\n",
            "Epoch 1:===> [ 0.000  0.000  0.723  0.608  0.665  0.000]\n",
            "---------------------------------\n",
            "Epoch 2:===> [ 0.000  0.000  0.532  0.399  0.465  0.000]\n",
            "---------------------------------\n",
            "Epoch 3:===> [ 0.000  0.000  0.402  0.250  0.326  0.000]\n",
            "---------------------------------\n",
            "Epoch 4:===> [ 0.000  0.000  0.316  0.141  0.228  0.000]\n",
            "---------------------------------\n",
            "Epoch 5:===> [ 0.000  0.000  0.260  0.059  0.160  0.000]\n",
            "---------------------------------\n",
            "Epoch 6:===> [ 0.000  0.000  0.227  0.000  0.112  0.000]\n",
            "---------------------------------\n",
            "Epoch 7:===> [ 0.000  0.000  0.211  0.000  0.078  0.000]\n",
            "---------------------------------\n",
            "Epoch 8:===> [ 0.000  0.000  0.199  0.000  0.046  0.000]\n",
            "---------------------------------\n",
            "Epoch 9:===> [ 0.000  0.000  0.192  0.000  0.016  0.000]\n",
            "---------------------------------\n",
            "Epoch 10:===> [ 0.000  0.000  0.190  0.000  0.000  0.000]\n",
            "---------------------------------\n",
            "Index of the Max Element :=>  2\n",
            "The Value of the Max element is :=>  1.0\n",
            "----------------------------\n",
            "Epoch 1:===> [ 0.000  0.000  0.000  0.758  0.815  0.000]\n",
            "---------------------------------\n",
            "Epoch 2:===> [ 0.000  0.000  0.000  0.635  0.701  0.000]\n",
            "---------------------------------\n",
            "Epoch 3:===> [ 0.000  0.000  0.000  0.530  0.606  0.000]\n",
            "---------------------------------\n",
            "Epoch 4:===> [ 0.000  0.000  0.000  0.439  0.527  0.000]\n",
            "---------------------------------\n",
            "Epoch 5:===> [ 0.000  0.000  0.000  0.360  0.461  0.000]\n",
            "---------------------------------\n",
            "Epoch 6:===> [ 0.000  0.000  0.000  0.291  0.407  0.000]\n",
            "---------------------------------\n",
            "Epoch 7:===> [ 0.000  0.000  0.000  0.230  0.363  0.000]\n",
            "---------------------------------\n",
            "Epoch 8:===> [ 0.000  0.000  0.000  0.176  0.329  0.000]\n",
            "---------------------------------\n",
            "Epoch 9:===> [ 0.000  0.000  0.000  0.126  0.302  0.000]\n",
            "---------------------------------\n",
            "Epoch 10:===> [ 0.000  0.000  0.000  0.081  0.283  0.000]\n",
            "---------------------------------\n",
            "Epoch 11:===> [ 0.000  0.000  0.000  0.038  0.271  0.000]\n",
            "---------------------------------\n",
            "Epoch 12:===> [ 0.000  0.000  0.000  0.000  0.265  0.000]\n",
            "---------------------------------\n",
            "Index of the Max Element :=>  4\n",
            "The Value of the Max element is :=>  0.95\n",
            "----------------------------\n",
            "Epoch 1:===> [ 0.000  0.000  0.000  0.900  0.000  0.000]\n",
            "---------------------------------\n",
            "Index of the Max Element :=>  3\n",
            "The Value of the Max element is :=>  0.9\n",
            "----------------------------\n",
            "Entered Vector :=>  [ 1.200  1.100  1.000  0.900  0.950  1.150]\n",
            "Final Sorted Descending Array :=>  [1.2, 1.15, 1.1, 1.0, 0.95, 0.9]\n"
          ]
        }
      ]
    },
    {
      "cell_type": "markdown",
      "source": [
        "# **Part 3**\n",
        "\n",
        "**In order to arrange the numbers by the Maxnet network from small to large, we first negate the numbers. Then we change the negative numbers by answering the first question. In other words, by this method we convert negative numbers into positive numbers. Now, by the Maxnet network, we arrange the set of numbers from large to small with the method of second question. The numbers are arranged from large to small, the small arranged to large raw numbers. To convert numbers into their original form, reduce the positive value of each and then negate each. Now we see that raw numbers are arranged from small to large**"
      ],
      "metadata": {
        "id": "sCbSlzlHKkFO"
      }
    },
    {
      "cell_type": "code",
      "source": [
        "def MaxNetAscending(data, eps):\n",
        "    a_old = data.copy()\n",
        "    data1 = data.copy()\n",
        "    maxnet_mat = MaxNet_Matrix(m=6, eps=eps)\n",
        "    num_non_zero = 0\n",
        "    i = 0\n",
        "    all_zeros = np.array([], dtype=int)\n",
        "    while num_non_zero!=1:\n",
        "        temp_data = np.inner(maxnet_mat, a_old)\n",
        "        a_new = activation_function(temp_data)\n",
        "        print(\"Epoch {0}:===> {1}\".format(i+1, a_new))\n",
        "        print(\"-------------------------------\")\n",
        "        num_non_zero = np.count_nonzero(a_new)\n",
        "        zeros = np.argwhere(a_new == 0).reshape(-1)\n",
        "        zeros_diff = np.setdiff1d(zeros, all_zeros)\n",
        "        all_zeros = np.append(all_zeros, zeros_diff)\n",
        "        a_old = a_new\n",
        "        if num_non_zero == 1:\n",
        "            break\n",
        "        i+=1\n",
        "\n",
        "    out_tpl = np.nonzero(a_new)\n",
        "    all_zeros = np.append(all_zeros, out_tpl[0].item())\n",
        "    print(\"The Entered Vector :=> \", data)\n",
        "    print(\"The Ascending Sorted Vector :=> \", data[all_zeros])\n",
        "\n",
        "\n",
        "MaxNetAscending(data=input, eps=0.09)"
      ],
      "metadata": {
        "colab": {
          "base_uri": "https://localhost:8080/"
        },
        "id": "N0z0cvM6m0Mu",
        "outputId": "4c086f02-91fb-41ea-e12d-223a283c805b"
      },
      "execution_count": 7,
      "outputs": [
        {
          "output_type": "stream",
          "name": "stdout",
          "text": [
            "Epoch 1:===> [ 0.741  0.632  0.523  0.414  0.468  0.686]\n",
            "-------------------------------\n",
            "Epoch 2:===> [ 0.496  0.377  0.258  0.139  0.199  0.436]\n",
            "-------------------------------\n",
            "Epoch 3:===> [ 0.369  0.239  0.110  0.000  0.045  0.304]\n",
            "-------------------------------\n",
            "Epoch 4:===> [ 0.306  0.165  0.024  0.000  0.000  0.235]\n",
            "-------------------------------\n",
            "Epoch 5:===> [ 0.268  0.114  0.000  0.000  0.000  0.191]\n",
            "-------------------------------\n",
            "Epoch 6:===> [ 0.240  0.073  0.000  0.000  0.000  0.157]\n",
            "-------------------------------\n",
            "Epoch 7:===> [ 0.220  0.037  0.000  0.000  0.000  0.128]\n",
            "-------------------------------\n",
            "Epoch 8:===> [ 0.205  0.006  0.000  0.000  0.000  0.105]\n",
            "-------------------------------\n",
            "Epoch 9:===> [ 0.195  0.000  0.000  0.000  0.000  0.086]\n",
            "-------------------------------\n",
            "Epoch 10:===> [ 0.187  0.000  0.000  0.000  0.000  0.069]\n",
            "-------------------------------\n",
            "Epoch 11:===> [ 0.181  0.000  0.000  0.000  0.000  0.052]\n",
            "-------------------------------\n",
            "Epoch 12:===> [ 0.176  0.000  0.000  0.000  0.000  0.036]\n",
            "-------------------------------\n",
            "Epoch 13:===> [ 0.173  0.000  0.000  0.000  0.000  0.020]\n",
            "-------------------------------\n",
            "Epoch 14:===> [ 0.171  0.000  0.000  0.000  0.000  0.004]\n",
            "-------------------------------\n",
            "Epoch 15:===> [ 0.171  0.000  0.000  0.000  0.000  0.000]\n",
            "-------------------------------\n",
            "The Entered Vector :=>  [ 1.200  1.100  1.000  0.900  0.950  1.150]\n",
            "The Ascending Sorted Vector :=>  [ 0.900  0.950  1.000  1.100  1.150  1.200]\n"
          ]
        }
      ]
    }
  ],
  "metadata": {
    "kernelspec": {
      "display_name": "Python 3",
      "language": "python",
      "name": "python3"
    },
    "language_info": {
      "codemirror_mode": {
        "name": "ipython",
        "version": 3
      },
      "file_extension": ".py",
      "mimetype": "text/x-python",
      "name": "python",
      "nbconvert_exporter": "python",
      "pygments_lexer": "ipython3",
      "version": "3.6.10"
    },
    "colab": {
      "name": "MaxNet.ipynb",
      "provenance": [],
      "collapsed_sections": []
    }
  },
  "nbformat": 4,
  "nbformat_minor": 0
}