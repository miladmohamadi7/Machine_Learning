{
  "cells": [
    {
      "cell_type": "code",
      "execution_count": null,
      "metadata": {
        "id": "FkgtOYsy4BLi"
      },
      "outputs": [],
      "source": [
        "import cv2\n",
        "import time\n",
        "import tensorflow\n",
        "import numpy as np\n",
        "from tensorflow import keras\n",
        "import matplotlib.pyplot as plt\n",
        "from keras.utils import np_utils\n",
        "from sklearn.preprocessing import MinMaxScaler\n",
        "from keras.datasets import cifar10\n",
        "from tensorflow.keras.models import Sequential\n",
        "from tensorflow.keras.optimizers import SGD, Adam\n",
        "from tensorflow.keras.utils import to_categorical , plot_model\n",
        "from sklearn.metrics import confusion_matrix, ConfusionMatrixDisplay, precision_score, recall_score, f1_score\n",
        "from tensorflow.keras.layers import Dense, Dropout, Activation, Flatten"
      ]
    },
    {
      "cell_type": "code",
      "execution_count": null,
      "metadata": {
        "id": "jMXhokGI4Nb0"
      },
      "outputs": [],
      "source": [
        "(X_train, y_train), (X_test, y_test) = cifar10.load_data()"
      ]
    },
    {
      "cell_type": "markdown",
      "metadata": {
        "id": "TvLQZxcKy4We"
      },
      "source": [
        "Display 10 images of X_train"
      ]
    },
    {
      "cell_type": "code",
      "execution_count": null,
      "metadata": {
        "id": "tiQRDF2c4NYQ"
      },
      "outputs": [],
      "source": [
        "labels = ['plane', 'car', 'bird', 'cat', 'deer', 'dog', 'frog', 'horse', 'ship', 'truck']\n",
        "fig, axes = plt.subplots(ncols=5, nrows=2)\n",
        "index = 0\n",
        "for i in range(2):\n",
        "    for j in range(5):\n",
        "        axes[i,j].set_title(labels[y_train[index][0]])\n",
        "        axes[i,j].imshow(X_train[index])\n",
        "        axes[i,j].get_xaxis().set_visible(False)\n",
        "        axes[i,j].get_yaxis().set_visible(False)\n",
        "        index += 1\n",
        "plt.show()"
      ]
    },
    {
      "cell_type": "markdown",
      "metadata": {
        "id": "f-mcS2oWz2VD"
      },
      "source": [
        "Convert both X_train and X_test to grayscale"
      ]
    },
    {
      "cell_type": "code",
      "execution_count": null,
      "metadata": {
        "id": "XC4uiVqP4NS2"
      },
      "outputs": [],
      "source": [
        "X_train = np.array([cv2.cvtColor(image, cv2.COLOR_BGR2GRAY) for image in X_train])\n",
        "X_test = np.array([cv2.cvtColor(image, cv2.COLOR_BGR2GRAY) for image in X_test])"
      ]
    },
    {
      "cell_type": "markdown",
      "metadata": {
        "id": "nRercMeg0Gg0"
      },
      "source": [
        "Value normalization"
      ]
    },
    {
      "cell_type": "code",
      "execution_count": null,
      "metadata": {
        "id": "6u1zmD-RRL_p"
      },
      "outputs": [],
      "source": [
        "X_train  = X_train/255\n",
        "X_test  = X_test/255"
      ]
    },
    {
      "cell_type": "markdown",
      "metadata": {
        "id": "BYnnApJ10NZB"
      },
      "source": [
        "Defining input shape"
      ]
    },
    {
      "cell_type": "code",
      "execution_count": null,
      "metadata": {
        "id": "Zfmmxhjeuwtn"
      },
      "outputs": [],
      "source": [
        "X_train = X_train.reshape(50000,1024)\n",
        "X_test = X_test.reshape(10000,1024)"
      ]
    },
    {
      "cell_type": "markdown",
      "metadata": {
        "id": "IJYSILBE0YLY"
      },
      "source": [
        "Label preprocessing"
      ]
    },
    {
      "cell_type": "code",
      "execution_count": null,
      "metadata": {
        "id": "Jqq4LrhwSzuV"
      },
      "outputs": [],
      "source": [
        "y_train = to_categorical(y_train, 10)\n",
        "y_test = to_categorical(y_test, 10)"
      ]
    },
    {
      "cell_type": "markdown",
      "metadata": {
        "id": "NZQvMqwt1f5Z"
      },
      "source": [
        "Constructing MLP model"
      ]
    },
    {
      "cell_type": "code",
      "execution_count": null,
      "metadata": {
        "id": "VkzBUdz24NDZ"
      },
      "outputs": [],
      "source": [
        "def make_network():\n",
        "  network = Sequential()\n",
        "  network.add(Dense(256, activation = 'relu', input_shape = (1024, )))\n",
        "  network.add(Dense(128, activation= 'relu'))\n",
        "  network.add(Dense(64, activation= 'relu'))\n",
        "  # network.add(Dense(32, activation= 'relu'))\n",
        "  # network.add(Dense(16, activation= 'relu'))\n",
        "  network.add(Dense(10, activation = 'softmax'))\n",
        "  network.compile(loss = 'categorical_crossentropy', optimizer = keras.optimizers.RMSprop(learning_rate = 0.001), metrics= ['accuracy'])\n",
        "  return network"
      ]
    },
    {
      "cell_type": "code",
      "execution_count": null,
      "metadata": {
        "id": "xCp3oh4c_d82"
      },
      "outputs": [],
      "source": [
        "t1 = time.time()\n",
        "network =make_network()\n",
        "t2 = time.time()"
      ]
    },
    {
      "cell_type": "markdown",
      "metadata": {
        "id": "04Zu9YOk1_kv"
      },
      "source": [
        "Architecture of network"
      ]
    },
    {
      "cell_type": "code",
      "execution_count": null,
      "metadata": {
        "id": "9AzJCB95hkGI"
      },
      "outputs": [],
      "source": [
        "plot_model(network, to_file='model_plot.png', show_shapes=True, show_layer_names=True)"
      ]
    },
    {
      "cell_type": "markdown",
      "metadata": {
        "id": "r-40E9492RN3"
      },
      "source": [
        "Model training"
      ]
    },
    {
      "cell_type": "code",
      "execution_count": null,
      "metadata": {
        "id": "RYntHNN3CyJD"
      },
      "outputs": [],
      "source": [
        "history = network.fit(X_train, y_train,batch_size=32,epochs=50,validation_split = 0.1)"
      ]
    },
    {
      "cell_type": "markdown",
      "metadata": {
        "id": "GUZx6FaD2W7P"
      },
      "source": [
        "Model evaluation"
      ]
    },
    {
      "cell_type": "code",
      "execution_count": null,
      "metadata": {
        "id": "X9SzOKUuT3zz"
      },
      "outputs": [],
      "source": [
        "loss_plt = plt.figure(figsize = (10, 10))\n",
        "plt.plot(history.history['accuracy'])\n",
        "plt.plot(history.history[\"val_accuracy\"])\n",
        "plt.title('model accuracy')\n",
        "plt.ylabel('accuracy')\n",
        "plt.xlabel('epoch')\n",
        "plt.legend([\"Train accuracy\", \"Validation accuracy\"])\n",
        "plt.show()"
      ]
    },
    {
      "cell_type": "markdown",
      "metadata": {
        "id": "u1R34ddq2Ye4"
      },
      "source": [
        "Model evaluation"
      ]
    },
    {
      "cell_type": "code",
      "execution_count": null,
      "metadata": {
        "id": "nW8GaghJUAcO"
      },
      "outputs": [],
      "source": [
        "loss_plt = plt.figure(figsize = (10, 10))\n",
        "plt.plot(history.history['loss'])\n",
        "plt.plot(history.history[\"val_loss\"])\n",
        "plt.title('model loss')\n",
        "plt.ylabel('loss')\n",
        "plt.xlabel('epoch')\n",
        "plt.legend([\"Train loss\", \"Validation loss\"])\n",
        "plt.show()"
      ]
    },
    {
      "cell_type": "markdown",
      "metadata": {
        "id": "Rl3Gsk7A3L1T"
      },
      "source": [
        "recall,precision,f1_score"
      ]
    },
    {
      "cell_type": "code",
      "execution_count": null,
      "metadata": {
        "id": "1LD2fQbsDdQ4"
      },
      "outputs": [],
      "source": [
        "real_label = np.argmax(y_test, axis = 1)\n",
        "predicted_label = np.argmax(network.predict(X_test), axis = 1)\n",
        "recall = recall_score(real_label, predicted_label, average='micro')\n",
        "precision = precision_score(real_label, predicted_label,average='macro')\n",
        "f1 = f1_score(real_label, predicted_label,average='macro')\n",
        "print(\"recall is :\" , recall )\n",
        "print(\"precision is :\" , precision )\n",
        "print(\"f1 is :\",f1)\n"
      ]
    },
    {
      "cell_type": "markdown",
      "source": [
        "Loss and Accuracy in test data, Training time"
      ],
      "metadata": {
        "id": "-jovwEmowNOf"
      }
    },
    {
      "cell_type": "code",
      "execution_count": null,
      "metadata": {
        "id": "_s6lwz0KPvxA"
      },
      "outputs": [],
      "source": [
        "test_loss, test_acc = network.evaluate(X_test, y_test)\n",
        "print(\"loss in test data is: \", test_loss)\n",
        "print(\"accuracy in test data is : \", test_acc)\n",
        "print(\"Training time is : \",t2 - t1)"
      ]
    },
    {
      "cell_type": "markdown",
      "metadata": {
        "id": "f9OUhjMc3DFI"
      },
      "source": [
        "Creating confusion matrix"
      ]
    },
    {
      "cell_type": "code",
      "execution_count": null,
      "metadata": {
        "id": "KFL0We4NULxI"
      },
      "outputs": [],
      "source": [
        "real_label = np.argmax(y_test, axis = 1)\n",
        "predicted_label = np.argmax(network.predict(X_test), axis = 1)\n",
        "\n",
        "cm = confusion_matrix(real_label, predicted_label)\n",
        "normalized_cm = confusion_matrix(real_label, predicted_label, normalize = 'true')\n",
        "fig, ax = plt.subplots(nrows = 1, ncols = 2)\n",
        "fig.subplots_adjust(right = 3, top = 1.3)\n",
        "ax[0].title.set_text(\"confusion Matrix - without Normalization\")\n",
        "ConfusionMatrixDisplay(cm).plot(cmap = plt.cm.Reds, values_format = 'd', xticks_rotation = 45, ax = ax[0])\n",
        "ax[1].title.set_text(\"Confusion Matrix - Normalized\")\n",
        "ConfusionMatrixDisplay(normalized_cm).plot(cmap = plt.cm.Reds, values_format = ' .2f', xticks_rotation = 45, ax = ax[1])"
      ]
    }
  ],
  "metadata": {
    "colab": {
      "collapsed_sections": [],
      "name": "Question-1.ipynb",
      "provenance": []
    },
    "kernelspec": {
      "display_name": "Python 3",
      "name": "python3"
    },
    "language_info": {
      "name": "python"
    }
  },
  "nbformat": 4,
  "nbformat_minor": 0
}