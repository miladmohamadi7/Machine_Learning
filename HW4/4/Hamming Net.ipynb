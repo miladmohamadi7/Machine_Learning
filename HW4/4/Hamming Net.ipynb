{
  "cells": [
    {
      "cell_type": "code",
      "source": [
        "import numpy as np\n",
        "import sys"
      ],
      "metadata": {
        "id": "R8LatQa-Kxz-"
      },
      "execution_count": 1,
      "outputs": []
    },
    {
      "cell_type": "code",
      "source": [
        "X = np.array([1, -1, 1, -1, 1, -1, -1, 1, -1, 1, -1, 1])\n",
        "Y = np.array([1, -1, 1, -1, 1, -1, -1, 1, -1, -1, 1, -1])\n",
        "A = np.array([-1, 1, -1, 1, -1, 1, 1, 1, 1, 1, -1, 1])\n",
        "C = np.array([-1, 1, 1, 1, -1, -1, 1, -1, -1, -1, 1, 1])"
      ],
      "metadata": {
        "id": "Sy9-vKztuX_r"
      },
      "execution_count": 2,
      "outputs": []
    },
    {
      "cell_type": "markdown",
      "source": [
        "# **Part 1**"
      ],
      "metadata": {
        "id": "x1GHB8wu0bzS"
      }
    },
    {
      "cell_type": "code",
      "source": [
        "def compute_hamming_distance(a, b):\n",
        "   return len(np.where(a != b)[0])"
      ],
      "metadata": {
        "id": "nSmA7sYzxJMs"
      },
      "execution_count": 3,
      "outputs": []
    },
    {
      "cell_type": "code",
      "source": [
        "print(\"Hamming distance of X and Y:\", compute_hamming_distance(X, Y))\n",
        "print(\"Hamming distance of X and A:\", compute_hamming_distance(X, A))\n",
        "print(\"Hamming distance of X and C:\", compute_hamming_distance(X, C))\n",
        "print(\"Hamming distance of Y and A:\", compute_hamming_distance(Y, A))\n",
        "print(\"Hamming distance of Y and C:\", compute_hamming_distance(Y, C))\n",
        "print(\"Hamming distance of A and C:\", compute_hamming_distance(A, C))"
      ],
      "metadata": {
        "colab": {
          "base_uri": "https://localhost:8080/"
        },
        "id": "Zdf8vj0ryJ1J",
        "outputId": "c896a446-332d-4f6c-f147-0114a112b8bd"
      },
      "execution_count": 4,
      "outputs": [
        {
          "output_type": "stream",
          "name": "stdout",
          "text": [
            "Hamming distance of X and Y: 3\n",
            "Hamming distance of X and A: 8\n",
            "Hamming distance of X and C: 8\n",
            "Hamming distance of Y and A: 11\n",
            "Hamming distance of Y and C: 7\n",
            "Hamming distance of A and C: 6\n"
          ]
        }
      ]
    },
    {
      "cell_type": "markdown",
      "source": [
        "# **Part 2**"
      ],
      "metadata": {
        "id": "Eahx5cDT0fpw"
      }
    },
    {
      "cell_type": "code",
      "source": [
        "def activation_function(x):\n",
        "  mask = 1*(x >= 0)\n",
        "  x = x * mask\n",
        "  return x"
      ],
      "metadata": {
        "id": "TzlKyde2NF5u"
      },
      "execution_count": 5,
      "outputs": []
    },
    {
      "cell_type": "code",
      "source": [
        "def max_net(x):\n",
        "    x_first = np.copy(x)\n",
        "\n",
        "    T_MAX = 5\n",
        "    R1 = 0\n",
        "    R2 = 100\n",
        "    C1 = 0.6\n",
        "    C2 = -0.1\n",
        "    X_MAX = 2\n",
        "\n",
        "    # size of the input dataset\n",
        "    N = x.shape[0]\n",
        "\n",
        "    np.set_printoptions(threshold=sys.maxsize)\n",
        "\n",
        "    history = np.zeros((T_MAX, N))\n",
        "\n",
        "    x_old = np.copy(x)\n",
        "\n",
        "    history[0] = x[:]\n",
        "\n",
        "    for t in range(1, T_MAX):    \n",
        "        for i in range(N):\n",
        "            \n",
        "            # Calculate neighborhood borders\n",
        "            B1_BEGIN = i - R1\n",
        "            if (B1_BEGIN < 0):\n",
        "                B1_BEGIN = 0\n",
        "            \n",
        "            B1_END = i + R1\n",
        "            if (B1_END > N - 1):\n",
        "                B1_END = N - 1\n",
        "                \n",
        "            B2_BEGIN = i - R2\n",
        "            if (B2_BEGIN < 0):\n",
        "                B2_BEGIN = 0\n",
        "            \n",
        "            B2_END = i + R2\n",
        "            if (B2_END > N - 1):\n",
        "                B2_END = N - 1\n",
        "\n",
        "            # Create current weight matrix\n",
        "            weight = np.zeros(N)\n",
        "            for j in range(B2_BEGIN, B2_END + 1):\n",
        "                weight[j] = C2\n",
        "            for j in range(B1_BEGIN, B1_END + 1):\n",
        "                weight[j] = C1\n",
        "\n",
        "            x[i] = np.dot(weight, x_old)\n",
        "            \n",
        "        # Apply activation function\n",
        "        x = np.minimum(X_MAX, np.maximum(0, x))\n",
        "\n",
        "        history[t] = x[:]\n",
        "        \n",
        "        x_old = np.copy(x)\n",
        "    \n",
        "    return x_old.argmax()"
      ],
      "metadata": {
        "id": "D1ji_DtEQKNc"
      },
      "execution_count": 6,
      "outputs": []
    },
    {
      "cell_type": "code",
      "source": [
        "class HammingNet:\n",
        "    def __init__(self,exemplar_vectors):\n",
        "      self.exemplar_vectors = exemplar_vectors\n",
        "      self.m = len(exemplar_vectors)\n",
        "      self.n = len(exemplar_vectors[0])\n",
        "\n",
        "      self.init_weights_bias()\n",
        "    \n",
        "    def init_weights_bias(self):\n",
        "      self.bias = self.n/2\n",
        "      self.weights = np.array(exemplar_vectors) / 2\n",
        "    \n",
        "    def find_closest(self,x):\n",
        "      y_in = []\n",
        "      for col in range(self.m):\n",
        "        y_in.append(self.bias + np.dot(x,self.weights[col]))\n",
        "\n",
        "      closest_vector = max_net( np.array(y_in) )\n",
        "      # print()\n",
        "      print('Input Vector: ',x ,'   Closest Vector: ',f'e{closest_vector+1}=',\n",
        "            self.exemplar_vectors[closest_vector])"
      ],
      "metadata": {
        "id": "MXDDhtRNM_Be"
      },
      "execution_count": 7,
      "outputs": []
    },
    {
      "cell_type": "code",
      "source": [
        "exemplar_vectors = [[1, -1, 1, -1, 1, -1, -1, 1, -1, -1, 1, -1],\n",
        "                    [1, -1, 1, -1, 1, -1, -1, 1, -1, 1, -1, 1],\n",
        "                    [-1, 1, -1, 1, -1, 1, 1, 1, 1, 1, -1, 1],\n",
        "                    [-1, 1, 1, 1, -1, -1, 1, -1, -1, -1, 1, 1]\n",
        "]\n",
        "\n",
        "input  = [1, 1, 1, -1, 1, -1, -1, 1, -1, -1, 1, -1]"
      ],
      "metadata": {
        "id": "6Wyu_V_tOvPA"
      },
      "execution_count": 13,
      "outputs": []
    },
    {
      "cell_type": "code",
      "source": [
        "hamming_net = HammingNet(exemplar_vectors)"
      ],
      "metadata": {
        "id": "z3-K6eXJM-6P"
      },
      "execution_count": 14,
      "outputs": []
    },
    {
      "cell_type": "markdown",
      "source": [
        "**Weights**"
      ],
      "metadata": {
        "id": "mV25UIjIST8G"
      }
    },
    {
      "cell_type": "code",
      "source": [
        "hamming_net.weights"
      ],
      "metadata": {
        "colab": {
          "base_uri": "https://localhost:8080/"
        },
        "id": "5cLlYsbgRpay",
        "outputId": "1c07b221-8ad8-42e4-f6fd-dec348cc2766"
      },
      "execution_count": 15,
      "outputs": [
        {
          "output_type": "execute_result",
          "data": {
            "text/plain": [
              "array([[ 0.5, -0.5,  0.5, -0.5,  0.5, -0.5, -0.5,  0.5, -0.5, -0.5,  0.5,\n",
              "        -0.5],\n",
              "       [ 0.5, -0.5,  0.5, -0.5,  0.5, -0.5, -0.5,  0.5, -0.5,  0.5, -0.5,\n",
              "         0.5],\n",
              "       [-0.5,  0.5, -0.5,  0.5, -0.5,  0.5,  0.5,  0.5,  0.5,  0.5, -0.5,\n",
              "         0.5],\n",
              "       [-0.5,  0.5,  0.5,  0.5, -0.5, -0.5,  0.5, -0.5, -0.5, -0.5,  0.5,\n",
              "         0.5]])"
            ]
          },
          "metadata": {},
          "execution_count": 15
        }
      ]
    },
    {
      "cell_type": "markdown",
      "source": [
        "**Bias**"
      ],
      "metadata": {
        "id": "t8XD0IXRSX5T"
      }
    },
    {
      "cell_type": "code",
      "source": [
        "hamming_net.bias"
      ],
      "metadata": {
        "colab": {
          "base_uri": "https://localhost:8080/"
        },
        "id": "NCk0Jot4Rjma",
        "outputId": "aceb2aae-d61d-43dc-e8df-900688574196"
      },
      "execution_count": 16,
      "outputs": [
        {
          "output_type": "execute_result",
          "data": {
            "text/plain": [
              "6.0"
            ]
          },
          "metadata": {},
          "execution_count": 16
        }
      ]
    },
    {
      "cell_type": "markdown",
      "source": [
        "# **Part 3**"
      ],
      "metadata": {
        "id": "F0ytkgfwS-Xd"
      }
    },
    {
      "cell_type": "markdown",
      "source": [
        "**Output of network: Y**"
      ],
      "metadata": {
        "id": "x5Jp2Df3Udyl"
      }
    },
    {
      "cell_type": "code",
      "source": [
        "hamming_net.find_closest(input)"
      ],
      "metadata": {
        "colab": {
          "base_uri": "https://localhost:8080/"
        },
        "id": "loNOmJG8P6UW",
        "outputId": "2c163a94-530b-49ca-d524-99596c636ae1"
      },
      "execution_count": 17,
      "outputs": [
        {
          "output_type": "stream",
          "name": "stdout",
          "text": [
            "Input Vector:  [1, 1, 1, -1, 1, -1, -1, 1, -1, -1, 1, -1]    Closest Vector:  e1= [1, -1, 1, -1, 1, -1, -1, 1, -1, -1, 1, -1]\n"
          ]
        }
      ]
    },
    {
      "cell_type": "markdown",
      "source": [
        "**As we can see, the output of the network is the Y vector, and according to the input vector, the same was expected because the hamming distance of Y and input is 1 that is shown below.**"
      ],
      "metadata": {
        "id": "BPdA_Pv0TEGF"
      }
    },
    {
      "cell_type": "code",
      "source": [
        "print(\"Hamming distance of input and Y:\", compute_hamming_distance(Y, input))\n",
        "print(\"Hamming distance of input and X:\", compute_hamming_distance(X, input))\n",
        "print(\"Hamming distance of input and C:\", compute_hamming_distance(C, input))\n",
        "print(\"Hamming distance of input and A:\", compute_hamming_distance(A, input))"
      ],
      "metadata": {
        "colab": {
          "base_uri": "https://localhost:8080/"
        },
        "id": "_WlyYg9IWKSs",
        "outputId": "99c3b3bf-a6a9-41a5-ef8d-cf83128d0b57"
      },
      "execution_count": 19,
      "outputs": [
        {
          "output_type": "stream",
          "name": "stdout",
          "text": [
            "Hamming distance of input and Y: 1\n",
            "Hamming distance of input and X: 4\n",
            "Hamming distance of input and C: 6\n",
            "Hamming distance of input and A: 10\n"
          ]
        }
      ]
    }
  ],
  "metadata": {
    "kernelspec": {
      "display_name": "Python 3",
      "language": "python",
      "name": "python3"
    },
    "language_info": {
      "codemirror_mode": {
        "name": "ipython",
        "version": 3
      },
      "file_extension": ".py",
      "mimetype": "text/x-python",
      "name": "python",
      "nbconvert_exporter": "python",
      "pygments_lexer": "ipython3",
      "version": "3.6.10"
    },
    "colab": {
      "name": "HammingNet.ipynb",
      "provenance": [],
      "collapsed_sections": []
    }
  },
  "nbformat": 4,
  "nbformat_minor": 0
}