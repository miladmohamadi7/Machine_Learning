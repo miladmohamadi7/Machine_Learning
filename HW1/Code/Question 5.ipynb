{
 "cells": [
  {
   "cell_type": "markdown",
   "id": "6d787e5e",
   "metadata": {},
   "source": [
    "# Question 5"
   ]
  },
  {
   "cell_type": "markdown",
   "id": "1a1358a5",
   "metadata": {},
   "source": [
    "## Part A\n",
    "\n",
    "### Naive-bayes\n",
    "naive bayes is a classification technique based on Bayes’ Theorem with an assumption of independence among predictors. In simple terms, a Naive Bayes classifier assumes that the presence of a\n",
    "particular feature in a class is unrelated to the presence of any other feature.\n",
    "### Optimal-bayes\n",
    "The Bayes Optimal Classifier is a probabilistic model that makes the most probable prediction\n",
    "for a new example. It is described using the Bayes Theorem that provides a principled way for\n",
    "calculating a conditional probability. It is also closely related to the Maximum a Posteriori: a\n",
    "probabilistic framework referred to as MAP that finds the most probable hypothesis for a training\n",
    "dataset."
   ]
  },
  {
   "cell_type": "code",
   "execution_count": 1,
   "id": "f9332008",
   "metadata": {},
   "outputs": [],
   "source": [
    "import pandas as pd\n",
    "import numpy as np\n",
    "import matplotlib.pyplot as plt\n",
    "from sklearn.preprocessing import StandardScaler, scale\n",
    "from sklearn.metrics import plot_confusion_matrix, accuracy_score, confusion_matrix, precision_score, recall_score\n",
    "from sklearn.naive_bayes import GaussianNB\n",
    "from sklearn.model_selection import train_test_split\n",
    "from sklearn.metrics import classification_report"
   ]
  },
  {
   "cell_type": "code",
   "execution_count": 2,
   "id": "29decb87",
   "metadata": {},
   "outputs": [],
   "source": [
    "df = pd.read_csv(\"D:\\ML\\ML_HW1\\Data\\Breast_cancer_data.csv\")"
   ]
  },
  {
   "cell_type": "code",
   "execution_count": 3,
   "id": "0aab81fe",
   "metadata": {},
   "outputs": [],
   "source": [
    "X, y = df.iloc[:, :-1], df.iloc[:, -1]"
   ]
  },
  {
   "cell_type": "code",
   "execution_count": 4,
   "id": "bcae182a",
   "metadata": {},
   "outputs": [],
   "source": [
    "X_train, X_test, y_train, y_test = train_test_split(X, y, test_size=0.2, random_state=42)"
   ]
  },
  {
   "cell_type": "code",
   "execution_count": 5,
   "id": "05091af6",
   "metadata": {},
   "outputs": [
    {
     "name": "stdout",
     "output_type": "stream",
     "text": [
      "Class: [0, 1] Count: [212 357]\n"
     ]
    }
   ],
   "source": [
    "classes,counts = np.unique(y, return_counts=True)\n",
    "print('Class:',list(classes),'Count:',counts)"
   ]
  },
  {
   "cell_type": "code",
   "execution_count": 6,
   "id": "13320d9d",
   "metadata": {},
   "outputs": [],
   "source": [
    "X_train_scaled = scale(X_train)\n",
    "X_test_scaled = scale(X_test)"
   ]
  },
  {
   "cell_type": "code",
   "execution_count": 7,
   "id": "3be60600",
   "metadata": {},
   "outputs": [
    {
     "name": "stdout",
     "output_type": "stream",
     "text": [
      "Class: [0, 1] Count: [169 286]\n",
      "455\n"
     ]
    }
   ],
   "source": [
    "#Finding Prior Probability\n",
    "classes_train,counts_train = np.unique(y_train, return_counts=True)\n",
    "print('Class:',list(classes_train),'Count:',counts_train)\n",
    "\n",
    "total_samples=len(y_train)\n",
    "print(total_samples)\n",
    "\n",
    "prior = np.array([ x*1.0/total_samples for x in counts_train ])"
   ]
  },
  {
   "cell_type": "code",
   "execution_count": 8,
   "id": "ffaa298f",
   "metadata": {},
   "outputs": [],
   "source": [
    "#Finding likelihoods assuming gaussian distribution for all.\n",
    "mean={}\n",
    "std={}\n",
    "for i in classes:\n",
    "    mean[i]=list(np.mean(X_train_scaled[y_train==i],axis=0))\n",
    "    std[i]=list(np.std(X_train_scaled[y_train==i],axis=0))\n",
    "    \n",
    "    \n",
    "def gaussian_distribution(x, mean, std):\n",
    "    g = np.sqrt(1.0/2 * np.pi* std**2) * np.exp(-((x - mean)**2/(2 * std**2 )))\n",
    "    return g   "
   ]
  },
  {
   "cell_type": "code",
   "execution_count": 9,
   "id": "d6a13d3f",
   "metadata": {},
   "outputs": [],
   "source": [
    "def likelihood(sample,mean,std):\n",
    "    \n",
    "    feature_prob=np.zeros((len(sample),1))\n",
    "    for i in range(len(sample)):\n",
    "        feature_prob[i]=gaussian_distribution(sample[i],mean[i],std[i])\n",
    "    return np.prod(feature_prob)"
   ]
  },
  {
   "cell_type": "code",
   "execution_count": 10,
   "id": "fb05b2c3",
   "metadata": {},
   "outputs": [],
   "source": [
    "#Putting likelihood together with prior probabilities to calculate posterior probabilities.\n",
    "\n",
    "y_pred=[]\n",
    "for i in X_test_scaled:\n",
    " \n",
    "    class_likelihood=np.zeros(len(classes))\n",
    "    for cls in classes:\n",
    "        class_likelihood[int(cls)]=likelihood(i,mean[cls],std[cls])\n",
    "    posterior=np.multiply(class_likelihood,prior)\n",
    "    max_index=posterior.argmax()\n",
    "    y_pred.append(max_index)"
   ]
  },
  {
   "cell_type": "markdown",
   "id": "6959ffb9",
   "metadata": {},
   "source": [
    "## Part B"
   ]
  },
  {
   "cell_type": "code",
   "execution_count": 11,
   "id": "3b1e0938",
   "metadata": {},
   "outputs": [
    {
     "name": "stdout",
     "output_type": "stream",
     "text": [
      "accuracy of our model:  89.47368421052632\n",
      "Precision of our model 1.0\n",
      "Recall of our model 0.8309859154929577\n"
     ]
    }
   ],
   "source": [
    "accuracy=accuracy_score(y_test,y_pred)*100\n",
    "print(f'accuracy of our model: ',accuracy)\n",
    "precision = precision_score(y_test,y_pred)\n",
    "print(f'Precision of our model',precision)\n",
    "recall = recall_score(y_test,y_pred)\n",
    "print(f'Recall of our model',recall)"
   ]
  },
  {
   "cell_type": "code",
   "execution_count": 12,
   "id": "67101e9a",
   "metadata": {},
   "outputs": [
    {
     "data": {
      "text/plain": [
       "array([[43, 12],\n",
       "       [ 0, 59]], dtype=int64)"
      ]
     },
     "execution_count": 12,
     "metadata": {},
     "output_type": "execute_result"
    }
   ],
   "source": [
    "confusion_matrix(y_pred, y_test)  "
   ]
  },
  {
   "cell_type": "markdown",
   "id": "c8e9b60c",
   "metadata": {},
   "source": [
    "### Analysis.\n",
    "#### The number of samples of class one is 357 and class zero is 212. All samples of class one are predicted correctly and this can be because of the more number of samples in class one."
   ]
  },
  {
   "cell_type": "markdown",
   "id": "0689c63c",
   "metadata": {},
   "source": [
    "## Part C\n",
    "### Naive Bayes Library"
   ]
  },
  {
   "cell_type": "code",
   "execution_count": 13,
   "id": "dd5ef060",
   "metadata": {},
   "outputs": [],
   "source": [
    "gnb = GaussianNB()\n",
    "library_pred = gnb.fit(X_train_scaled, y_train).predict(X_test_scaled)"
   ]
  },
  {
   "cell_type": "code",
   "execution_count": 14,
   "id": "b19440d0",
   "metadata": {},
   "outputs": [
    {
     "name": "stdout",
     "output_type": "stream",
     "text": [
      "accuracy of naive bayes library:  93.85964912280701\n",
      "Precision of naive bayes library 0.9102564102564102\n",
      "Recall of naive bayes library 1.0\n"
     ]
    }
   ],
   "source": [
    "accuracy=accuracy_score(y_test,library_pred)*100\n",
    "print(f'accuracy of naive bayes library: ',accuracy)\n",
    "precision = precision_score(y_test,library_pred)\n",
    "print(f'Precision of naive bayes library',precision)\n",
    "recall = recall_score(y_test,library_pred)\n",
    "print(f'Recall of naive bayes library',recall)"
   ]
  },
  {
   "cell_type": "code",
   "execution_count": 15,
   "id": "d2cae6ec",
   "metadata": {},
   "outputs": [
    {
     "data": {
      "image/png": "[encoded data removed]",
      "text/plain": [
       "<Figure size 432x288 with 2 Axes>"
      ]
     },
     "metadata": {
      "needs_background": "light"
     },
     "output_type": "display_data"
    }
   ],
   "source": [
    "plot_confusion_matrix(gnb, X_test_scaled, y_test)  \n",
    "plt.show()"
   ]
  },
  {
   "cell_type": "markdown",
   "id": "ab16dfb3",
   "metadata": {},
   "source": [
    "### Analysis.\n",
    "#### The number of samples of class one is 357 and class zero is 212. The number of samples of class one is 357 and class zero is 212. All samples of class one are predicted correctly and this can be because of the more number of samples in class one. Also, the algorithm library uses other parameters, and for this reason, the accuracy of the algorithm is higher than our model's accuracy."
   ]
  }
 ],
 "metadata": {
  "kernelspec": {
   "display_name": "Python 3 (ipykernel)",
   "language": "python",
   "name": "python3"
  },
  "language_info": {
   "codemirror_mode": {
    "name": "ipython",
    "version": 3
   },
   "file_extension": ".py",
   "mimetype": "text/x-python",
   "name": "python",
   "nbconvert_exporter": "python",
   "pygments_lexer": "ipython3",
   "version": "3.9.7"
  }
 },
 "nbformat": 4,
 "nbformat_minor": 5
}
