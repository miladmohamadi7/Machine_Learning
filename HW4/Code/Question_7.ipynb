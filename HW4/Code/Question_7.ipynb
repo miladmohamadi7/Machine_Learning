{
  "nbformat": 4,
  "nbformat_minor": 0,
  "metadata": {
    "colab": {
      "provenance": []
    },
    "kernelspec": {
      "name": "python3",
      "display_name": "Python 3"
    },
    "language_info": {
      "name": "python"
    },
    "gpuClass": "standard"
  },
  "cells": [
    {
      "cell_type": "code",
      "source": [
        "import random\n",
        "import numpy as np\n",
        "import matplotlib.pyplot as plt\n",
        "from sklearn.model_selection import GridSearchCV\n",
        "from sklearn import svm"
      ],
      "metadata": {
        "id": "bo72sGC5tRe3"
      },
      "execution_count": 1,
      "outputs": []
    },
    {
      "cell_type": "code",
      "source": [
        "x = np.linspace(0,2,100)\n",
        "er = np.random.random_sample(size=100)/2 - 0.5\n",
        "\n",
        "y = np.sin(x**2) + er"
      ],
      "metadata": {
        "id": "Inv8ohbOtYh2"
      },
      "execution_count": 2,
      "outputs": []
    },
    {
      "cell_type": "code",
      "source": [
        "fig, ax = plt.subplots()\n",
        "plt.plot(x, y, 'o')\n",
        "\n",
        "plt.show()"
      ],
      "metadata": {
        "colab": {
          "base_uri": "https://localhost:8080/",
          "height": 265
        },
        "id": "ortyvsXYuIqG",
        "outputId": "96c58430-c56a-46a4-ff79-f48aab99c4aa"
      },
      "execution_count": 3,
      "outputs": [
        {
          "output_type": "display_data",
          "data": {
            "text/plain": [
              "<Figure size 432x288 with 1 Axes>"
            ],
            "image/png": "[encoded data removed]"
          },
          "metadata": {
            "needs_background": "light"
          }
        }
      ]
    },
    {
      "cell_type": "code",
      "source": [
        "x = x.reshape(-1,1)"
      ],
      "metadata": {
        "id": "_jj2ir2tLqqA"
      },
      "execution_count": 4,
      "outputs": []
    },
    {
      "cell_type": "markdown",
      "source": [
        "# **Part A**"
      ],
      "metadata": {
        "id": "D2ybocCBTnpH"
      }
    },
    {
      "cell_type": "code",
      "source": [
        "param_grid = {'C': [15,20,10,9,8,7,6,5,4,3,2,1,0.0001,0.00001,0.01,0.1],'gamma': [1,2,3,4,5,6,7,8,9,10,0.00001,0.001,0.01,0.1]}"
      ],
      "metadata": {
        "id": "MqB__WVjrug4"
      },
      "execution_count": 12,
      "outputs": []
    },
    {
      "cell_type": "markdown",
      "source": [
        "### **Best gamma and C values for polynomial kernel**"
      ],
      "metadata": {
        "id": "MffNj_6qTr0H"
      }
    },
    {
      "cell_type": "code",
      "source": [
        "poly_regressor = svm.SVR(kernel='poly',degree=3,epsilon=0.1, coef0=1)\n",
        "\n",
        "grid = GridSearchCV(poly_regressor, param_grid=param_grid, cv=5)\n",
        "grid.fit(x, y)\n",
        "opt_poly = grid.best_estimator_\n",
        "print('The best gamma and C values for polynomial kernel:'+str(opt_poly))"
      ],
      "metadata": {
        "id": "wZ49wG3qmEFy",
        "colab": {
          "base_uri": "https://localhost:8080/"
        },
        "outputId": "7b39cacc-2454-45df-89b7-a7f0afc6b5ea"
      },
      "execution_count": 6,
      "outputs": [
        {
          "output_type": "stream",
          "name": "stdout",
          "text": [
            "The best gamma and C values for polynomial kernel:SVR(C=0.01, coef0=1, gamma=10, kernel='poly')\n"
          ]
        }
      ]
    },
    {
      "cell_type": "markdown",
      "source": [
        "### **Best gamma and C values for RBF kernel**"
      ],
      "metadata": {
        "id": "Q3QXEXZ3UHWo"
      }
    },
    {
      "cell_type": "code",
      "source": [
        "rbf_regressor = svm.SVR(kernel='rbf')\n",
        "\n",
        "grid = GridSearchCV(rbf_regressor, param_grid=param_grid, cv=5)\n",
        "grid.fit(x, y)\n",
        "opt_rbf = grid.best_estimator_\n",
        "print('The best gamma and C values for RBF kernel:'+str(opt_rbf))"
      ],
      "metadata": {
        "colab": {
          "base_uri": "https://localhost:8080/"
        },
        "id": "sb7naD9kSdUx",
        "outputId": "a6a74719-64a3-48cd-86be-e7931d299f37"
      },
      "execution_count": 13,
      "outputs": [
        {
          "output_type": "stream",
          "name": "stdout",
          "text": [
            "The best gamma and C values for RBF kernel:SVR(C=15, gamma=1)\n"
          ]
        }
      ]
    },
    {
      "cell_type": "markdown",
      "source": [
        "### **Best gamma and C values for linear kernel**\n"
      ],
      "metadata": {
        "id": "xT9Q8Pz6UMhh"
      }
    },
    {
      "cell_type": "code",
      "source": [
        "linear_regressor = svm.SVR(kernel='linear')\n",
        "\n",
        "grid = GridSearchCV(linear_regressor, param_grid=param_grid, cv=5)\n",
        "grid.fit(x, y)\n",
        "opt_linear = grid.best_estimator_\n",
        "print('The best gamma and C values for linear kernel:'+str(opt_linear))"
      ],
      "metadata": {
        "colab": {
          "base_uri": "https://localhost:8080/"
        },
        "id": "RwlRvdcuUL8g",
        "outputId": "01d5b7bd-78f6-4680-9145-6f13acbce549"
      },
      "execution_count": 8,
      "outputs": [
        {
          "output_type": "stream",
          "name": "stdout",
          "text": [
            "The best gamma and C values for linear kernel:SVR(C=0.0001, gamma=1, kernel='linear')\n"
          ]
        }
      ]
    },
    {
      "cell_type": "markdown",
      "source": [
        "# **Part B**"
      ],
      "metadata": {
        "id": "82DzXD8ITNin"
      }
    },
    {
      "cell_type": "markdown",
      "source": [
        "### **Polynomial**\n",
        "\n"
      ],
      "metadata": {
        "id": "-xgGtmiuTRcd"
      }
    },
    {
      "cell_type": "code",
      "source": [
        "plt.scatter(x, y)\n",
        "plt.plot(x, opt_poly.predict(x), color = 'red')\n",
        "plt.show()"
      ],
      "metadata": {
        "colab": {
          "base_uri": "https://localhost:8080/",
          "height": 265
        },
        "id": "bLal0OETmXmB",
        "outputId": "3c5756f5-a399-45b6-f6ee-e1a832e1a2c7"
      },
      "execution_count": 9,
      "outputs": [
        {
          "output_type": "display_data",
          "data": {
            "text/plain": [
              "<Figure size 432x288 with 1 Axes>"
            ],
            "image/png": "[encoded data removed]"
          },
          "metadata": {
            "needs_background": "light"
          }
        }
      ]
    },
    {
      "cell_type": "markdown",
      "source": [
        "### **RBF**"
      ],
      "metadata": {
        "id": "6W92iTPGTZ_c"
      }
    },
    {
      "cell_type": "code",
      "source": [
        "plt.scatter(x, y)\n",
        "plt.plot(x, opt_rbf.predict(x), color = 'red')\n",
        "plt.show()"
      ],
      "metadata": {
        "colab": {
          "base_uri": "https://localhost:8080/",
          "height": 265
        },
        "id": "xivdvAb5TZYj",
        "outputId": "ae4304d9-24b8-47d6-be7f-a1a8baae5f34"
      },
      "execution_count": 14,
      "outputs": [
        {
          "output_type": "display_data",
          "data": {
            "text/plain": [
              "<Figure size 432x288 with 1 Axes>"
            ],
            "image/png": "[encoded data removed]"
          },
          "metadata": {
            "needs_background": "light"
          }
        }
      ]
    },
    {
      "cell_type": "markdown",
      "source": [
        "### **Linear**"
      ],
      "metadata": {
        "id": "yFdCRrE8UrRd"
      }
    },
    {
      "cell_type": "code",
      "source": [
        "plt.scatter(x, y)\n",
        "plt.plot(x, opt_linear.predict(x), color = 'red')\n",
        "plt.show()"
      ],
      "metadata": {
        "colab": {
          "base_uri": "https://localhost:8080/",
          "height": 265
        },
        "id": "GvX6NUnMUnCb",
        "outputId": "c174af53-0fa9-4f25-d145-6cb10370dbf3"
      },
      "execution_count": 11,
      "outputs": [
        {
          "output_type": "display_data",
          "data": {
            "text/plain": [
              "<Figure size 432x288 with 1 Axes>"
            ],
            "image/png": "[encoded data removed]"
          },
          "metadata": {
            "needs_background": "light"
          }
        }
      ]
    },
    {
      "cell_type": "markdown",
      "source": [
        "## **Comparison**"
      ],
      "metadata": {
        "id": "3s85c8BlUwwn"
      }
    },
    {
      "cell_type": "code",
      "source": [
        "from sklearn.metrics import mean_squared_error,mean_absolute_error"
      ],
      "metadata": {
        "id": "Kl_PeQOrX53a"
      },
      "execution_count": 18,
      "outputs": []
    },
    {
      "cell_type": "code",
      "source": [
        "print('error of polynomial kernel = '+ str(mean_squared_error(y, opt_poly.predict(x))))\n",
        "print('error of linear kernel = '+str(mean_squared_error(y, opt_linear.predict(x))))\n",
        "print('error of rbf kernel = '+str(mean_squared_error(y, opt_rbf.predict(x))))"
      ],
      "metadata": {
        "colab": {
          "base_uri": "https://localhost:8080/"
        },
        "id": "sJqjotdoX0TT",
        "outputId": "6e93ab1a-8e0c-4c66-f817-576057f94830"
      },
      "execution_count": 23,
      "outputs": [
        {
          "output_type": "stream",
          "name": "stdout",
          "text": [
            "error of polynomial kernel = 0.028307844545877373\n",
            "error of linear kernel = 0.22710749630541716\n",
            "error of rbf kernel = 0.023383956438304408\n"
          ]
        }
      ]
    },
    {
      "cell_type": "markdown",
      "source": [
        "### **According to the shape of the function, the linear kernel has the worst result and cannot predict the curve correctly. The rbf kernel moves the data to a space with more dimensions than the polynomial and has less error than the others.**"
      ],
      "metadata": {
        "id": "N8TeshaRZQeK"
      }
    }
  ]
}