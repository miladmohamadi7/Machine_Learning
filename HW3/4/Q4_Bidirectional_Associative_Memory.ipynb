{
  "nbformat": 4,
  "nbformat_minor": 0,
  "metadata": {
    "colab": {
      "name": "Q4_Bidirectional_Associative_Memory.ipynb",
      "provenance": [],
      "collapsed_sections": []
    },
    "kernelspec": {
      "name": "python3",
      "display_name": "Python 3"
    },
    "language_info": {
      "name": "python"
    }
  },
  "cells": [
    {
      "cell_type": "code",
      "execution_count": 1,
      "metadata": {
        "id": "mlQBIGpAUl9k"
      },
      "outputs": [],
      "source": [
        "import numpy as np\n",
        "import pandas as pd\n",
        "import math"
      ]
    },
    {
      "cell_type": "code",
      "source": [
        "X_Clinton = np.array([\n",
        "                    1,0,0,0,0,1,1,\n",
        "                    1,1,0,1,1,0,0,\n",
        "                    1,1,0,1,0,0,1,\n",
        "                    1,1,0,1,1,1,0,\n",
        "                    1,1,1,0,1,0,0,\n",
        "                    1,1,0,1,1,1,1,\n",
        "                    1,1,0,1,1,1,0\n",
        "])\n",
        "\n",
        "X_Hillary = np.array([\n",
        "                    1,0,0,1,0,0,0,\n",
        "                    1,1,0,1,0,0,1,\n",
        "                    1,1,0,1,1,0,0,\n",
        "                    1,1,0,1,1,0,0,\n",
        "                    1,1,0,0,0,0,1,\n",
        "                    1,1,1,0,0,1,0,\n",
        "                    1,1,1,1,0,0,1\n",
        "                    \n",
        "])\n",
        "\n",
        "X_Kenstar = np.array([\n",
        "                    1,0,0,1,0,1,1,\n",
        "                    1,1,0,0,1,0,1,\n",
        "                    1,1,0,1,1,1,0,\n",
        "                    1,1,1,0,0,1,1,\n",
        "                    1,1,1,0,1,0,0,\n",
        "                    1,1,0,0,0,0,1,\n",
        "                    1,1,1,0,0,1,0\n",
        "])\n",
        "\n",
        "Y_Clinton = np.array([\n",
        "                      1,0,1,0,0,0,0,\n",
        "                      1,1,1,0,0,1,0,\n",
        "                      1,1,0,0,1,0,1,\n",
        "                      1,1,1,0,0,1,1,\n",
        "                      1,1,0,1,0,0,1,    \n",
        "                      1,1,0,0,1,0,0,\n",
        "                      1,1,0,0,1,0,1,\n",
        "                      1,1,0,1,1,1,0,\n",
        "                      1,1,1,0,1,0,0\n",
        "])\n",
        "\n",
        "Y_Hillary = np.array([\n",
        "                      1,0,0,0,1,1,0,\n",
        "                      1,1,0,1,0,0,1,\n",
        "                      1,1,1,0,0,1,0,\n",
        "                      1,1,1,0,0,1,1,\n",
        "                      1,1,1,0,1,0,0,\n",
        "                      1,0,0,1,1,0,0,\n",
        "                      1,1,0,0,0,0,1,\n",
        "                      1,1,0,0,1,0,0,\n",
        "                      1,1,1,1,0,0,1\n",
        "])        \n",
        "\n",
        "Y_Kenstar = np.array([\n",
        "                      1,0,0,0,1,1,1,\n",
        "                      1,1,0,0,1,0,1,\n",
        "                      1,1,0,1,1,1,0,\n",
        "                      1,1,1,0,1,0,0,\n",
        "                      1,1,0,1,1,0,0,\n",
        "                      1,1,0,0,1,0,1,\n",
        "                      1,1,0,1,1,0,1,\n",
        "                      1,1,0,0,0,0,1, \n",
        "                      1,1,0,1,1,1,0\n",
        "])"
      ],
      "metadata": {
        "id": "XdaCeNDwqeGK"
      },
      "execution_count": 2,
      "outputs": []
    },
    {
      "cell_type": "code",
      "source": [
        "class BAM() :\n",
        "    \n",
        "    def __init__(self, in_features, out_features, seed = 42) :\n",
        "        np.random.seed(seed)\n",
        "\n",
        "        self.in_features = in_features\n",
        "        self.out_features = out_features\n",
        "        self.init_wad()\n",
        "        \n",
        "    \n",
        "    def init_wad(self) :\n",
        "        self.weights = np.zeros(shape=(self.in_features*self.out_features,)).reshape(-1,self.out_features)\n",
        "    \n",
        "    #bipolar\n",
        "    def h(self,num,threshold = 0.25) :\n",
        "\n",
        "        if num > threshold :\n",
        "            return 1\n",
        "        elif num < threshold:\n",
        "            return 0\n",
        "        else :\n",
        "            return threshold\n",
        "    # X---> Y\n",
        "    def forward(self, x):\n",
        "        net = np.matmul(x,self.weights)\n",
        "        prediction = pd.Series(net)\n",
        "        prediction = (prediction - np.mean(prediction)) / np.std(prediction)\n",
        "        prediction = prediction.apply(self.h).values\n",
        "        return prediction\n",
        "    # Y---> X\n",
        "    def backward(self,y) :\n",
        "        net = np.matmul(y,self.weights.T)\n",
        "        prediction = pd.Series(net)\n",
        "        prediction = prediction.apply(self.h).values\n",
        "        return prediction\n",
        "\n",
        "    def calculate_new_weights(self,x,y) :\n",
        "        new_weight = np.matmul(x.reshape(-1,1),y.reshape(1,-1))\n",
        "        self.weights = self.weights + new_weight\n",
        "        \n",
        "    def initialize_weights(self,X_train,y_train,epochs = 1) :\n",
        "        for epoch in range(0,epochs):\n",
        "            \n",
        "            for i in range(len(X_train)) :\n",
        "\n",
        "                self.calculate_new_weights(X_train[i],y_train[i])"
      ],
      "metadata": {
        "id": "ClU0Dn4cvr79"
      },
      "execution_count": 3,
      "outputs": []
    },
    {
      "cell_type": "code",
      "source": [
        "model = BAM(in_features=49,out_features=63)"
      ],
      "metadata": {
        "id": "jmKwoU_a3HOn"
      },
      "execution_count": 4,
      "outputs": []
    },
    {
      "cell_type": "code",
      "source": [
        "X_train = np.concatenate([X_Clinton.reshape(1,49), X_Hillary.reshape(1,49), X_Kenstar.reshape(1,49)], axis=0)\n",
        "y_train = np.concatenate([Y_Clinton.reshape(1,63), Y_Hillary.reshape(1,63), Y_Kenstar.reshape(1,63)], axis=0)"
      ],
      "metadata": {
        "id": "JWmD7b3R3Qcd"
      },
      "execution_count": 5,
      "outputs": []
    },
    {
      "cell_type": "markdown",
      "source": [
        "# **Part 1**\n",
        "\n",
        "**matrix of weights**"
      ],
      "metadata": {
        "id": "s0BitrCu5NL8"
      }
    },
    {
      "cell_type": "code",
      "source": [
        "model.initialize_weights(X_train, y_train,epochs=1)\n",
        "model.weights"
      ],
      "metadata": {
        "colab": {
          "base_uri": "https://localhost:8080/"
        },
        "id": "sSUYm3Yn2ijj",
        "outputId": "907ebdfe-c7d8-4104-81ff-ff3172d4fd05"
      },
      "execution_count": 6,
      "outputs": [
        {
          "output_type": "execute_result",
          "data": {
            "text/plain": [
              "array([[3., 0., 1., ..., 2., 1., 1.],\n",
              "       [0., 0., 0., ..., 0., 0., 0.],\n",
              "       [0., 0., 0., ..., 0., 0., 0.],\n",
              "       ...,\n",
              "       [1., 0., 1., ..., 1., 0., 0.],\n",
              "       [2., 0., 1., ..., 2., 1., 0.],\n",
              "       [1., 0., 0., ..., 0., 0., 1.]])"
            ]
          },
          "metadata": {},
          "execution_count": 6
        }
      ]
    },
    {
      "cell_type": "markdown",
      "source": [
        "# **Part 2**\n",
        "\n",
        "# **Model evaluation (direction)**"
      ],
      "metadata": {
        "id": "IEzBuX-i42vj"
      }
    },
    {
      "cell_type": "code",
      "source": [
        "y_1 = model.forward(X_train[0])\n",
        "y_2 = model.forward(X_train[1])\n",
        "y_3 = model.forward(X_train[2])"
      ],
      "metadata": {
        "id": "gp8tqNPJC4FO"
      },
      "execution_count": 7,
      "outputs": []
    },
    {
      "cell_type": "code",
      "source": [
        "Accuracy_Clinton = np.sum(y_train[0] == y_1)/63\n",
        "Accuracy_Clinton"
      ],
      "metadata": {
        "colab": {
          "base_uri": "https://localhost:8080/"
        },
        "id": "1gJW-u8NIG8t",
        "outputId": "1b7e582e-55c8-4a41-a7d8-b6881fe116ef"
      },
      "execution_count": 8,
      "outputs": [
        {
          "output_type": "execute_result",
          "data": {
            "text/plain": [
              "0.8888888888888888"
            ]
          },
          "metadata": {},
          "execution_count": 8
        }
      ]
    },
    {
      "cell_type": "code",
      "source": [
        "Accuracy_Hillary = np.sum(y_train[1] == y_2)/63\n",
        "Accuracy_Hillary"
      ],
      "metadata": {
        "colab": {
          "base_uri": "https://localhost:8080/"
        },
        "outputId": "64673373-61f7-4a16-e889-17fbc91178a4",
        "id": "_xjWSnS72o7s"
      },
      "execution_count": 9,
      "outputs": [
        {
          "output_type": "execute_result",
          "data": {
            "text/plain": [
              "0.9206349206349206"
            ]
          },
          "metadata": {},
          "execution_count": 9
        }
      ]
    },
    {
      "cell_type": "code",
      "source": [
        "Accuracy_Kenstar = np.sum(y_train[2] == y_3)/63\n",
        "Accuracy_Kenstar"
      ],
      "metadata": {
        "colab": {
          "base_uri": "https://localhost:8080/"
        },
        "outputId": "21c6db1d-11c7-4b3d-eb24-3886127ae809",
        "id": "74oWhdZS2pJZ"
      },
      "execution_count": 10,
      "outputs": [
        {
          "output_type": "execute_result",
          "data": {
            "text/plain": [
              "0.873015873015873"
            ]
          },
          "metadata": {},
          "execution_count": 10
        }
      ]
    },
    {
      "cell_type": "markdown",
      "source": [
        "# **Model evaluation(Reverse)**"
      ],
      "metadata": {
        "id": "2bhBPhqh3jCx"
      }
    },
    {
      "cell_type": "code",
      "source": [
        "x_1 = model.backward(y_train[0])\n",
        "x_2 = model.backward(y_train[1])\n",
        "x_3 = model.backward(y_train[2])"
      ],
      "metadata": {
        "id": "4VfoLl1A39uX"
      },
      "execution_count": 11,
      "outputs": []
    },
    {
      "cell_type": "code",
      "source": [
        "Accuracy_President = np.sum(X_train[0] == x_1)/49\n",
        "Accuracy_President"
      ],
      "metadata": {
        "colab": {
          "base_uri": "https://localhost:8080/"
        },
        "outputId": "5a573c46-099f-4b08-c8eb-61949516951a",
        "id": "yvUMNHqx39ub"
      },
      "execution_count": 12,
      "outputs": [
        {
          "output_type": "execute_result",
          "data": {
            "text/plain": [
              "0.7959183673469388"
            ]
          },
          "metadata": {},
          "execution_count": 12
        }
      ]
    },
    {
      "cell_type": "code",
      "source": [
        "Accuracy_FirstLady = np.sum(X_train[1] == x_2)/49\n",
        "Accuracy_FirstLady"
      ],
      "metadata": {
        "colab": {
          "base_uri": "https://localhost:8080/"
        },
        "outputId": "a07c7867-2b21-4935-f6b9-8dd609707188",
        "id": "SycNZyYz39uc"
      },
      "execution_count": 13,
      "outputs": [
        {
          "output_type": "execute_result",
          "data": {
            "text/plain": [
              "0.6938775510204082"
            ]
          },
          "metadata": {},
          "execution_count": 13
        }
      ]
    },
    {
      "cell_type": "code",
      "source": [
        "Accuracy_Gentelman = np.sum(X_train[2] == x_3)/49\n",
        "Accuracy_Gentelman"
      ],
      "metadata": {
        "colab": {
          "base_uri": "https://localhost:8080/"
        },
        "outputId": "5a9149dd-37b2-498b-b2a8-663807a211c3",
        "id": "YAFpSpxs39ue"
      },
      "execution_count": 14,
      "outputs": [
        {
          "output_type": "execute_result",
          "data": {
            "text/plain": [
              "0.7551020408163265"
            ]
          },
          "metadata": {},
          "execution_count": 14
        }
      ]
    },
    {
      "cell_type": "markdown",
      "source": [
        "# **Part 3**"
      ],
      "metadata": {
        "id": "w33uoe665f-T"
      }
    },
    {
      "cell_type": "code",
      "source": [
        "def ShowResultWithNoise(arr,percentage):\n",
        "    pixels = int(np.prod(arr.shape)*percentage)\n",
        "    with_noise = np.copy(arr)\n",
        "    for pixel in range(pixels) :\n",
        "      random_pixel = np.random.choice(np.prod(with_noise.shape), 1)\n",
        "      if with_noise.flat[random_pixel] == -1 :\n",
        "        with_noise.flat[random_pixel] = 1\n",
        "      else:\n",
        "        with_noise.flat[random_pixel] = 1\n",
        "    \n",
        "    return with_noise"
      ],
      "metadata": {
        "id": "XSWISI9f53xp"
      },
      "execution_count": 15,
      "outputs": []
    },
    {
      "cell_type": "code",
      "source": [
        "X_Clinton_10_noised = ShowResultWithNoise(X_Clinton, 0.1)\n",
        "X_Hillary_10_noised = ShowResultWithNoise(X_Hillary, 0.1)\n",
        "X_Kenstar_10_noised = ShowResultWithNoise(X_Kenstar, 0.1)\n",
        "Y_Clinton_10_noised = ShowResultWithNoise(Y_Clinton, 0.1)\n",
        "Y_Hillary_10_noised = ShowResultWithNoise(Y_Hillary, 0.1)\n",
        "Y_Kenstar_10_noised = ShowResultWithNoise(Y_Kenstar, 0.1)"
      ],
      "metadata": {
        "id": "0serUUz68JGP"
      },
      "execution_count": 16,
      "outputs": []
    },
    {
      "cell_type": "markdown",
      "source": [
        "# **Model evaluation with 10% noise(direction)**"
      ],
      "metadata": {
        "id": "vzR3ZkA8FH8F"
      }
    },
    {
      "cell_type": "code",
      "source": [
        "X_train = np.concatenate([X_Clinton_10_noised.reshape(1,49), X_Hillary_10_noised.reshape(1,49), X_Kenstar_10_noised.reshape(1,49)], axis=0)\n",
        "y_train = np.concatenate([Y_Clinton.reshape(1,63), Y_Hillary.reshape(1,63), Y_Kenstar.reshape(1,63)], axis=0)"
      ],
      "metadata": {
        "id": "3tQd9da1ECX4"
      },
      "execution_count": 17,
      "outputs": []
    },
    {
      "cell_type": "code",
      "source": [
        "y_1 = model.forward(X_train[0])\n",
        "y_2 = model.forward(X_train[1])\n",
        "y_3 = model.forward(X_train[2])"
      ],
      "metadata": {
        "id": "NbE7uTHcEnM-"
      },
      "execution_count": 18,
      "outputs": []
    },
    {
      "cell_type": "code",
      "source": [
        "Accuracy_Clinton = np.sum(y_train[0] == y_1)/63\n",
        "Accuracy_Clinton"
      ],
      "metadata": {
        "colab": {
          "base_uri": "https://localhost:8080/"
        },
        "outputId": "ffecbefe-a524-4a76-9b56-84cb532f58c5",
        "id": "nIwF_FIsEnNB"
      },
      "execution_count": 19,
      "outputs": [
        {
          "output_type": "execute_result",
          "data": {
            "text/plain": [
              "0.8888888888888888"
            ]
          },
          "metadata": {},
          "execution_count": 19
        }
      ]
    },
    {
      "cell_type": "code",
      "source": [
        "Accuracy_Hillary = np.sum(y_train[1] == y_2)/63\n",
        "Accuracy_Hillary"
      ],
      "metadata": {
        "colab": {
          "base_uri": "https://localhost:8080/"
        },
        "outputId": "161c86eb-fd3d-47d9-b256-785b18cb8638",
        "id": "_E5s_TUDEnNC"
      },
      "execution_count": 20,
      "outputs": [
        {
          "output_type": "execute_result",
          "data": {
            "text/plain": [
              "0.9206349206349206"
            ]
          },
          "metadata": {},
          "execution_count": 20
        }
      ]
    },
    {
      "cell_type": "code",
      "source": [
        "Accuracy_Kenstar = np.sum(y_train[2] == y_3)/63\n",
        "Accuracy_Kenstar"
      ],
      "metadata": {
        "colab": {
          "base_uri": "https://localhost:8080/"
        },
        "outputId": "c6ff6d93-2767-4b40-fc88-54be9f091633",
        "id": "4S_Ft1f5EnNE"
      },
      "execution_count": 21,
      "outputs": [
        {
          "output_type": "execute_result",
          "data": {
            "text/plain": [
              "0.873015873015873"
            ]
          },
          "metadata": {},
          "execution_count": 21
        }
      ]
    },
    {
      "cell_type": "markdown",
      "source": [
        "# **Model evaluation with 10% noise(Reverse)**"
      ],
      "metadata": {
        "id": "n2C9BA3nFdL_"
      }
    },
    {
      "cell_type": "code",
      "source": [
        "X_train = np.concatenate([X_Clinton.reshape(1,49), X_Hillary.reshape(1,49), X_Kenstar.reshape(1,49)], axis=0)\n",
        "y_train = np.concatenate([Y_Clinton_10_noised.reshape(1,63), Y_Hillary_10_noised.reshape(1,63), Y_Kenstar_10_noised.reshape(1,63)], axis=0)"
      ],
      "metadata": {
        "id": "viVtlWWQFcyQ"
      },
      "execution_count": 22,
      "outputs": []
    },
    {
      "cell_type": "code",
      "source": [
        "x_1 = model.backward(y_train[0])\n",
        "x_2 = model.backward(y_train[1])\n",
        "x_3 = model.backward(y_train[2])"
      ],
      "metadata": {
        "id": "1_DwLnB7GaZv"
      },
      "execution_count": 23,
      "outputs": []
    },
    {
      "cell_type": "code",
      "source": [
        "Accuracy_President = np.sum(X_train[0] == x_1)/49\n",
        "Accuracy_President"
      ],
      "metadata": {
        "colab": {
          "base_uri": "https://localhost:8080/"
        },
        "outputId": "f9e29c49-7183-49ef-d993-e2688d5efeec",
        "id": "ub4OcbM1GaaD"
      },
      "execution_count": 24,
      "outputs": [
        {
          "output_type": "execute_result",
          "data": {
            "text/plain": [
              "0.7959183673469388"
            ]
          },
          "metadata": {},
          "execution_count": 24
        }
      ]
    },
    {
      "cell_type": "code",
      "source": [
        "Accuracy_FirstLady = np.sum(X_train[1] == x_2)/49\n",
        "Accuracy_FirstLady"
      ],
      "metadata": {
        "colab": {
          "base_uri": "https://localhost:8080/"
        },
        "outputId": "19b3965b-7e69-4445-fba9-6b48c785d154",
        "id": "uZ4N8Z1WGaaF"
      },
      "execution_count": 25,
      "outputs": [
        {
          "output_type": "execute_result",
          "data": {
            "text/plain": [
              "0.6938775510204082"
            ]
          },
          "metadata": {},
          "execution_count": 25
        }
      ]
    },
    {
      "cell_type": "code",
      "source": [
        "Accuracy_Gentelman = np.sum(X_train[2] == x_3)/49\n",
        "Accuracy_Gentelman"
      ],
      "metadata": {
        "colab": {
          "base_uri": "https://localhost:8080/"
        },
        "outputId": "7fb7a823-30f5-4137-d36d-e6f022f25190",
        "id": "LYmHDcOrGaaG"
      },
      "execution_count": 26,
      "outputs": [
        {
          "output_type": "execute_result",
          "data": {
            "text/plain": [
              "0.7551020408163265"
            ]
          },
          "metadata": {},
          "execution_count": 26
        }
      ]
    },
    {
      "cell_type": "markdown",
      "source": [
        "#**Model evaluation with 20% noise(direction)**"
      ],
      "metadata": {
        "id": "ENYXvgUBIrVq"
      }
    },
    {
      "cell_type": "code",
      "source": [
        "X_Clinton_20_noised = ShowResultWithNoise(X_Clinton, 0.2)\n",
        "X_Hillary_20_noised = ShowResultWithNoise(X_Hillary, 0.2)\n",
        "X_Kenstar_20_noised = ShowResultWithNoise(X_Kenstar, 0.2)\n",
        "Y_Clinton_20_noised = ShowResultWithNoise(Y_Clinton, 0.2)\n",
        "Y_Hillary_20_noised = ShowResultWithNoise(Y_Hillary, 0.2)\n",
        "Y_Kenstar_20_noised = ShowResultWithNoise(Y_Kenstar, 0.2)"
      ],
      "metadata": {
        "id": "I4CrZiVBFccJ"
      },
      "execution_count": 27,
      "outputs": []
    },
    {
      "cell_type": "code",
      "source": [
        "X_train = np.concatenate([X_Clinton_20_noised.reshape(1,49), X_Hillary_20_noised.reshape(1,49), X_Kenstar_20_noised.reshape(1,49)], axis=0)\n",
        "y_train = np.concatenate([Y_Clinton.reshape(1,63), Y_Hillary.reshape(1,63), Y_Kenstar.reshape(1,63)], axis=0)"
      ],
      "metadata": {
        "id": "qW6lt5uRI40L"
      },
      "execution_count": 28,
      "outputs": []
    },
    {
      "cell_type": "code",
      "source": [
        "y_1 = model.forward(X_train[0])\n",
        "y_2 = model.forward(X_train[1])\n",
        "y_3 = model.forward(X_train[2])"
      ],
      "metadata": {
        "id": "a7SK9eSXI40O"
      },
      "execution_count": 29,
      "outputs": []
    },
    {
      "cell_type": "code",
      "source": [
        "Accuracy_Clinton = np.sum(y_train[0] == y_1)/63\n",
        "Accuracy_Clinton"
      ],
      "metadata": {
        "colab": {
          "base_uri": "https://localhost:8080/"
        },
        "outputId": "6ffbcb75-6e1c-4645-d1c0-bd58c294de71",
        "id": "W3UJD5qvI40P"
      },
      "execution_count": 30,
      "outputs": [
        {
          "output_type": "execute_result",
          "data": {
            "text/plain": [
              "0.8888888888888888"
            ]
          },
          "metadata": {},
          "execution_count": 30
        }
      ]
    },
    {
      "cell_type": "code",
      "source": [
        "Accuracy_Hillary = np.sum(y_train[1] == y_2)/63\n",
        "Accuracy_Hillary"
      ],
      "metadata": {
        "colab": {
          "base_uri": "https://localhost:8080/"
        },
        "outputId": "80c7b319-6cfb-460e-95d8-8a915c213fcc",
        "id": "Rv5tdTpJI40Q"
      },
      "execution_count": 31,
      "outputs": [
        {
          "output_type": "execute_result",
          "data": {
            "text/plain": [
              "0.9206349206349206"
            ]
          },
          "metadata": {},
          "execution_count": 31
        }
      ]
    },
    {
      "cell_type": "code",
      "source": [
        "Accuracy_Kenstar = np.sum(y_train[2] == y_3)/63\n",
        "Accuracy_Kenstar"
      ],
      "metadata": {
        "colab": {
          "base_uri": "https://localhost:8080/"
        },
        "outputId": "49e102de-bb3b-4058-afc6-db6b3b9626ee",
        "id": "Z1MIh5SsI40R"
      },
      "execution_count": 32,
      "outputs": [
        {
          "output_type": "execute_result",
          "data": {
            "text/plain": [
              "0.873015873015873"
            ]
          },
          "metadata": {},
          "execution_count": 32
        }
      ]
    },
    {
      "cell_type": "markdown",
      "source": [
        "# **Model evaluation with 20% noise(Reverse)**"
      ],
      "metadata": {
        "id": "NOAcaAtdJK1H"
      }
    },
    {
      "cell_type": "code",
      "source": [
        "X_train = np.concatenate([X_Clinton.reshape(1,49), X_Hillary.reshape(1,49), X_Kenstar.reshape(1,49)], axis=0)\n",
        "y_train = np.concatenate([Y_Clinton_20_noised.reshape(1,63), Y_Hillary_20_noised.reshape(1,63), Y_Kenstar_20_noised.reshape(1,63)], axis=0)"
      ],
      "metadata": {
        "id": "ARBRDy0DJK1J"
      },
      "execution_count": 33,
      "outputs": []
    },
    {
      "cell_type": "code",
      "source": [
        "x_1 = model.backward(y_train[0])\n",
        "x_2 = model.backward(y_train[1])\n",
        "x_3 = model.backward(y_train[2])"
      ],
      "metadata": {
        "id": "anCPMebAJK1K"
      },
      "execution_count": 34,
      "outputs": []
    },
    {
      "cell_type": "code",
      "source": [
        "Accuracy_President = np.sum(X_train[0] == x_1)/49\n",
        "Accuracy_President"
      ],
      "metadata": {
        "colab": {
          "base_uri": "https://localhost:8080/"
        },
        "outputId": "e6db6ad4-9584-46f1-e96a-e165db42ca15",
        "id": "YSV6UA18JK1L"
      },
      "execution_count": 35,
      "outputs": [
        {
          "output_type": "execute_result",
          "data": {
            "text/plain": [
              "0.7959183673469388"
            ]
          },
          "metadata": {},
          "execution_count": 35
        }
      ]
    },
    {
      "cell_type": "code",
      "source": [
        "Accuracy_FirstLady = np.sum(X_train[1] == x_2)/49\n",
        "Accuracy_FirstLady"
      ],
      "metadata": {
        "colab": {
          "base_uri": "https://localhost:8080/"
        },
        "outputId": "4bdf23c8-a9af-4e81-a27a-4aa100589d2a",
        "id": "CUMBLgCyJK1M"
      },
      "execution_count": 36,
      "outputs": [
        {
          "output_type": "execute_result",
          "data": {
            "text/plain": [
              "0.6938775510204082"
            ]
          },
          "metadata": {},
          "execution_count": 36
        }
      ]
    },
    {
      "cell_type": "code",
      "source": [
        "Accuracy_Gentleman = np.sum(X_train[2] == x_3)/49\n",
        "Accuracy_Gentleman"
      ],
      "metadata": {
        "colab": {
          "base_uri": "https://localhost:8080/"
        },
        "outputId": "ff996db1-9fb8-418e-e0a3-43a78d93201c",
        "id": "CVwoiaftJK1N"
      },
      "execution_count": 37,
      "outputs": [
        {
          "output_type": "execute_result",
          "data": {
            "text/plain": [
              "0.7551020408163265"
            ]
          },
          "metadata": {},
          "execution_count": 37
        }
      ]
    },
    {
      "cell_type": "markdown",
      "source": [
        "# **Part 5**"
      ],
      "metadata": {
        "id": "u9nuRjRAHCd_"
      }
    },
    {
      "cell_type": "code",
      "source": [
        "X_Lewisky = np.array([\n",
        "                      1,0,0,1,1,0,0,\n",
        "                      1,1,0,0,1,0,1,\n",
        "                      1,1,1,0,1,1,1,\n",
        "                      1,1,0,1,0,0,1,\n",
        "                      1,1,1,0,0,1,1,\n",
        "                      1,1,0,1,0,1,1,\n",
        "                      1,1,1,1,0,0,1\n",
        "])\n",
        "\n",
        "Y_Lewisky = np.array([\n",
        "                      1,0,1,0,0,1,1,\n",
        "                      1,1,1,0,1,1,1,\n",
        "                      1,1,0,0,1,0,1,\n",
        "                      1,1,0,0,1,0,1,\n",
        "                      1,1,1,0,1,0,0,\n",
        "                      1,0,0,0,1,1,1,\n",
        "                      1,1,0,1,0,0,1,\n",
        "                      1,1,1,0,0,1,0,\n",
        "                      1,1,0,1,1,0,0\n",
        "])"
      ],
      "metadata": {
        "id": "XiMM6aRcHJV4"
      },
      "execution_count": 38,
      "outputs": []
    },
    {
      "cell_type": "markdown",
      "source": [
        "# **Model evaluation(Direction)**"
      ],
      "metadata": {
        "id": "7ZFGYFeSL-sK"
      }
    },
    {
      "cell_type": "code",
      "source": [
        "X_train = np.concatenate([X_Clinton.reshape(1,49), X_Hillary.reshape(1,49), X_Kenstar.reshape(1,49), X_Lewisky.reshape(1,49) ], axis=0)\n",
        "y_train = np.concatenate([Y_Clinton.reshape(1,63), Y_Hillary.reshape(1,63), Y_Kenstar.reshape(1,63), Y_Lewisky.reshape(1,63)], axis=0)"
      ],
      "metadata": {
        "id": "q8PEiYsIHJGc"
      },
      "execution_count": 39,
      "outputs": []
    },
    {
      "cell_type": "code",
      "source": [
        "y_1 = model.forward(X_train[0])\n",
        "y_2 = model.forward(X_train[1])\n",
        "y_3 = model.forward(X_train[2])\n",
        "y_4 = model.forward(X_train[3])"
      ],
      "metadata": {
        "id": "63tNPMC3LCoJ"
      },
      "execution_count": 40,
      "outputs": []
    },
    {
      "cell_type": "code",
      "source": [
        "Accuracy_Clinton = np.sum(y_train[0] == y_1)/63\n",
        "Accuracy_Clinton"
      ],
      "metadata": {
        "colab": {
          "base_uri": "https://localhost:8080/"
        },
        "outputId": "34043d1e-83af-42d6-eaaf-98c94764dc2d",
        "id": "Yzx7GgIrLCob"
      },
      "execution_count": 41,
      "outputs": [
        {
          "output_type": "execute_result",
          "data": {
            "text/plain": [
              "0.8888888888888888"
            ]
          },
          "metadata": {},
          "execution_count": 41
        }
      ]
    },
    {
      "cell_type": "code",
      "source": [
        "Accuracy_Hillary = np.sum(y_train[1] == y_2)/63\n",
        "Accuracy_Hillary"
      ],
      "metadata": {
        "colab": {
          "base_uri": "https://localhost:8080/"
        },
        "outputId": "3d4710a0-f1bf-4dd9-c680-848502e32fed",
        "id": "LE8ELpzYLCoc"
      },
      "execution_count": 42,
      "outputs": [
        {
          "output_type": "execute_result",
          "data": {
            "text/plain": [
              "0.9206349206349206"
            ]
          },
          "metadata": {},
          "execution_count": 42
        }
      ]
    },
    {
      "cell_type": "code",
      "source": [
        "Accuracy_Kenstar = np.sum(y_train[2] == y_3)/63\n",
        "Accuracy_Kenstar"
      ],
      "metadata": {
        "colab": {
          "base_uri": "https://localhost:8080/"
        },
        "outputId": "a956058f-6400-49dc-b959-79aba5f465ca",
        "id": "CCYgnXxBLCod"
      },
      "execution_count": 43,
      "outputs": [
        {
          "output_type": "execute_result",
          "data": {
            "text/plain": [
              "0.873015873015873"
            ]
          },
          "metadata": {},
          "execution_count": 43
        }
      ]
    },
    {
      "cell_type": "code",
      "source": [
        "Accuracy_Lewisky = np.sum(y_train[3] == y_4)/63\n",
        "Accuracy_Lewisky"
      ],
      "metadata": {
        "colab": {
          "base_uri": "https://localhost:8080/"
        },
        "id": "kJTDUJ9hLInZ",
        "outputId": "8558894c-2ccd-47dc-98b3-2621927e424d"
      },
      "execution_count": 44,
      "outputs": [
        {
          "output_type": "execute_result",
          "data": {
            "text/plain": [
              "0.6507936507936508"
            ]
          },
          "metadata": {},
          "execution_count": 44
        }
      ]
    },
    {
      "cell_type": "markdown",
      "source": [
        "# **Model evaluation(Reverse)**"
      ],
      "metadata": {
        "id": "voCf_V5hLc4I"
      }
    },
    {
      "cell_type": "code",
      "source": [
        "x_1 = model.backward(y_train[0])\n",
        "x_2 = model.backward(y_train[1])\n",
        "x_3 = model.backward(y_train[2])\n",
        "x_4 = model.backward(y_train[3])"
      ],
      "metadata": {
        "id": "d8uG93ZiLeTD"
      },
      "execution_count": 45,
      "outputs": []
    },
    {
      "cell_type": "code",
      "source": [
        "Accuracy_President = np.sum(X_train[0] == x_1)/49\n",
        "Accuracy_President"
      ],
      "metadata": {
        "colab": {
          "base_uri": "https://localhost:8080/"
        },
        "outputId": "8e4d4371-6166-4aec-ed65-5a0fc4f58f4d",
        "id": "iKL-ADX_LeTF"
      },
      "execution_count": 46,
      "outputs": [
        {
          "output_type": "execute_result",
          "data": {
            "text/plain": [
              "0.7959183673469388"
            ]
          },
          "metadata": {},
          "execution_count": 46
        }
      ]
    },
    {
      "cell_type": "code",
      "source": [
        "Accuracy_FirstLady = np.sum(X_train[1] == x_2)/49\n",
        "Accuracy_FirstLady"
      ],
      "metadata": {
        "colab": {
          "base_uri": "https://localhost:8080/"
        },
        "outputId": "b48ecc16-706b-4310-dea3-fbaa9e41afac",
        "id": "ifLu_A-yLeTG"
      },
      "execution_count": 47,
      "outputs": [
        {
          "output_type": "execute_result",
          "data": {
            "text/plain": [
              "0.6938775510204082"
            ]
          },
          "metadata": {},
          "execution_count": 47
        }
      ]
    },
    {
      "cell_type": "code",
      "source": [
        "Accuracy_Gentleman = np.sum(X_train[2] == x_3)/49\n",
        "Accuracy_Gentleman"
      ],
      "metadata": {
        "colab": {
          "base_uri": "https://localhost:8080/"
        },
        "outputId": "dede9bba-2b4d-4e34-e97c-e91477336f45",
        "id": "MX8yZo1zLeTH"
      },
      "execution_count": 48,
      "outputs": [
        {
          "output_type": "execute_result",
          "data": {
            "text/plain": [
              "0.7551020408163265"
            ]
          },
          "metadata": {},
          "execution_count": 48
        }
      ]
    },
    {
      "cell_type": "code",
      "source": [
        "Accuracy_SweetGirl = np.sum(X_train[3] == x_4)/49\n",
        "Accuracy_SweetGirl"
      ],
      "metadata": {
        "colab": {
          "base_uri": "https://localhost:8080/"
        },
        "id": "j_IibM7-LcUW",
        "outputId": "69dac50a-6e58-421e-e7b4-9e77ec19b2fe"
      },
      "execution_count": 49,
      "outputs": [
        {
          "output_type": "execute_result",
          "data": {
            "text/plain": [
              "0.6938775510204082"
            ]
          },
          "metadata": {},
          "execution_count": 49
        }
      ]
    },
    {
      "cell_type": "markdown",
      "source": [
        "**As you can see, the network's performance in the inputs and outputs for the first three characters is the same as the previous, but the network performance in the fourth character input and output is less than the rest.**"
      ],
      "metadata": {
        "id": "8hRESAyxM9q1"
      }
    }
  ]
}