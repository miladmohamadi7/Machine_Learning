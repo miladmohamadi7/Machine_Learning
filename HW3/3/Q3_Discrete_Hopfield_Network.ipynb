{
  "cells": [
    {
      "cell_type": "markdown",
      "source": [
        "# **part 1**\n",
        "# Discrete Hopfield Network: \n",
        "**It is a fully interconnected neural network where each unit is connected to every other unit. It behaves in a discrete manner, i.e. it gives finite distinct output, generally of two types**: \n",
        "\n",
        "1. Binary (0/1)\n",
        "2. Bipolar (-1/1)\n",
        "\n",
        "**The weights associated with this network is symmetric in nature and has the following properties.** \n",
        "1. w(ij) = w(ji) \n",
        "2. w(ii) = 0  \n",
        "\n",
        "# Structure & Architecture  \n",
        "\n",
        "1. **Each neuron has an inverting and a non-inverting output.**\n",
        "2. **Being fully connected, the output of each neuron is an input to all other neurons but not self.**\n",
        "\n",
        "# Training Algorithm\n",
        "\n",
        "**For storing a set of input patterns S(p) [p = 1 to P], where S(p) = S1(p) … Si(p) … Sn(p), the weight matrix is given by:**\n",
        "\n",
        "**Case 1 − Binary input patterns:**\n",
        "\n",
        "For a set of binary patterns sp, p = 1 to P\n",
        "\n",
        "Here, sp = s1p, s2p,..., sip,..., snp\n",
        "\n",
        "Weight Matrix is given by\n",
        "\n",
        "          w(ij) = ∑ [2si(p)−1][2sj(p)−1]          fori≠j\n",
        "\n",
        "**Case 2 − Bipolar input patterns:**\n",
        "\n",
        "For a set of binary patterns sp, p = 1 to P\n",
        "\n",
        "Here, sp = s1p, s2p,..., sip,..., snp\n",
        "\n",
        "Weight Matrix is given by\n",
        "\n",
        "         w(ij) = ∑ [si(p)][sj(p)]                 fori≠j\n",
        "\n",
        "          \n",
        "\n"
      ],
      "metadata": {
        "id": "78Z3ObFrfsox"
      }
    },
    {
      "cell_type": "code",
      "source": [
        "from google.colab import drive\n",
        "\n",
        "drive.mount('/content/gdrive')"
      ],
      "metadata": {
        "colab": {
          "base_uri": "https://localhost:8080/"
        },
        "id": "I2GtCZeobAP9",
        "outputId": "a0fc22f2-bcd3-4c05-9efc-02f9644efdef"
      },
      "execution_count": 1,
      "outputs": [
        {
          "output_type": "stream",
          "name": "stdout",
          "text": [
            "Drive already mounted at /content/gdrive; to attempt to forcibly remount, call drive.mount(\"/content/gdrive\", force_remount=True).\n"
          ]
        }
      ]
    },
    {
      "cell_type": "code",
      "source": [
        "import numpy as np\n",
        "from PIL import Image\n",
        "import matplotlib.pyplot as plt"
      ],
      "metadata": {
        "id": "1Dzg_Y61f-SE"
      },
      "execution_count": 2,
      "outputs": []
    },
    {
      "cell_type": "markdown",
      "source": [
        "# part 2\n",
        "\n",
        "**Reading images and changing size to 64*64**"
      ],
      "metadata": {
        "id": "2vFDuOT-jFhR"
      }
    },
    {
      "cell_type": "code",
      "source": [
        "Test_1 = Image.open(r\"/content/gdrive/MyDrive/test1.png\").convert(mode=\"L\").resize(size =(64,64))\n",
        "Test_2 = Image.open(r\"/content/gdrive/MyDrive/test2.png\").convert(mode=\"L\").resize(size =(64,64))\n",
        "Test_3 = Image.open(r\"/content/gdrive/MyDrive/test3.png\").convert(mode=\"L\").resize(size =(64,64))\n",
        "Train = Image.open(r\"/content/gdrive/MyDrive/train.jpg\").convert(mode=\"L\").resize(size =(64,64))"
      ],
      "metadata": {
        "id": "DwrpOT1YQwjp"
      },
      "execution_count": 3,
      "outputs": []
    },
    {
      "cell_type": "markdown",
      "source": [
        "**bipolar function**"
      ],
      "metadata": {
        "id": "GH6aPYMnjkyu"
      }
    },
    {
      "cell_type": "code",
      "source": [
        "def bipolar(image):\n",
        "  threshold = 120\n",
        "  image_array = np.asarray(image,dtype=np.uint8)\n",
        "  x = np.zeros(image_array.shape,dtype=np.float)\n",
        "  x[image_array > threshold] = 1\n",
        "  x[image_array < threshold] = -1\n",
        "  return x"
      ],
      "metadata": {
        "id": "lCaNQnSDQwMJ"
      },
      "execution_count": 4,
      "outputs": []
    },
    {
      "cell_type": "code",
      "source": [
        "X_train =  bipolar(Train)\n",
        "X_test_1 = bipolar(Test_1)\n",
        "X_test_2 = bipolar(Test_2)\n",
        "X_test_3 = bipolar(Test_3)"
      ],
      "metadata": {
        "id": "zC6Ds3VwlXpl",
        "colab": {
          "base_uri": "https://localhost:8080/"
        },
        "outputId": "a19babb9-3dfa-4cf5-bc6c-bd443dbaa215"
      },
      "execution_count": 5,
      "outputs": [
        {
          "output_type": "stream",
          "name": "stderr",
          "text": [
            "/usr/local/lib/python3.7/dist-packages/ipykernel_launcher.py:4: DeprecationWarning: `np.float` is a deprecated alias for the builtin `float`. To silence this warning, use `float` by itself. Doing this will not modify any behavior and is safe. If you specifically wanted the numpy scalar type, use `np.float64` here.\n",
            "Deprecated in NumPy 1.20; for more details and guidance: https://numpy.org/devdocs/release/1.20.0-notes.html#deprecations\n",
            "  after removing the cwd from sys.path.\n"
          ]
        }
      ]
    },
    {
      "cell_type": "markdown",
      "source": [
        "**plotting train and test images in bipolar form**"
      ],
      "metadata": {
        "id": "XjRMlQabjrJM"
      }
    },
    {
      "cell_type": "code",
      "source": [
        "plt.imshow(np.repeat(X_train[:,:,np.newaxis], repeats=3, axis=2))\n",
        "plt.title(\"train image\")\n",
        "plt.show()\n",
        "plt.imshow(np.repeat(X_test_1[:,:,np.newaxis], repeats=3, axis=2))\n",
        "plt.title(\"test_1 image\")\n",
        "plt.show()\n",
        "plt.imshow(np.repeat(X_test_2[:,:,np.newaxis], repeats=3, axis=2))\n",
        "plt.title(\"test_2 image\")\n",
        "plt.show()\n",
        "plt.imshow(np.repeat(X_test_3[:,:,np.newaxis], repeats=3, axis=2))\n",
        "plt.title(\"test_3 image\")\n",
        "plt.show()"
      ],
      "metadata": {
        "colab": {
          "base_uri": "https://localhost:8080/",
          "height": 1000
        },
        "id": "wza3mZXLcQ1O",
        "outputId": "36bba950-5c46-44b6-88f2-4246131b1c8b"
      },
      "execution_count": 6,
      "outputs": [
        {
          "output_type": "stream",
          "name": "stderr",
          "text": [
            "Clipping input data to the valid range for imshow with RGB data ([0..1] for floats or [0..255] for integers).\n"
          ]
        },
        {
          "output_type": "display_data",
          "data": {
            "text/plain": [
              "<Figure size 432x288 with 1 Axes>"
            ],
            "image/png": "[encoded data removed]"
          },
          "metadata": {
            "needs_background": "light"
          }
        },
        {
          "output_type": "stream",
          "name": "stderr",
          "text": [
            "Clipping input data to the valid range for imshow with RGB data ([0..1] for floats or [0..255] for integers).\n"
          ]
        },
        {
          "output_type": "display_data",
          "data": {
            "text/plain": [
              "<Figure size 432x288 with 1 Axes>"
            ],
            "image/png": "[encoded data removed]"
          },
          "metadata": {
            "needs_background": "light"
          }
        },
        {
          "output_type": "stream",
          "name": "stderr",
          "text": [
            "Clipping input data to the valid range for imshow with RGB data ([0..1] for floats or [0..255] for integers).\n"
          ]
        },
        {
          "output_type": "display_data",
          "data": {
            "text/plain": [
              "<Figure size 432x288 with 1 Axes>"
            ],
            "image/png": "[encoded data removed]"
          },
          "metadata": {
            "needs_background": "light"
          }
        },
        {
          "output_type": "stream",
          "name": "stderr",
          "text": [
            "Clipping input data to the valid range for imshow with RGB data ([0..1] for floats or [0..255] for integers).\n"
          ]
        },
        {
          "output_type": "display_data",
          "data": {
            "text/plain": [
              "<Figure size 432x288 with 1 Axes>"
            ],
            "image/png": "[encoded data removed]"
          },
          "metadata": {
            "needs_background": "light"
          }
        }
      ]
    },
    {
      "cell_type": "code",
      "source": [
        "class DiscreteHopfieldNet():\n",
        "\n",
        "      def __init__(self):\n",
        "        self.weight = None\n",
        "\n",
        "      def train(self,data):\n",
        "        a = data[0]\n",
        "        a = np.expand_dims(a, 1)\n",
        "        self.weight = np.matmul(a, a.T)\n",
        "        for i in range(len(a)):\n",
        "            self.weight[i][i] = 0\n",
        "      \n",
        "      \n",
        "      def Activation(self,yi, theta=0):\n",
        "           if yi > theta:\n",
        "             return 1\n",
        "           else:\n",
        "             return -1\n",
        "\n",
        "      def predict(self, input_image, weights):\n",
        "        history = np.zeros((input_image.shape[0]))\n",
        "        y = input_image\n",
        "        iter_times = 50\n",
        "        random_indices = np.random.permutation(np.arange(len(input_image)))\n",
        "        for i in range(iter_times):\n",
        "           for index in random_indices:\n",
        "              y[index] = y[index] + np.dot(y, weights[index])\n",
        "              y[index] = self.Activation(y[index])\n",
        "        history = y\n",
        "        return history\n"
      ],
      "metadata": {
        "id": "1JBrzj1Z9zVP"
      },
      "execution_count": 7,
      "outputs": []
    },
    {
      "cell_type": "markdown",
      "source": [
        "# part 3\n",
        "\n",
        "**Matrix of weights**"
      ],
      "metadata": {
        "id": "G6zwvtD2j7K4"
      }
    },
    {
      "cell_type": "code",
      "source": [
        "model = DiscreteHopfieldNet()"
      ],
      "metadata": {
        "id": "y2LT8w6x-PW2"
      },
      "execution_count": 8,
      "outputs": []
    },
    {
      "cell_type": "code",
      "source": [
        "model.train([X_train.reshape(-1)])\n",
        "weights = model.weight\n",
        "weights"
      ],
      "metadata": {
        "colab": {
          "base_uri": "https://localhost:8080/"
        },
        "id": "zLeWRmdI-UPp",
        "outputId": "d47d8cd3-7cf6-4181-a20d-b9f7d5f90ba3"
      },
      "execution_count": 9,
      "outputs": [
        {
          "output_type": "execute_result",
          "data": {
            "text/plain": [
              "array([[ 0.,  1., -1., ...,  1.,  1.,  1.],\n",
              "       [ 1.,  0., -1., ...,  1.,  1.,  1.],\n",
              "       [-1., -1.,  0., ..., -1., -1., -1.],\n",
              "       ...,\n",
              "       [ 1.,  1., -1., ...,  0.,  1.,  1.],\n",
              "       [ 1.,  1., -1., ...,  1.,  0.,  1.],\n",
              "       [ 1.,  1., -1., ...,  1.,  1.,  0.]])"
            ]
          },
          "metadata": {},
          "execution_count": 9
        }
      ]
    },
    {
      "cell_type": "markdown",
      "source": [
        "# part 4"
      ],
      "metadata": {
        "id": "AxgreYItkSQ2"
      }
    },
    {
      "cell_type": "markdown",
      "source": [
        "**predict function evaluation**\n",
        "\n"
      ],
      "metadata": {
        "id": "yOgqN-AKkXL1"
      }
    },
    {
      "cell_type": "code",
      "source": [
        "pred_X_train =  model.predict(X_train.reshape(-1), weights)\n",
        "pred_X_test_1 = model.predict(X_test_1.reshape(-1), weights)\n",
        "pred_X_test_2 = model.predict(X_test_2.reshape(-1), weights)\n",
        "pred_X_test_3 = model.predict(X_test_3.reshape(-1), weights)"
      ],
      "metadata": {
        "id": "fRWDY8PPo1Hk"
      },
      "execution_count": 10,
      "outputs": []
    },
    {
      "cell_type": "code",
      "source": [
        "plt.imshow(pred_X_test_1.reshape(64, 64), cmap=plt.cm.gray)\n",
        "plt.show()\n",
        "plt.imshow(pred_X_test_2.reshape(64, 64), cmap=plt.cm.gray)\n",
        "plt.show()\n",
        "plt.imshow(pred_X_test_3.reshape(64, 64), cmap=plt.cm.gray)\n",
        "plt.show()"
      ],
      "metadata": {
        "colab": {
          "base_uri": "https://localhost:8080/",
          "height": 770
        },
        "id": "NUktxirNuJ9n",
        "outputId": "3275ccbf-e9ee-4b3d-9872-a657583a7dc3"
      },
      "execution_count": 11,
      "outputs": [
        {
          "output_type": "display_data",
          "data": {
            "text/plain": [
              "<Figure size 432x288 with 1 Axes>"
            ],
            "image/png": "[encoded data removed]"
          },
          "metadata": {
            "needs_background": "light"
          }
        },
        {
          "output_type": "display_data",
          "data": {
            "text/plain": [
              "<Figure size 432x288 with 1 Axes>"
            ],
            "image/png": "[encoded data removed]"
          },
          "metadata": {
            "needs_background": "light"
          }
        },
        {
          "output_type": "display_data",
          "data": {
            "text/plain": [
              "<Figure size 432x288 with 1 Axes>"
            ],
            "image/png": "[encoded data removed]"
          },
          "metadata": {
            "needs_background": "light"
          }
        }
      ]
    },
    {
      "cell_type": "markdown",
      "source": [
        "# part 5"
      ],
      "metadata": {
        "id": "oTkzB9GLlU2r"
      }
    },
    {
      "cell_type": "code",
      "source": [
        "def compute_hamming_distance(a, b):\n",
        "    return len(np.where(a != b)[0])"
      ],
      "metadata": {
        "id": "_xVm0ns9sm42"
      },
      "execution_count": 18,
      "outputs": []
    },
    {
      "cell_type": "code",
      "source": [
        "test1_hamming = compute_hamming_distance(pred_X_test_1, pred_X_train)\n",
        "test2_hamming = compute_hamming_distance(pred_X_test_2, pred_X_train)\n",
        "test3_hamming = compute_hamming_distance(pred_X_test_3, pred_X_train)"
      ],
      "metadata": {
        "id": "cOiJ1VmmsobU"
      },
      "execution_count": 19,
      "outputs": []
    },
    {
      "cell_type": "code",
      "source": [
        "print(test1_hamming)\n",
        "\n",
        "print(test2_hamming)\n",
        "\n",
        "print(test3_hamming)"
      ],
      "metadata": {
        "colab": {
          "base_uri": "https://localhost:8080/"
        },
        "id": "jDjDy-UGt2wP",
        "outputId": "c8ab0ab9-954a-492c-e048-4fa4d9ce09f5"
      },
      "execution_count": 20,
      "outputs": [
        {
          "output_type": "stream",
          "name": "stdout",
          "text": [
            "44\n",
            "43\n",
            "33\n"
          ]
        }
      ]
    }
  ],
  "metadata": {
    "colab": {
      "collapsed_sections": [],
      "name": "Q3_Discrete_Hopfield_Network.ipynb",
      "provenance": []
    },
    "kernelspec": {
      "display_name": "Python 3 (ipykernel)",
      "language": "python",
      "name": "python3"
    },
    "language_info": {
      "codemirror_mode": {
        "name": "ipython",
        "version": 3
      },
      "file_extension": ".py",
      "mimetype": "text/x-python",
      "name": "python",
      "nbconvert_exporter": "python",
      "pygments_lexer": "ipython3",
      "version": "3.9.5"
    },
    "accelerator": "GPU"
  },
  "nbformat": 4,
  "nbformat_minor": 0
}