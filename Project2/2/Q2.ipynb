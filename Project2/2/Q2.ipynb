{
 "cells": [
  {
   "cell_type": "markdown",
   "metadata": {
    "id": "gaRfHUCBm0DQ"
   },
   "source": [
    "#**Q2: Text Generation**"
   ]
  },
  {
   "cell_type": "code",
   "execution_count": 1,
   "metadata": {
    "colab": {
     "base_uri": "https://localhost:8080/"
    },
    "id": "qYK1QwyoZomW",
    "outputId": "2060f72c-10b4-4bda-e3ac-3c32a004bef5"
   },
   "outputs": [
    {
     "name": "stdout",
     "output_type": "stream",
     "text": [
      "Drive already mounted at /content/drive; to attempt to forcibly remount, call drive.mount(\"/content/drive\", force_remount=True).\n"
     ]
    }
   ],
   "source": [
    "from google.colab import drive\n",
    "drive.mount('/content/drive')"
   ]
  },
  {
   "cell_type": "markdown",
   "metadata": {
    "id": "CF_FKC1OgWyr"
   },
   "source": [
    "**Importing Dependencies**"
   ]
  },
  {
   "cell_type": "code",
   "execution_count": 2,
   "metadata": {
    "id": "OIcozVlKZEHG"
   },
   "outputs": [],
   "source": [
    "import numpy as np\n",
    "import tensorflow as tf\n",
    "import matplotlib.pyplot as plt\n",
    "from keras.models import Sequential\n",
    "from keras.layers import Dense\n",
    "from keras.layers import Dropout\n",
    "from keras.layers import LSTM, GRU\n",
    "from keras.utils import np_utils"
   ]
  },
  {
   "cell_type": "markdown",
   "metadata": {
    "id": "8flTCs4egdQ6"
   },
   "source": [
    "#**Part 1**"
   ]
  },
  {
   "cell_type": "markdown",
   "metadata": {
    "id": "ui0lCh7TgrqO"
   },
   "source": [
    "**Reading dataset.txt**"
   ]
  },
  {
   "cell_type": "code",
   "execution_count": 3,
   "metadata": {
    "colab": {
     "base_uri": "https://localhost:8080/"
    },
    "id": "NpkyNZr_ZSwI",
    "outputId": "c8086eff-c354-4114-99a9-d7335b1ad891"
   },
   "outputs": [
    {
     "name": "stdout",
     "output_type": "stream",
     "text": [
      "1107542 characters\n"
     ]
    }
   ],
   "source": [
    "path_to_file = \"/content/drive/MyDrive/dataset.txt\"\n",
    "text = open(path_to_file, 'rb').read().decode(encoding='utf-8')\n",
    "print ('{} characters'.format(len(text)))"
   ]
  },
  {
   "cell_type": "markdown",
   "metadata": {
    "id": "l5b0vz4Eg2GA"
   },
   "source": [
    "**Getting a list of unique characters**"
   ]
  },
  {
   "cell_type": "code",
   "execution_count": 4,
   "metadata": {
    "colab": {
     "base_uri": "https://localhost:8080/"
    },
    "id": "qPTCUkf_cjPh",
    "outputId": "323535c4-a040-445c-fbd5-d0d622a5652e"
   },
   "outputs": [
    {
     "name": "stdout",
     "output_type": "stream",
     "text": [
      "80 unique characters\n"
     ]
    }
   ],
   "source": [
    "vocab = sorted(set(text))\n",
    "print ('{} unique characters'.format(len(vocab)))"
   ]
  },
  {
   "cell_type": "markdown",
   "metadata": {
    "id": "EdeTeqaShMeI"
   },
   "source": [
    "**Pre-processing**"
   ]
  },
  {
   "cell_type": "code",
   "execution_count": 5,
   "metadata": {
    "id": "smDNXJlBci-o"
   },
   "outputs": [],
   "source": [
    "char2idx = {u:i for i, u in enumerate(vocab)}\n",
    "idx2char = np.array(vocab)\n",
    "\n",
    "text_as_int = np.array([char2idx[c] for c in text])"
   ]
  },
  {
   "cell_type": "code",
   "execution_count": 6,
   "metadata": {
    "colab": {
     "base_uri": "https://localhost:8080/"
    },
    "id": "CB8ztSc5hAva",
    "outputId": "6118ebb4-2781-4cf0-c589-239d9c8b862a"
   },
   "outputs": [
    {
     "name": "stdout",
     "output_type": "stream",
     "text": [
      "  '\\t':   0,\n",
      "  '\\n':   1,\n",
      "  ' ' :   2,\n",
      "  '!' :   3,\n",
      "  '\"' :   4,\n",
      "  \"'\" :   5,\n",
      "  '(' :   6,\n",
      "  ')' :   7,\n",
      "  ',' :   8,\n",
      "  '-' :   9,\n",
      "  '.' :  10,\n",
      "  '/' :  11,\n",
      "  '0' :  12,\n",
      "  '1' :  13,\n",
      "  '2' :  14,\n",
      "  '3' :  15,\n",
      "  '4' :  16,\n",
      "  '6' :  17,\n",
      "  '7' :  18,\n",
      "  '9' :  19,\n"
     ]
    }
   ],
   "source": [
    "for char,_ in zip(char2idx, range(20)):\n",
    "    print('  {:4s}: {:3d},'.format(repr(char), char2idx[char]))"
   ]
  },
  {
   "cell_type": "markdown",
   "metadata": {
    "id": "C3WX2K8xi0Yl"
   },
   "source": [
    "**Creating training examples and targets**"
   ]
  },
  {
   "cell_type": "code",
   "execution_count": 7,
   "metadata": {
    "colab": {
     "base_uri": "https://localhost:8080/"
    },
    "id": "0Hnp1_QWhQbD",
    "outputId": "6462739d-e9ba-47fd-f541-70156666f2f0"
   },
   "outputs": [
    {
     "name": "stdout",
     "output_type": "stream",
     "text": [
      "HARRY"
     ]
    }
   ],
   "source": [
    "seq_length = 200\n",
    "examples_per_epoch = len(text)//(seq_length+1)\n",
    "\n",
    "char_dataset = tf.data.Dataset.from_tensor_slices(text_as_int)\n",
    "\n",
    "for i in char_dataset.take(5):\n",
    "  print(idx2char[i.numpy()] , end = \"\")"
   ]
  },
  {
   "cell_type": "code",
   "execution_count": 8,
   "metadata": {
    "colab": {
     "base_uri": "https://localhost:8080/"
    },
    "id": "0AJX7OVAhQR0",
    "outputId": "34eeb4f9-461e-4b8d-e670-1546fe1489da"
   },
   "outputs": [
    {
     "name": "stdout",
     "output_type": "stream",
     "text": [
      "'HARRY POTTER AND THE GOBLET OF FIRE\\n\\nCHAPTER ONE - THE RIDDLE HOUSE\\n\\n\\tThe villagers of Little Hangleron still called it \"the Riddle House,\" even though it had been many years since the Riddle family ha'\n",
      "'d lived there.  It stood on a hill overlooking the village, some of its windows boarded, tiles missing from its roof, and ivy spreading unchecked over its face.  Once a fine-looking manor, and easily t'\n",
      "'he largest and grandest building for miles around, the Riddle House was now damp, derelict, and unoccupied.\\n\\tThe Little Hagletons all agreed that the old house was \"creepy.\"  Half a century ago, someth'\n",
      "'ing strange and horrible had happened there, something that the older inhabitants of the village still liked to discuss when topics for gossip were scarce.  The story had been picked over so many times'\n",
      "', and had been embroidered in so many places, that nobody was quite sure what the truth was anymore.  Every version of the tale, however, started in the same place:  Fifty years before, at daybreak on '\n"
     ]
    }
   ],
   "source": [
    "sequences = char_dataset.batch(seq_length+1, drop_remainder=True)\n",
    "\n",
    "for item in sequences.take(5):\n",
    "  print(repr(''.join(idx2char[item.numpy()])))"
   ]
  },
  {
   "cell_type": "markdown",
   "metadata": {
    "id": "CyzjVwkBjH0T"
   },
   "source": [
    "**Mapping function**"
   ]
  },
  {
   "cell_type": "code",
   "execution_count": 9,
   "metadata": {
    "id": "_v0AXmFKhQGL"
   },
   "outputs": [],
   "source": [
    "def split_input_target(chunk):\n",
    "    input_text = chunk[:-1]\n",
    "    target_text = chunk[1:]\n",
    "    return input_text, target_text\n",
    "\n",
    "dataset = sequences.map(split_input_target)"
   ]
  },
  {
   "cell_type": "markdown",
   "metadata": {
    "id": "IuPXz7hMjT40"
   },
   "source": [
    "**Creating training batches**"
   ]
  },
  {
   "cell_type": "code",
   "execution_count": 10,
   "metadata": {
    "colab": {
     "base_uri": "https://localhost:8080/"
    },
    "id": "m9lI1lqYhP3T",
    "outputId": "880fe413-2c13-4b5d-fcd0-61807c430c10"
   },
   "outputs": [
    {
     "data": {
      "text/plain": [
       "<BatchDataset element_spec=(TensorSpec(shape=(64, 200), dtype=tf.int64, name=None), TensorSpec(shape=(64, 200), dtype=tf.int64, name=None))>"
      ]
     },
     "execution_count": 10,
     "metadata": {},
     "output_type": "execute_result"
    }
   ],
   "source": [
    "BATCH_SIZE = 64\n",
    "BUFFER_SIZE = 10000\n",
    "dataset = dataset.shuffle(BUFFER_SIZE).batch(BATCH_SIZE, drop_remainder=True)\n",
    "dataset"
   ]
  },
  {
   "cell_type": "code",
   "execution_count": 11,
   "metadata": {
    "id": "K3QU3Qgyjg21"
   },
   "outputs": [],
   "source": [
    "vocab_size = len(vocab)\n",
    "\n",
    "embedding_dim = 256\n",
    "\n",
    "rnn_units = 1500"
   ]
  },
  {
   "cell_type": "markdown",
   "metadata": {
    "id": "1fbVw8BZjngY"
   },
   "source": [
    "**Define the model**\n",
    "\n",
    "**1. Embedding layer** : The input layer. A trainable lookup table that will map the numbers of each character to a vector with embedding_dim dimensions.\n",
    "\n",
    "**2. LSTM layer** : A type of RNN with size units=rnn_units.\n",
    "\n",
    "**3. Dense layer** : The output layer, with vocab_size outputs and 'RELU' as the activation fuction.\n",
    "\n",
    "**4. Dropout layer** : Benifits regularisation and prevents overfitting"
   ]
  },
  {
   "cell_type": "code",
   "execution_count": 12,
   "metadata": {
    "id": "EpUVNXHYjiv8"
   },
   "outputs": [],
   "source": [
    "def build_model(vocab_size, embedding_dim, rnn_units, batch_size):\n",
    "  model = tf.keras.Sequential([\n",
    "                               \n",
    "    tf.keras.layers.Embedding(vocab_size, embedding_dim,\n",
    "                              batch_input_shape=[batch_size, None]),\n",
    "  \n",
    "    tf.keras.layers.LSTM(rnn_units,\n",
    "                        return_sequences=True,\n",
    "                        stateful=True,\n",
    "                        recurrent_initializer='glorot_uniform'),\n",
    "\n",
    "    tf.keras.layers.Dense(vocab_size,activation='relu'),\n",
    "    \n",
    "    tf.keras.layers.Dropout(0.2)\n",
    "  ])\n",
    "  return model"
   ]
  },
  {
   "cell_type": "code",
   "execution_count": 13,
   "metadata": {
    "id": "0wCg_Njxjikh"
   },
   "outputs": [],
   "source": [
    "model = build_model(\n",
    "  vocab_size = len(vocab),\n",
    "  embedding_dim=embedding_dim,\n",
    "  rnn_units=rnn_units,\n",
    "  batch_size=BATCH_SIZE)"
   ]
  },
  {
   "cell_type": "code",
   "execution_count": 14,
   "metadata": {
    "colab": {
     "base_uri": "https://localhost:8080/"
    },
    "id": "boLgwM_gjig-",
    "outputId": "09983b8f-834a-40fb-90ae-e7ee2e22bbe3"
   },
   "outputs": [
    {
     "name": "stdout",
     "output_type": "stream",
     "text": [
      "(64, 200, 80) (batch_size, sequence_length, vocab_size)\n"
     ]
    }
   ],
   "source": [
    "for input_example_batch, target_example_batch in dataset.take(1):\n",
    "  example_batch_predictions = model(input_example_batch)\n",
    "  print(example_batch_predictions.shape, \"(batch_size, sequence_length, vocab_size)\")"
   ]
  },
  {
   "cell_type": "code",
   "execution_count": 15,
   "metadata": {
    "colab": {
     "base_uri": "https://localhost:8080/"
    },
    "id": "hHG4seBBjiYS",
    "outputId": "d40c30f1-f44d-492d-84b1-fe387eb5604a"
   },
   "outputs": [
    {
     "name": "stdout",
     "output_type": "stream",
     "text": [
      "Model: \"sequential\"\n",
      "_________________________________________________________________\n",
      " Layer (type)                Output Shape              Param #   \n",
      "=================================================================\n",
      " embedding (Embedding)       (64, None, 256)           20480     \n",
      "                                                                 \n",
      " lstm (LSTM)                 (64, None, 1500)          10542000  \n",
      "                                                                 \n",
      " dense (Dense)               (64, None, 80)            120080    \n",
      "                                                                 \n",
      " dropout (Dropout)           (64, None, 80)            0         \n",
      "                                                                 \n",
      "=================================================================\n",
      "Total params: 10,682,560\n",
      "Trainable params: 10,682,560\n",
      "Non-trainable params: 0\n",
      "_________________________________________________________________\n"
     ]
    }
   ],
   "source": [
    "model.summary()"
   ]
  },
  {
   "cell_type": "code",
   "execution_count": 16,
   "metadata": {
    "colab": {
     "base_uri": "https://localhost:8080/"
    },
    "id": "OoWT_YKIjiO4",
    "outputId": "b0949d39-3204-4524-c48b-26979de68ef6"
   },
   "outputs": [
    {
     "name": "stdout",
     "output_type": "stream",
     "text": [
      "Prediction shape:  (64, 200, 80) (batch_size, sequence_length, vocab_size)\n",
      "scalar_loss:       4.381857\n"
     ]
    }
   ],
   "source": [
    "def loss(labels, logits):\n",
    "  return tf.keras.losses.sparse_categorical_crossentropy(labels, logits, from_logits=True)\n",
    "\n",
    "example_batch_loss  = loss(target_example_batch, example_batch_predictions)\n",
    "print(\"Prediction shape: \", example_batch_predictions.shape, \"(batch_size, sequence_length, vocab_size)\")\n",
    "print(\"scalar_loss:      \", example_batch_loss.numpy().mean())"
   ]
  },
  {
   "cell_type": "code",
   "execution_count": 17,
   "metadata": {
    "id": "lDCTszyJlSnE"
   },
   "outputs": [],
   "source": [
    "callback = tf.keras.callbacks.EarlyStopping(monitor='loss', patience=3)\n",
    "model.compile(optimizer='adam', loss=loss, metrics = 'accuracy')"
   ]
  },
  {
   "cell_type": "code",
   "execution_count": 19,
   "metadata": {
    "colab": {
     "base_uri": "https://localhost:8080/"
    },
    "id": "Ftbje4TjlSi6",
    "outputId": "5ee06616-3fc1-4537-aade-86b8d481870b"
   },
   "outputs": [
    {
     "name": "stdout",
     "output_type": "stream",
     "text": [
      "Epoch 1/50\n",
      "86/86 [==============================] - 26s 259ms/step - loss: 3.9377 - accuracy: 0.1216\n",
      "Epoch 2/50\n",
      "86/86 [==============================] - 25s 274ms/step - loss: 3.4941 - accuracy: 0.2242\n",
      "Epoch 3/50\n",
      "86/86 [==============================] - 26s 294ms/step - loss: 2.9998 - accuracy: 0.3322\n",
      "Epoch 4/50\n",
      "86/86 [==============================] - 27s 303ms/step - loss: 2.6416 - accuracy: 0.3943\n",
      "Epoch 5/50\n",
      "86/86 [==============================] - 26s 291ms/step - loss: 2.4904 - accuracy: 0.4330\n",
      "Epoch 6/50\n",
      "86/86 [==============================] - 28s 306ms/step - loss: 2.3742 - accuracy: 0.4614\n",
      "Epoch 7/50\n",
      "86/86 [==============================] - 27s 297ms/step - loss: 2.2834 - accuracy: 0.4839\n",
      "Epoch 8/50\n",
      "86/86 [==============================] - 27s 303ms/step - loss: 2.2014 - accuracy: 0.5013\n",
      "Epoch 9/50\n",
      "86/86 [==============================] - 27s 297ms/step - loss: 2.1441 - accuracy: 0.5143\n",
      "Epoch 10/50\n",
      "86/86 [==============================] - 27s 295ms/step - loss: 2.0969 - accuracy: 0.5252\n",
      "Epoch 11/50\n",
      "86/86 [==============================] - 27s 300ms/step - loss: 2.0515 - accuracy: 0.5352\n",
      "Epoch 12/50\n",
      "86/86 [==============================] - 27s 306ms/step - loss: 2.0209 - accuracy: 0.5430\n",
      "Epoch 13/50\n",
      "86/86 [==============================] - 26s 293ms/step - loss: 1.9897 - accuracy: 0.5509\n",
      "Epoch 14/50\n",
      "86/86 [==============================] - 28s 310ms/step - loss: 1.9584 - accuracy: 0.5587\n",
      "Epoch 15/50\n",
      "86/86 [==============================] - 27s 294ms/step - loss: 1.9269 - accuracy: 0.5666\n",
      "Epoch 16/50\n",
      "86/86 [==============================] - 28s 307ms/step - loss: 1.8983 - accuracy: 0.5747\n",
      "Epoch 17/50\n",
      "86/86 [==============================] - 27s 294ms/step - loss: 1.8669 - accuracy: 0.5833\n",
      "Epoch 18/50\n",
      "86/86 [==============================] - 28s 308ms/step - loss: 1.8340 - accuracy: 0.5924\n",
      "Epoch 19/50\n",
      "86/86 [==============================] - 26s 294ms/step - loss: 1.7966 - accuracy: 0.6029\n",
      "Epoch 20/50\n",
      "86/86 [==============================] - 26s 294ms/step - loss: 1.7614 - accuracy: 0.6128\n",
      "Epoch 21/50\n",
      "86/86 [==============================] - 27s 304ms/step - loss: 1.7205 - accuracy: 0.6238\n",
      "Epoch 22/50\n",
      "86/86 [==============================] - 27s 299ms/step - loss: 1.6847 - accuracy: 0.6344\n",
      "Epoch 23/50\n",
      "86/86 [==============================] - 27s 301ms/step - loss: 1.6442 - accuracy: 0.6458\n",
      "Epoch 24/50\n",
      "86/86 [==============================] - 27s 299ms/step - loss: 1.6081 - accuracy: 0.6561\n",
      "Epoch 25/50\n",
      "86/86 [==============================] - 27s 303ms/step - loss: 1.5711 - accuracy: 0.6665\n",
      "Epoch 26/50\n",
      "86/86 [==============================] - 27s 298ms/step - loss: 1.5383 - accuracy: 0.6753\n",
      "Epoch 27/50\n",
      "86/86 [==============================] - 27s 305ms/step - loss: 1.5018 - accuracy: 0.6851\n",
      "Epoch 28/50\n",
      "86/86 [==============================] - 27s 295ms/step - loss: 1.4746 - accuracy: 0.6918\n",
      "Epoch 29/50\n",
      "86/86 [==============================] - 27s 305ms/step - loss: 1.4459 - accuracy: 0.6993\n",
      "Epoch 30/50\n",
      "86/86 [==============================] - 26s 293ms/step - loss: 1.4205 - accuracy: 0.7054\n",
      "Epoch 31/50\n",
      "86/86 [==============================] - 28s 308ms/step - loss: 1.3979 - accuracy: 0.7107\n",
      "Epoch 32/50\n",
      "86/86 [==============================] - 26s 291ms/step - loss: 1.3751 - accuracy: 0.7159\n",
      "Epoch 33/50\n",
      "86/86 [==============================] - 27s 298ms/step - loss: 1.3577 - accuracy: 0.7194\n",
      "Epoch 34/50\n",
      "86/86 [==============================] - 27s 303ms/step - loss: 1.3413 - accuracy: 0.7229\n",
      "Epoch 35/50\n",
      "86/86 [==============================] - 27s 304ms/step - loss: 1.3257 - accuracy: 0.7258\n",
      "Epoch 36/50\n",
      "86/86 [==============================] - 26s 292ms/step - loss: 1.3137 - accuracy: 0.7279\n",
      "Epoch 37/50\n",
      "86/86 [==============================] - 27s 299ms/step - loss: 1.3054 - accuracy: 0.7291\n",
      "Epoch 38/50\n",
      "86/86 [==============================] - 27s 300ms/step - loss: 1.2926 - accuracy: 0.7313\n",
      "Epoch 39/50\n",
      "86/86 [==============================] - 27s 299ms/step - loss: 1.2838 - accuracy: 0.7327\n",
      "Epoch 40/50\n",
      "86/86 [==============================] - 27s 301ms/step - loss: 1.2797 - accuracy: 0.7330\n",
      "Epoch 41/50\n",
      "86/86 [==============================] - 27s 299ms/step - loss: 1.2773 - accuracy: 0.7331\n",
      "Epoch 42/50\n",
      "86/86 [==============================] - 27s 304ms/step - loss: 1.2654 - accuracy: 0.7353\n",
      "Epoch 43/50\n",
      "86/86 [==============================] - 27s 298ms/step - loss: 1.2674 - accuracy: 0.7344\n",
      "Epoch 44/50\n",
      "86/86 [==============================] - 27s 303ms/step - loss: 1.2595 - accuracy: 0.7359\n",
      "Epoch 45/50\n",
      "86/86 [==============================] - 27s 296ms/step - loss: 1.2576 - accuracy: 0.7359\n",
      "Epoch 46/50\n",
      "86/86 [==============================] - 28s 306ms/step - loss: 1.2538 - accuracy: 0.7364\n",
      "Epoch 47/50\n",
      "86/86 [==============================] - 27s 297ms/step - loss: 1.2490 - accuracy: 0.7371\n",
      "Epoch 48/50\n",
      "86/86 [==============================] - 26s 292ms/step - loss: 1.2480 - accuracy: 0.7371\n",
      "Epoch 49/50\n",
      "86/86 [==============================] - 28s 309ms/step - loss: 1.2449 - accuracy: 0.7375\n",
      "Epoch 50/50\n",
      "86/86 [==============================] - 27s 297ms/step - loss: 1.2430 - accuracy: 0.7377\n"
     ]
    }
   ],
   "source": [
    "history = model.fit(dataset, epochs= 50, callbacks=[callback])"
   ]
  },
  {
   "cell_type": "code",
   "execution_count": 20,
   "metadata": {
    "colab": {
     "base_uri": "https://localhost:8080/",
     "height": 295
    },
    "id": "zlLoooHE-GGI",
    "outputId": "280567ab-6b04-4703-aaa8-fa70028945af"
   },
   "outputs": [
    {
     "data": {
      "image/png": "[encoded data removed]",
      "text/plain": [
       "<Figure size 432x288 with 1 Axes>"
      ]
     },
     "metadata": {
      "needs_background": "light"
     },
     "output_type": "display_data"
    }
   ],
   "source": [
    "plt.plot(history.history['loss'])\n",
    "plt.title('Loss per epoch')\n",
    "plt.ylabel('Loss')\n",
    "plt.xlabel('epoch')\n",
    "plt.legend(['train'], loc='upper right')\n",
    "plt.show()"
   ]
  },
  {
   "cell_type": "code",
   "execution_count": 21,
   "metadata": {
    "colab": {
     "base_uri": "https://localhost:8080/",
     "height": 295
    },
    "id": "h0Au7LA0IsEY",
    "outputId": "72b30ee8-0805-436d-8791-47cf0372840a"
   },
   "outputs": [
    {
     "data": {
      "image/png": "[encoded data removed]",
      "text/plain": [
       "<Figure size 432x288 with 1 Axes>"
      ]
     },
     "metadata": {
      "needs_background": "light"
     },
     "output_type": "display_data"
    }
   ],
   "source": [
    "plt.plot(history.history['accuracy'])\n",
    "plt.title('accuracy per epoch')\n",
    "plt.ylabel('accuracy')\n",
    "plt.xlabel('epoch')\n",
    "plt.legend(['train'], loc='upper right')\n",
    "plt.show()"
   ]
  },
  {
   "cell_type": "markdown",
   "metadata": {
    "id": "v0_XHKMkN5oo"
   },
   "source": [
    "**Generating Words**"
   ]
  },
  {
   "cell_type": "code",
   "execution_count": 22,
   "metadata": {
    "colab": {
     "base_uri": "https://localhost:8080/"
    },
    "id": "8RqNmqfje1xX",
    "outputId": "3bf1cd9b-5075-4540-e4f6-30dd9fa8318b"
   },
   "outputs": [
    {
     "name": "stdout",
     "output_type": "stream",
     "text": [
      "HARRY POTTER AND THE GOBLET OF FIRE\n",
      "\n",
      "EA:\n",
      "\n",
      "A Barty Quidditch team, the Neville g_t involved with him when he zouched ?MO to HhpiüNe.  The surface of the water was almost voice.\n",
      "\"XI - 7(could he ^:E Xver tjudü anX /(could have easSnelnuster, Neville XSne\"\n",
      "- Harry sMi•gs down the stone steps, out into the clouB7?  at Voldemort's father nervously as possible toward him.  Harry could see Madam Pomfrey fussing over Hermione, •zeF, B_/r?  Wurry didN't seem to be very difficult to see out of them.  They s'queJ6 the third task, My zoo\tuse TheUrt; it f•yVoldemort stood on tip of it and pointing to the kitchenKN.\n",
      "\"The \"Th2Karkaroff's supporterpfkinnroI4 to rest on de\n",
      "\"That's not the point musttince 1Hen,\" she said. \"1f Ju) a Jre7?\"\n",
      "\"Yeago,\" said Harry.\n",
      "\"I see,\" said xising like zeFQthe look on Harry's face.  \"Ministry was pleased. Ind Quidditch team Sirius ha\n",
      "\"There's a wayzPoff tallJY - you will come and have a look,\" said Harry, pointing to a large patH  XJown quickly from the stairs Wormtail had done when his hand had been cut \n"
     ]
    }
   ],
   "source": [
    "model.reset_states()\n",
    "sample = 'HARRY POTTER AND THE GOBLET OF FIRE'\n",
    "sample_vector = [char2idx[s] for s in sample]\n",
    "predicted = sample_vector\n",
    "sample_tensor = tf.expand_dims(sample_vector, 0) \n",
    "sample_tensor = tf.repeat(sample_tensor, 64, axis=0)\n",
    "\n",
    "\n",
    "temperature = 0.6\n",
    "for i in range(1000):\n",
    "    pred = model(sample_tensor)\n",
    "    pred = pred[0].numpy()/temperature\n",
    "    pred = tf.random.categorical(pred, num_samples=1)[-1,0].numpy()\n",
    "    predicted.append(pred)\n",
    "    sample_tensor = predicted[-99:]\n",
    "    sample_tensor = tf.expand_dims([pred],0)\n",
    "    sample_tensor = tf.repeat(sample_tensor, 64, axis=0)\n",
    "    \n",
    "pred_char = [vocab[i] for i in predicted]\n",
    "generated = ''.join(pred_char)\n",
    "print(generated)"
   ]
  },
  {
   "cell_type": "markdown",
   "metadata": {
    "id": "BDZfY0szH8Mz"
   },
   "source": [
    "**1. Sparse Categorical Crossentropy**\n",
    "\n",
    "**In part 1, we use sparse_categorical_crossentropy as loss function.**\n",
    "\n",
    "**loss = 1.2430**"
   ]
  },
  {
   "cell_type": "markdown",
   "metadata": {
    "id": "Q9zLROEYIxt-"
   },
   "source": [
    "#**Part 2**\n",
    "\n",
    "**2. Mean Squared Error(MSE)**\n",
    "\n",
    "**loss = 7.05**\n"
   ]
  },
  {
   "cell_type": "code",
   "execution_count": 36,
   "metadata": {
    "id": "SdX75QPRAbsw"
   },
   "outputs": [],
   "source": [
    "model = build_model(\n",
    "  vocab_size = len(vocab),\n",
    "  embedding_dim=embedding_dim,\n",
    "  rnn_units=rnn_units,\n",
    "  batch_size=BATCH_SIZE)"
   ]
  },
  {
   "cell_type": "code",
   "execution_count": 37,
   "metadata": {
    "id": "NwrHDqOlJVzg"
   },
   "outputs": [],
   "source": [
    "callback = tf.keras.callbacks.EarlyStopping(monitor='loss', patience=3)\n",
    "model.compile(optimizer='adam', loss='mean_squared_error')"
   ]
  },
  {
   "cell_type": "code",
   "execution_count": 26,
   "metadata": {
    "colab": {
     "base_uri": "https://localhost:8080/"
    },
    "id": "YYLvWWt2JVzj",
    "outputId": "996eeb93-f8dc-4ae8-97a1-a2a2a34495b1"
   },
   "outputs": [
    {
     "name": "stdout",
     "output_type": "stream",
     "text": [
      "Epoch 1/10\n",
      "86/86 [==============================] - 28s 304ms/step - loss: 7.0297\n",
      "Epoch 2/10\n",
      "86/86 [==============================] - 27s 297ms/step - loss: 7.0434\n",
      "Epoch 3/10\n",
      "86/86 [==============================] - 27s 297ms/step - loss: 7.0328\n",
      "Epoch 4/10\n",
      "86/86 [==============================] - 27s 298ms/step - loss: 7.0266\n",
      "Epoch 5/10\n",
      "86/86 [==============================] - 24s 263ms/step - loss: 7.0559\n",
      "Epoch 6/10\n",
      "86/86 [==============================] - 24s 265ms/step - loss: 7.0389\n",
      "Epoch 7/10\n",
      "86/86 [==============================] - 24s 267ms/step - loss: 7.0371\n",
      "Epoch 8/10\n",
      "86/86 [==============================] - 24s 269ms/step - loss: 7.0362\n",
      "Epoch 9/10\n",
      "86/86 [==============================] - 24s 267ms/step - loss: 7.0409\n",
      "Epoch 10/10\n",
      "86/86 [==============================] - 24s 262ms/step - loss: 7.0535\n"
     ]
    }
   ],
   "source": [
    "history = model.fit(dataset, epochs= 10)"
   ]
  },
  {
   "cell_type": "markdown",
   "metadata": {
    "id": "P_QDbUEXJkYR"
   },
   "source": [
    "**3. Mean Absolute Error(MAE)**\n",
    "\n",
    "**loss = 7.0047**"
   ]
  },
  {
   "cell_type": "code",
   "execution_count": 29,
   "metadata": {
    "id": "w0DZAACfJ7rJ"
   },
   "outputs": [],
   "source": [
    "model = build_model(\n",
    "  vocab_size = len(vocab),\n",
    "  embedding_dim=embedding_dim,\n",
    "  rnn_units=rnn_units,\n",
    "  batch_size=BATCH_SIZE)"
   ]
  },
  {
   "cell_type": "code",
   "execution_count": 40,
   "metadata": {
    "id": "LmHvb08lJ7rL"
   },
   "outputs": [],
   "source": [
    "callback = tf.keras.callbacks.EarlyStopping(monitor='loss', patience=3)\n",
    "model.compile(optimizer='adam', loss='mean_absolute_error')"
   ]
  },
  {
   "cell_type": "code",
   "execution_count": 24,
   "metadata": {
    "colab": {
     "base_uri": "https://localhost:8080/"
    },
    "id": "JYaXYVHlJ7rM",
    "outputId": "974f5e22-26ac-4715-deda-693afe20e52c"
   },
   "outputs": [
    {
     "name": "stdout",
     "output_type": "stream",
     "text": [
      "Epoch 1/10\n",
      "86/86 [==============================] - 29s 303ms/step - loss: 6.0270\n",
      "Epoch 2/10\n",
      "86/86 [==============================] - 28s 311ms/step - loss: 5.5349\n",
      "Epoch 3/10\n",
      "86/86 [==============================] - 25s 273ms/step - loss: 6.5195\n",
      "Epoch 4/10\n",
      "86/86 [==============================] - 25s 272ms/step - loss: 6.9942\n",
      "Epoch 5/10\n",
      "86/86 [==============================] - 24s 264ms/step - loss: 7.0047\n"
     ]
    }
   ],
   "source": [
    "history = model.fit(dataset, epochs= 10, callbacks=[callback])"
   ]
  },
  {
   "cell_type": "markdown",
   "metadata": {
    "id": "dEzBL8-QKsqM"
   },
   "source": [
    "#**Part 3**\n",
    "\n",
    "**In part 1, we use Adam as optimizer.**\n",
    "\n",
    "**loss = 1.2430, accuracy = 0.7377**"
   ]
  },
  {
   "cell_type": "markdown",
   "metadata": {
    "id": "A0URbKUrLCgy"
   },
   "source": [
    "**2. SGD**\n",
    "\n",
    "**loss = 7.69**"
   ]
  },
  {
   "cell_type": "code",
   "execution_count": 19,
   "metadata": {
    "id": "vZjYlE_cAbTV"
   },
   "outputs": [],
   "source": [
    "model = build_model(\n",
    "  vocab_size = len(vocab),\n",
    "  embedding_dim=embedding_dim,\n",
    "  rnn_units=rnn_units,\n",
    "  batch_size=BATCH_SIZE)"
   ]
  },
  {
   "cell_type": "code",
   "execution_count": 20,
   "metadata": {
    "id": "BQ8jBf_yAbMw"
   },
   "outputs": [],
   "source": [
    "callback = tf.keras.callbacks.EarlyStopping(monitor='loss', patience=3)\n",
    "model.compile(optimizer='SGD', loss='sparse_categorical_crossentropy')"
   ]
  },
  {
   "cell_type": "code",
   "execution_count": 20,
   "metadata": {
    "colab": {
     "base_uri": "https://localhost:8080/"
    },
    "id": "aE6QgxkgAa6T",
    "outputId": "073632cc-53ec-4a84-f7db-8fdcdf2020da"
   },
   "outputs": [
    {
     "name": "stdout",
     "output_type": "stream",
     "text": [
      "Epoch 1/10\n",
      "86/86 [==============================] - 28s 294ms/step - loss: 7.6880\n",
      "Epoch 2/10\n",
      "86/86 [==============================] - 27s 300ms/step - loss: 7.6908\n",
      "Epoch 3/10\n",
      "86/86 [==============================] - 26s 291ms/step - loss: 7.6924\n",
      "Epoch 4/10\n",
      "86/86 [==============================] - 28s 307ms/step - loss: 7.6788\n",
      "Epoch 5/10\n",
      "86/86 [==============================] - 26s 289ms/step - loss: 7.6894\n",
      "Epoch 6/10\n",
      "86/86 [==============================] - 27s 304ms/step - loss: 7.6873\n",
      "Epoch 7/10\n",
      "86/86 [==============================] - 26s 290ms/step - loss: 7.6922\n"
     ]
    }
   ],
   "source": [
    "history = model.fit(dataset, epochs= 10, callbacks=[callback])"
   ]
  },
  {
   "cell_type": "markdown",
   "metadata": {
    "id": "VRA3Hbt0LvnH"
   },
   "source": [
    "**3. Nadam**\n",
    "\n",
    "**loss = 7.03**"
   ]
  },
  {
   "cell_type": "code",
   "execution_count": 22,
   "metadata": {
    "id": "GnDSSt4YL7Jd"
   },
   "outputs": [],
   "source": [
    "model = build_model(\n",
    "  vocab_size = len(vocab),\n",
    "  embedding_dim=embedding_dim,\n",
    "  rnn_units=rnn_units,\n",
    "  batch_size=BATCH_SIZE)"
   ]
  },
  {
   "cell_type": "code",
   "execution_count": 23,
   "metadata": {
    "id": "Xt-LDDMtL7Jw"
   },
   "outputs": [],
   "source": [
    "callback = tf.keras.callbacks.EarlyStopping(monitor='loss', patience=3)\n",
    "model.compile(optimizer='Nadam', loss='sparse_categorical_crossentropy')"
   ]
  },
  {
   "cell_type": "code",
   "execution_count": 23,
   "metadata": {
    "colab": {
     "base_uri": "https://localhost:8080/"
    },
    "id": "pgwRu4wLL7Jx",
    "outputId": "e3f4bb8e-4ef6-497c-aa4b-a6139cc6ed86"
   },
   "outputs": [
    {
     "name": "stdout",
     "output_type": "stream",
     "text": [
      "Epoch 1/10\n",
      "86/86 [==============================] - 29s 303ms/step - loss: 6.1675\n",
      "Epoch 2/10\n",
      "86/86 [==============================] - 28s 307ms/step - loss: 5.7675\n",
      "Epoch 3/10\n",
      "86/86 [==============================] - 27s 301ms/step - loss: 5.8680\n",
      "Epoch 4/10\n",
      "86/86 [==============================] - 28s 306ms/step - loss: 6.7698\n",
      "Epoch 5/10\n",
      "86/86 [==============================] - 26s 290ms/step - loss: 7.0355\n"
     ]
    }
   ],
   "source": [
    "history = model.fit(dataset, epochs= 10, callbacks=[callback])"
   ]
  },
  {
   "cell_type": "markdown",
   "metadata": {
    "id": "H4hHzqm3nAva"
   },
   "source": [
    "**Conclusion** **:** **The best loss function for this problem is Sparse Categorical Crossentropy and best optimizer is Adam**\n",
    "\n",
    "\n",
    "**Loss Function**| **Loss**\n",
    "--- | ---\n",
    "**Sparse Categorical Crossentropy**| **1.2430**\n",
    "**Mean Squared Error(MSE)**| **7.05**\n",
    "**Mean Absolute Error(MAE)**| **7.0047**\n",
    "\n",
    "\n",
    "\n",
    "\n",
    "**Optimizer**| **Loss**\n",
    "--- | ---\n",
    "**Adam**| **1.2430**\n",
    "**SGD**| **7.69**\n",
    "**Nadam**| **7.03**\n"
   ]
  },
  {
   "cell_type": "markdown",
   "metadata": {
    "id": "5z__61D7MGEw"
   },
   "source": [
    "# **Part 4**\n",
    "\n",
    "**LSTMs are explicitly designed to avoid the long-term dependency problem. Remembering\n",
    "information for long periods of time is practically their default behavior, not something they\n",
    "struggle to learn!\n",
    "For predicting data in sequence we can use deep learning models like RNN or LSTM. LSTM can\n",
    "be used to predict the next word. The neural network take sequence of words as input and\n",
    "output will be a matrix of probability for each word from dictionary to be next of given\n",
    "sequence.**"
   ]
  }
 ],
 "metadata": {
  "accelerator": "GPU",
  "colab": {
   "collapsed_sections": [],
   "name": "Q2_Text_Generation.ipynb",
   "provenance": []
  },
  "kernelspec": {
   "display_name": "Python 3 (ipykernel)",
   "language": "python",
   "name": "python3"
  },
  "language_info": {
   "codemirror_mode": {
    "name": "ipython",
    "version": 3
   },
   "file_extension": ".py",
   "mimetype": "text/x-python",
   "name": "python",
   "nbconvert_exporter": "python",
   "pygments_lexer": "ipython3",
   "version": "3.9.7"
  }
 },
 "nbformat": 4,
 "nbformat_minor": 1
}
