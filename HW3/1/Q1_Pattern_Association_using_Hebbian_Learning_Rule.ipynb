{
  "nbformat": 4,
  "nbformat_minor": 0,
  "metadata": {
    "colab": {
      "name": "Pattern Association using Hebbian Learning Rule.ipynb",
      "provenance": [],
      "collapsed_sections": []
    },
    "kernelspec": {
      "name": "python3",
      "display_name": "Python 3"
    },
    "language_info": {
      "name": "python"
    },
    "accelerator": "GPU"
  },
  "cells": [
    {
      "cell_type": "markdown",
      "source": [
        "**Part 1**\n",
        "\n",
        "Hebbian Learning Rule is one of the first and also easiest learning rules in the neural network. It is used for pattern classification. It is a single layer neural network, i.e. it has one input layer and one output layer. The input layer can have many units, say n. The output layer only has one unit. Hebbian rule works by updating the weights between neurons in the neural network for each training sample.\n",
        "\n",
        "Hebbian Learning Rule Algorithm : \n",
        "\n",
        "1. Set all weights to zero, wi = 0 for i=1 to n, and bias to zero.\n",
        "2. For each input vector, S(input vector) : t(target output pair), repeat steps 3-5.\n",
        "3. Set activations for input units with the input vector Xi = Si for i = 1 to n.\n",
        "4. Set the corresponding output value to the output neuron, i.e. y = t.\n",
        "5. Update weight and bias by applying Hebb rule for all i = 1 to n:\n",
        "\n",
        "                                Wi(new) = wi(old) + xi * y\n",
        "                                  B(new) = B(old) + y\n",
        " \n",
        "Activation Function: \n",
        "\n",
        "                if net >= 0    :   f(net) = 1\n",
        "                if net < 0     :   f(net) = -1\n",
        "\n"
      ],
      "metadata": {
        "id": "HKz_W56grMGB"
      }
    },
    {
      "cell_type": "code",
      "source": [
        "import numpy as np\n",
        "import matplotlib.pyplot as plt\n",
        "import math\n",
        "import random\n",
        "import copy"
      ],
      "metadata": {
        "id": "PzHTcUliAVA7"
      },
      "execution_count": null,
      "outputs": []
    },
    {
      "cell_type": "markdown",
      "source": [
        "**Inputs and outputs**"
      ],
      "metadata": {
        "id": "tIZ3wa_sqBhl"
      }
    },
    {
      "cell_type": "code",
      "source": [
        "input_1 = np.array([\n",
        "    -1,-1,-1,-1,-1,-1,1,\n",
        "    -1,-1,-1,-1,-1,-1,1,\n",
        "    1,1,1,1,1,1,1,\n",
        "    1,-1,-1,1,-1,-1,-1,\n",
        "    1,-1,-1,1,-1,-1,-1,\n",
        "    -1,-1,-1,1,-1,-1,-1,\n",
        "    -1,-1,-1,1,-1,-1,-1,\n",
        "    -1,-1,-1,1,-1,-1,-1,\n",
        "    -1,-1,-1,1,-1,-1,-1,\n",
        "])\n",
        "\n",
        "input_2 = np.array([\n",
        "    1,-1,-1,-1,-1,-1,1,\n",
        "    1,-1,-1,-1,-1,-1,1,\n",
        "    1,-1,-1,-1,-1,-1,1,\n",
        "    1,-1,-1,-1,-1,-1,1,\n",
        "    1,-1,-1,-1,-1,-1,1,\n",
        "    1,-1,-1,-1,-1,-1,1,\n",
        "    1,1,1,1,1,1,1,\n",
        "    -1,-1,-1,-1,-1,-1,-1,\n",
        "    -1,-1,-1,1,-1,-1,-1,\n",
        "])\n",
        "\n",
        "\n",
        "input_3 = np.array([\n",
        "    1,-1,-1,-1,-1,-1,1,\n",
        "    1,-1,-1,-1,-1,-1,1,\n",
        "    1,-1,-1,-1,-1,-1,1,\n",
        "    1,-1,-1,-1,-1,-1,1,\n",
        "    1,-1,-1,1,-1,-1,1,\n",
        "    1,-1,-1,-1,-1,-1,1,\n",
        "    1,-1,-1,-1,-1,-1,1,\n",
        "    1,-1,-1,-1,-1,-1,1,\n",
        "    1,1,1,1,1,1,1,\n",
        "])\n",
        "\n",
        "\n",
        "output_1 = np.array([\n",
        "    -1,-1,1,\n",
        "    1,1,1,\n",
        "    1,1,-1,\n",
        "    -1,1,-1,\n",
        "    -1,1,-1,\n",
        "])\n",
        "\n",
        "output_2 = np.array([\n",
        "    1,-1,1,\n",
        "    1,-1,1,\n",
        "    1,1,1,\n",
        "    -1,-1,-1,\n",
        "    -1,1,-1\n",
        "])\n",
        "\n",
        "output_3 = np.array([\n",
        "    1,-1,1,\n",
        "    1,-1,1,\n",
        "    1,1,1,\n",
        "    1,-1,1,\n",
        "    1,1,1\n",
        "])"
      ],
      "metadata": {
        "id": "BIk1Mb8UFLaj"
      },
      "execution_count": null,
      "outputs": []
    },
    {
      "cell_type": "markdown",
      "source": [
        "**plotting inputs and outputs**"
      ],
      "metadata": {
        "id": "AVSjRkBpqQGO"
      }
    },
    {
      "cell_type": "code",
      "source": [
        "fig = plt.figure(figsize=(8, 8))\n",
        "fig.add_subplot(2, 3, 1)\n",
        "plt.imshow(input_1.reshape((9, 7)), interpolation='nearest',cmap='Greys')\n",
        "plt.title('input_1')\n",
        "fig.add_subplot(2, 3, 2)\n",
        "plt.imshow(input_2.reshape((9, 7)), interpolation='nearest',cmap='Greys')\n",
        "plt.title('input_2')\n",
        "fig.add_subplot(2, 3, 3)\n",
        "plt.imshow(input_3.reshape((9, 7)), interpolation='nearest',cmap='Greys')\n",
        "plt.title('input_3')\n",
        "\n",
        "fig.add_subplot(2, 3, 4)\n",
        "plt.imshow(output_1.reshape((5, 3)), interpolation='nearest',cmap='Greys')\n",
        "plt.title('output_1')\n",
        "fig.add_subplot(2, 3, 5)\n",
        "plt.imshow(output_2.reshape((5, 3)), interpolation='nearest',cmap='Greys')\n",
        "plt.title('output_2')\n",
        "fig.add_subplot(2, 3, 6)\n",
        "plt.imshow(output_3.reshape((5, 3)), interpolation='nearest',cmap='Greys')\n",
        "plt.title('output_3')\n",
        "\n",
        "plt.show()"
      ],
      "metadata": {
        "colab": {
          "base_uri": "https://localhost:8080/",
          "height": 484
        },
        "id": "hKUhRfGiDNd9",
        "outputId": "461a4d42-5c84-40c8-ba74-f63a4c03b80b"
      },
      "execution_count": null,
      "outputs": [
        {
          "output_type": "display_data",
          "data": {
            "text/plain": [
              "<Figure size 576x576 with 6 Axes>"
            ],
            "image/png": "[encoded data removed]"
          },
          "metadata": {
            "needs_background": "light"
          }
        }
      ]
    },
    {
      "cell_type": "markdown",
      "source": [
        "**Define the model**"
      ],
      "metadata": {
        "id": "s069WhuLqc-M"
      }
    },
    {
      "cell_type": "code",
      "source": [
        "class Hebbian:\n",
        "    def __init__(self, _S, _T):\n",
        "        self.S = _S\n",
        "        self.T = _T\n",
        "        self.W = np.zeros((len(_S[1]), len(_T[1])))\n",
        "        \n",
        "    def train(self):\n",
        "        for trainSample in range(len(self.S)):\n",
        "            x = self.S[trainSample]\n",
        "            y = self.T[trainSample]\n",
        "            for i in range(len(x)):\n",
        "                for j in range(len(y)):\n",
        "                    self.W[i][j] = self.W[i][j] + x[i]*y[j]\n",
        "    def showResult_1(self, X):\n",
        "        y_t = np.dot(X,self.W)\n",
        "        for i in range(len(y_t)): #sign\n",
        "            if(y_t[i] >= 0):\n",
        "                y_t[i] = 1\n",
        "            else:\n",
        "                y_t[i] = -1\n",
        "        plt.figure()\n",
        "        plt.imshow(y_t.reshape((5, 3)), cmap='binary')                   \n",
        "    \n",
        "    def showResult_2(self, X):\n",
        "        y_t = np.dot(X,self.W)\n",
        "        for i in range(len(y_t)):\n",
        "            if(y_t[i] >= 0):\n",
        "                y_t[i] = 1\n",
        "            else:\n",
        "                y_t[i] = -1\n",
        "        plt.figure()\n",
        "        plt.imshow(y_t.reshape((2, 2)), cmap='binary')"
      ],
      "metadata": {
        "id": "D8-cIz_3AMjS"
      },
      "execution_count": null,
      "outputs": []
    },
    {
      "cell_type": "markdown",
      "source": [
        "**Train the model**"
      ],
      "metadata": {
        "id": "rhjc-Fclqvf1"
      }
    },
    {
      "cell_type": "code",
      "source": [
        "input_1_reshaped = input_1.reshape((input_1.shape[0]))\n",
        "input_2_reshaped = input_2.reshape((input_2.shape[0]))\n",
        "input_3_reshaped = input_3.reshape((input_3.shape[0]))\n",
        "output_1_reshaped = output_1.reshape((output_1.shape[0]))\n",
        "output_2_reshaped = output_2.reshape((output_2.shape[0]))\n",
        "output_3_reshaped = output_3.reshape((output_3.shape[0]))\n",
        "\n",
        "S = np.array([copy.deepcopy(input_1_reshaped), copy.deepcopy(input_2_reshaped), copy.deepcopy(input_3_reshaped)])\n",
        "T = np.array([copy.deepcopy(output_1_reshaped), copy.deepcopy(output_2_reshaped), copy.deepcopy(output_3_reshaped)])\n",
        "heb = Hebbian(S, T)\n",
        "heb.train()"
      ],
      "metadata": {
        "id": "u6tLjfBFAFpg"
      },
      "execution_count": null,
      "outputs": []
    },
    {
      "cell_type": "markdown",
      "source": [
        "**Part 2**\n",
        "\n",
        "Weights"
      ],
      "metadata": {
        "id": "7698C4HLq3qK"
      }
    },
    {
      "cell_type": "code",
      "source": [
        "heb.W"
      ],
      "metadata": {
        "colab": {
          "base_uri": "https://localhost:8080/"
        },
        "id": "wO3tpK_jLlep",
        "outputId": "17c63a26-ee9d-4429-858d-69f6f9be4b1b"
      },
      "execution_count": null,
      "outputs": [
        {
          "output_type": "execute_result",
          "data": {
            "text/plain": [
              "array([[ 3., -1.,  1.,  1., -3.,  1.,  1.,  1.,  3.,  1., -3.,  1.,  1.,\n",
              "         1.,  1.],\n",
              "       [-1.,  3., -3., -3.,  1., -3., -3., -3., -1.,  1.,  1.,  1.,  1.,\n",
              "        -3.,  1.],\n",
              "       [-1.,  3., -3., -3.,  1., -3., -3., -3., -1.,  1.,  1.,  1.,  1.,\n",
              "        -3.,  1.],\n",
              "       [-1.,  3., -3., -3.,  1., -3., -3., -3., -1.,  1.,  1.,  1.,  1.,\n",
              "        -3.,  1.],\n",
              "       [-1.,  3., -3., -3.,  1., -3., -3., -3., -1.,  1.,  1.,  1.,  1.,\n",
              "        -3.,  1.],\n",
              "       [-1.,  3., -3., -3.,  1., -3., -3., -3., -1.,  1.,  1.,  1.,  1.,\n",
              "        -3.,  1.],\n",
              "       [ 1., -3.,  3.,  3., -1.,  3.,  3.,  3.,  1., -1., -1., -1., -1.,\n",
              "         3., -1.],\n",
              "       [ 3., -1.,  1.,  1., -3.,  1.,  1.,  1.,  3.,  1., -3.,  1.,  1.,\n",
              "         1.,  1.],\n",
              "       [-1.,  3., -3., -3.,  1., -3., -3., -3., -1.,  1.,  1.,  1.,  1.,\n",
              "        -3.,  1.],\n",
              "       [-1.,  3., -3., -3.,  1., -3., -3., -3., -1.,  1.,  1.,  1.,  1.,\n",
              "        -3.,  1.],\n",
              "       [-1.,  3., -3., -3.,  1., -3., -3., -3., -1.,  1.,  1.,  1.,  1.,\n",
              "        -3.,  1.],\n",
              "       [-1.,  3., -3., -3.,  1., -3., -3., -3., -1.,  1.,  1.,  1.,  1.,\n",
              "        -3.,  1.],\n",
              "       [-1.,  3., -3., -3.,  1., -3., -3., -3., -1.,  1.,  1.,  1.,  1.,\n",
              "        -3.,  1.],\n",
              "       [ 1., -3.,  3.,  3., -1.,  3.,  3.,  3.,  1., -1., -1., -1., -1.,\n",
              "         3., -1.],\n",
              "       [ 1., -3.,  3.,  3., -1.,  3.,  3.,  3.,  1., -1., -1., -1., -1.,\n",
              "         3., -1.],\n",
              "       [-3.,  1., -1., -1.,  3., -1., -1., -1., -3., -1.,  3., -1., -1.,\n",
              "        -1., -1.],\n",
              "       [-3.,  1., -1., -1.,  3., -1., -1., -1., -3., -1.,  3., -1., -1.,\n",
              "        -1., -1.],\n",
              "       [-3.,  1., -1., -1.,  3., -1., -1., -1., -3., -1.,  3., -1., -1.,\n",
              "        -1., -1.],\n",
              "       [-3.,  1., -1., -1.,  3., -1., -1., -1., -3., -1.,  3., -1., -1.,\n",
              "        -1., -1.],\n",
              "       [-3.,  1., -1., -1.,  3., -1., -1., -1., -3., -1.,  3., -1., -1.,\n",
              "        -1., -1.],\n",
              "       [ 1., -3.,  3.,  3., -1.,  3.,  3.,  3.,  1., -1., -1., -1., -1.,\n",
              "         3., -1.],\n",
              "       [ 1., -3.,  3.,  3., -1.,  3.,  3.,  3.,  1., -1., -1., -1., -1.,\n",
              "         3., -1.],\n",
              "       [-1.,  3., -3., -3.,  1., -3., -3., -3., -1.,  1.,  1.,  1.,  1.,\n",
              "        -3.,  1.],\n",
              "       [-1.,  3., -3., -3.,  1., -3., -3., -3., -1.,  1.,  1.,  1.,  1.,\n",
              "        -3.,  1.],\n",
              "       [-3.,  1., -1., -1.,  3., -1., -1., -1., -3., -1.,  3., -1., -1.,\n",
              "        -1., -1.],\n",
              "       [-1.,  3., -3., -3.,  1., -3., -3., -3., -1.,  1.,  1.,  1.,  1.,\n",
              "        -3.,  1.],\n",
              "       [-1.,  3., -3., -3.,  1., -3., -3., -3., -1.,  1.,  1.,  1.,  1.,\n",
              "        -3.,  1.],\n",
              "       [ 3., -1.,  1.,  1., -3.,  1.,  1.,  1.,  3.,  1., -3.,  1.,  1.,\n",
              "         1.,  1.],\n",
              "       [ 1., -3.,  3.,  3., -1.,  3.,  3.,  3.,  1., -1., -1., -1., -1.,\n",
              "         3., -1.],\n",
              "       [-1.,  3., -3., -3.,  1., -3., -3., -3., -1.,  1.,  1.,  1.,  1.,\n",
              "        -3.,  1.],\n",
              "       [-1.,  3., -3., -3.,  1., -3., -3., -3., -1.,  1.,  1.,  1.,  1.,\n",
              "        -3.,  1.],\n",
              "       [-1., -1.,  1.,  1.,  1.,  1.,  1.,  1., -1.,  1.,  1.,  1.,  1.,\n",
              "         1.,  1.],\n",
              "       [-1.,  3., -3., -3.,  1., -3., -3., -3., -1.,  1.,  1.,  1.,  1.,\n",
              "        -3.,  1.],\n",
              "       [-1.,  3., -3., -3.,  1., -3., -3., -3., -1.,  1.,  1.,  1.,  1.,\n",
              "        -3.,  1.],\n",
              "       [ 3., -1.,  1.,  1., -3.,  1.,  1.,  1.,  3.,  1., -3.,  1.,  1.,\n",
              "         1.,  1.],\n",
              "       [ 3., -1.,  1.,  1., -3.,  1.,  1.,  1.,  3.,  1., -3.,  1.,  1.,\n",
              "         1.,  1.],\n",
              "       [-1.,  3., -3., -3.,  1., -3., -3., -3., -1.,  1.,  1.,  1.,  1.,\n",
              "        -3.,  1.],\n",
              "       [-1.,  3., -3., -3.,  1., -3., -3., -3., -1.,  1.,  1.,  1.,  1.,\n",
              "        -3.,  1.],\n",
              "       [-3.,  1., -1., -1.,  3., -1., -1., -1., -3., -1.,  3., -1., -1.,\n",
              "        -1., -1.],\n",
              "       [-1.,  3., -3., -3.,  1., -3., -3., -3., -1.,  1.,  1.,  1.,  1.,\n",
              "        -3.,  1.],\n",
              "       [-1.,  3., -3., -3.,  1., -3., -3., -3., -1.,  1.,  1.,  1.,  1.,\n",
              "        -3.,  1.],\n",
              "       [ 3., -1.,  1.,  1., -3.,  1.,  1.,  1.,  3.,  1., -3.,  1.,  1.,\n",
              "         1.,  1.],\n",
              "       [ 3., -1.,  1.,  1., -3.,  1.,  1.,  1.,  3.,  1., -3.,  1.,  1.,\n",
              "         1.,  1.],\n",
              "       [ 1.,  1., -1., -1., -1., -1., -1., -1.,  1., -1., -1., -1., -1.,\n",
              "        -1., -1.],\n",
              "       [ 1.,  1., -1., -1., -1., -1., -1., -1.,  1., -1., -1., -1., -1.,\n",
              "        -1., -1.],\n",
              "       [-1., -1.,  1.,  1.,  1.,  1.,  1.,  1., -1., -3.,  1., -3., -3.,\n",
              "         1., -3.],\n",
              "       [ 1.,  1., -1., -1., -1., -1., -1., -1.,  1., -1., -1., -1., -1.,\n",
              "        -1., -1.],\n",
              "       [ 1.,  1., -1., -1., -1., -1., -1., -1.,  1., -1., -1., -1., -1.,\n",
              "        -1., -1.],\n",
              "       [ 3., -1.,  1.,  1., -3.,  1.,  1.,  1.,  3.,  1., -3.,  1.,  1.,\n",
              "         1.,  1.],\n",
              "       [ 1.,  1., -1., -1., -1., -1., -1., -1.,  1.,  3., -1.,  3.,  3.,\n",
              "        -1.,  3.],\n",
              "       [-1.,  3., -3., -3.,  1., -3., -3., -3., -1.,  1.,  1.,  1.,  1.,\n",
              "        -3.,  1.],\n",
              "       [-1.,  3., -3., -3.,  1., -3., -3., -3., -1.,  1.,  1.,  1.,  1.,\n",
              "        -3.,  1.],\n",
              "       [-3.,  1., -1., -1.,  3., -1., -1., -1., -3., -1.,  3., -1., -1.,\n",
              "        -1., -1.],\n",
              "       [-1.,  3., -3., -3.,  1., -3., -3., -3., -1.,  1.,  1.,  1.,  1.,\n",
              "        -3.,  1.],\n",
              "       [-1.,  3., -3., -3.,  1., -3., -3., -3., -1.,  1.,  1.,  1.,  1.,\n",
              "        -3.,  1.],\n",
              "       [ 1.,  1., -1., -1., -1., -1., -1., -1.,  1.,  3., -1.,  3.,  3.,\n",
              "        -1.,  3.],\n",
              "       [ 1.,  1., -1., -1., -1., -1., -1., -1.,  1.,  3., -1.,  3.,  3.,\n",
              "        -1.,  3.],\n",
              "       [ 1.,  1., -1., -1., -1., -1., -1., -1.,  1.,  3., -1.,  3.,  3.,\n",
              "        -1.,  3.],\n",
              "       [ 1.,  1., -1., -1., -1., -1., -1., -1.,  1.,  3., -1.,  3.,  3.,\n",
              "        -1.,  3.],\n",
              "       [ 1., -3.,  3.,  3., -1.,  3.,  3.,  3.,  1., -1., -1., -1., -1.,\n",
              "         3., -1.],\n",
              "       [ 1.,  1., -1., -1., -1., -1., -1., -1.,  1.,  3., -1.,  3.,  3.,\n",
              "        -1.,  3.],\n",
              "       [ 1.,  1., -1., -1., -1., -1., -1., -1.,  1.,  3., -1.,  3.,  3.,\n",
              "        -1.,  3.],\n",
              "       [ 1.,  1., -1., -1., -1., -1., -1., -1.,  1.,  3., -1.,  3.,  3.,\n",
              "        -1.,  3.]])"
            ]
          },
          "metadata": {},
          "execution_count": 6
        }
      ]
    },
    {
      "cell_type": "markdown",
      "source": [
        "**Part 3**\n",
        "\n",
        "As we can see all three of our optimal outputs have been produced"
      ],
      "metadata": {
        "id": "0RRqkNBfrFWp"
      }
    },
    {
      "cell_type": "code",
      "source": [
        "heb.showResult_1(input_1)\n",
        "heb.showResult_1(input_2)\n",
        "heb.showResult_1(input_3)"
      ],
      "metadata": {
        "colab": {
          "base_uri": "https://localhost:8080/",
          "height": 761
        },
        "id": "d-WLN5B5AFmU",
        "outputId": "eeb54943-61ef-40c6-8f37-594bd2432831"
      },
      "execution_count": null,
      "outputs": [
        {
          "output_type": "display_data",
          "data": {
            "text/plain": [
              "<Figure size 432x288 with 1 Axes>"
            ],
            "image/png": "[encoded data removed]"
          },
          "metadata": {
            "needs_background": "light"
          }
        },
        {
          "output_type": "display_data",
          "data": {
            "text/plain": [
              "<Figure size 432x288 with 1 Axes>"
            ],
            "image/png": "[encoded data removed]"
          },
          "metadata": {
            "needs_background": "light"
          }
        },
        {
          "output_type": "display_data",
          "data": {
            "text/plain": [
              "<Figure size 432x288 with 1 Axes>"
            ],
            "image/png": "[encoded data removed]"
          },
          "metadata": {
            "needs_background": "light"
          }
        }
      ]
    },
    {
      "cell_type": "markdown",
      "source": [
        "**Part 4**\n",
        "\n",
        "The smallest dimension we can reduce to is 2x2"
      ],
      "metadata": {
        "id": "tQ4Xy9ffhsSe"
      }
    },
    {
      "cell_type": "code",
      "source": [
        "input_1_smallest = np.array([\n",
        "    1, 1,\n",
        "    -1,1\n",
        "]).reshape(2,2)\n",
        "\n",
        "input_2_smallest = np.array([\n",
        "    1, 1,\n",
        "    -1,-1\n",
        "]).reshape(2,2)\n",
        "\n",
        "input_3_smallest = np.array([\n",
        "    1, 1,\n",
        "    1,-1\n",
        "]).reshape(2,2)"
      ],
      "metadata": {
        "id": "XA980THBK_23"
      },
      "execution_count": null,
      "outputs": []
    },
    {
      "cell_type": "code",
      "source": [
        "plt.imshow(input_1_smallest.reshape((2,2)), interpolation='nearest',cmap='Greys')\n",
        "plt.show()"
      ],
      "metadata": {
        "colab": {
          "base_uri": "https://localhost:8080/",
          "height": 269
        },
        "id": "_AIb5QQkn5Nk",
        "outputId": "441df101-86fb-472c-9722-26b96e9da8d3"
      },
      "execution_count": null,
      "outputs": [
        {
          "output_type": "display_data",
          "data": {
            "text/plain": [
              "<Figure size 432x288 with 1 Axes>"
            ],
            "image/png": "[encoded data removed]"
          },
          "metadata": {
            "needs_background": "light"
          }
        }
      ]
    },
    {
      "cell_type": "code",
      "source": [
        "input_1_reshaped = input_1.reshape((input_1.shape[0]))\n",
        "input_2_reshaped = input_2.reshape((input_2.shape[0]))\n",
        "input_3_reshaped = input_3.reshape((input_3.shape[0]))\n",
        "input_1_smallest_reshaped = input_1_smallest.reshape((4))\n",
        "input_2_smallest_reshaped = input_2_smallest.reshape((4))\n",
        "input_3_smallest_reshaped = input_3_smallest.reshape((4))\n",
        "\n",
        "S = np.array([copy.deepcopy(input_1_reshaped), copy.deepcopy(input_2_reshaped), copy.deepcopy(input_3_reshaped)])\n",
        "T = np.array([copy.deepcopy(input_1_smallest_reshaped), copy.deepcopy(input_2_smallest_reshaped), copy.deepcopy(input_3_smallest_reshaped)])\n",
        "heb2 = Hebbian(S,T)\n",
        "heb2.train()"
      ],
      "metadata": {
        "id": "5q4WwNnRn5GZ"
      },
      "execution_count": null,
      "outputs": []
    },
    {
      "cell_type": "code",
      "source": [
        "heb2.showResult_2(input_1)\n",
        "heb2.showResult_2(input_2)\n",
        "heb2.showResult_2(input_3)"
      ],
      "metadata": {
        "colab": {
          "base_uri": "https://localhost:8080/",
          "height": 773
        },
        "id": "JHcQr62wn4z0",
        "outputId": "df3a4ec1-1c80-4bc7-d49a-ffb68f21b54e"
      },
      "execution_count": null,
      "outputs": [
        {
          "output_type": "display_data",
          "data": {
            "text/plain": [
              "<Figure size 432x288 with 1 Axes>"
            ],
            "image/png": "[encoded data removed]"
          },
          "metadata": {
            "needs_background": "light"
          }
        },
        {
          "output_type": "display_data",
          "data": {
            "text/plain": [
              "<Figure size 432x288 with 1 Axes>"
            ],
            "image/png": "[encoded data removed]"
          },
          "metadata": {
            "needs_background": "light"
          }
        },
        {
          "output_type": "display_data",
          "data": {
            "text/plain": [
              "<Figure size 432x288 with 1 Axes>"
            ],
            "image/png": "[encoded data removed]"
          },
          "metadata": {
            "needs_background": "light"
          }
        }
      ]
    },
    {
      "cell_type": "markdown",
      "source": [
        "**Part 5**\n",
        "\n",
        "**Adding noise 20% to input of parts two and four of the model**\n",
        "\n",
        "The accuracy of part 2's model with 20% noise applied is 100%."
      ],
      "metadata": {
        "id": "TB3WOTGoLx8L"
      }
    },
    {
      "cell_type": "code",
      "source": [
        "def ResultWhitNoise(arr,percentage):\n",
        "    pixels = int(np.prod(arr.shape)*percentage)\n",
        "    with_noise = np.copy(arr)\n",
        "    for pixel in range(pixels) :\n",
        "      random_pixel = np.random.choice(np.prod(with_noise.shape), 1)\n",
        "      if with_noise.flat[random_pixel] == -1 :\n",
        "        with_noise.flat[random_pixel] = 1\n",
        "      else:\n",
        "        with_noise.flat[random_pixel] = -1\n",
        "    \n",
        "    return with_noise"
      ],
      "metadata": {
        "id": "DwGUgIDWOAl_"
      },
      "execution_count": null,
      "outputs": []
    },
    {
      "cell_type": "code",
      "source": [
        "input_1_noise_20 = ResultWhitNoise(input_1,0.2)\n",
        "input_2_noise_20 = ResultWhitNoise(input_2,0.2)\n",
        "input_3_noise_20 = ResultWhitNoise(input_3,0.2)"
      ],
      "metadata": {
        "id": "FiclTbuaNFBT"
      },
      "execution_count": null,
      "outputs": []
    },
    {
      "cell_type": "code",
      "source": [
        "fig = plt.figure(figsize=(8, 8))\n",
        "fig.add_subplot(1, 3, 1)\n",
        "plt.imshow(input_1_noise_20.reshape((9, 7)), interpolation='nearest',cmap='Greys')\n",
        "plt.title('input_1 whit noise')\n",
        "fig.add_subplot(1, 3, 2)\n",
        "plt.imshow(input_2_noise_20.reshape((9, 7)), interpolation='nearest',cmap='Greys')\n",
        "plt.title('input_2 whit noise')\n",
        "fig.add_subplot(1, 3, 3)\n",
        "plt.imshow(input_3_noise_20.reshape((9, 7)), interpolation='nearest',cmap='Greys')\n",
        "plt.title('input_3 with noise')\n",
        "plt.show()"
      ],
      "metadata": {
        "colab": {
          "base_uri": "https://localhost:8080/",
          "height": 233
        },
        "id": "zndwA4YF-jt9",
        "outputId": "9e9e0d75-5cab-46f2-cc9a-2c995b798a96"
      },
      "execution_count": null,
      "outputs": [
        {
          "output_type": "display_data",
          "data": {
            "text/plain": [
              "<Figure size 576x576 with 3 Axes>"
            ],
            "image/png": "[encoded data removed]"
          },
          "metadata": {
            "needs_background": "light"
          }
        }
      ]
    },
    {
      "cell_type": "code",
      "source": [
        "S = np.array([copy.deepcopy(input_1), copy.deepcopy(input_2), copy.deepcopy(input_3)])\n",
        "T = np.array([copy.deepcopy(output_1), copy.deepcopy(output_2), copy.deepcopy(output_3)])\n",
        "heb3 = Hebbian(S,T)\n",
        "heb3.train()"
      ],
      "metadata": {
        "id": "h_dC1PkR-jiE"
      },
      "execution_count": null,
      "outputs": []
    },
    {
      "cell_type": "code",
      "source": [
        "heb3.showResult_1(input_1_noise_20)\n",
        "heb3.showResult_1(input_2_noise_20)\n",
        "heb3.showResult_1(input_3_noise_20)"
      ],
      "metadata": {
        "colab": {
          "base_uri": "https://localhost:8080/",
          "height": 761
        },
        "id": "abDxuee2O3sj",
        "outputId": "d23cb439-a492-4753-a0f6-41bdafda4310"
      },
      "execution_count": null,
      "outputs": [
        {
          "output_type": "display_data",
          "data": {
            "text/plain": [
              "<Figure size 432x288 with 1 Axes>"
            ],
            "image/png": "[encoded data removed]"
          },
          "metadata": {
            "needs_background": "light"
          }
        },
        {
          "output_type": "display_data",
          "data": {
            "text/plain": [
              "<Figure size 432x288 with 1 Axes>"
            ],
            "image/png": "[encoded data removed]"
          },
          "metadata": {
            "needs_background": "light"
          }
        },
        {
          "output_type": "display_data",
          "data": {
            "text/plain": [
              "<Figure size 432x288 with 1 Axes>"
            ],
            "image/png": "[encoded data removed]"
          },
          "metadata": {
            "needs_background": "light"
          }
        }
      ]
    },
    {
      "cell_type": "markdown",
      "source": [
        "**The accuracy of part 4's model with 20% noise applied is 100%.**"
      ],
      "metadata": {
        "id": "sWZK9ZCtWPMr"
      }
    },
    {
      "cell_type": "code",
      "source": [
        "input_1_noise_20 = ResultWhitNoise(input_1,0.2)\n",
        "input_2_noise_20 = ResultWhitNoise(input_2,0.2)\n",
        "input_3_noise_20 = ResultWhitNoise(input_3,0.2)"
      ],
      "metadata": {
        "id": "kn2s6nH_PPoe"
      },
      "execution_count": null,
      "outputs": []
    },
    {
      "cell_type": "code",
      "source": [
        "S = np.array([copy.deepcopy(input_1), copy.deepcopy(input_2), copy.deepcopy(input_3)])\n",
        "T = np.array([copy.deepcopy(input_1_smallest_reshaped), copy.deepcopy(input_2_smallest_reshaped), copy.deepcopy(input_3_smallest_reshaped)])\n",
        "heb4 = Hebbian(S,T)\n",
        "heb4.train()"
      ],
      "metadata": {
        "id": "CKqcR75BPPiR"
      },
      "execution_count": null,
      "outputs": []
    },
    {
      "cell_type": "code",
      "source": [
        "heb4.showResult_2(input_1_noise_20)\n",
        "heb4.showResult_2(input_2_noise_20)\n",
        "heb4.showResult_2(input_3_noise_20)"
      ],
      "metadata": {
        "colab": {
          "base_uri": "https://localhost:8080/",
          "height": 773
        },
        "id": "lvn6GIjKPPcS",
        "outputId": "faa5f904-7104-4af4-e85b-7d1b3f4462a1"
      },
      "execution_count": null,
      "outputs": [
        {
          "output_type": "display_data",
          "data": {
            "text/plain": [
              "<Figure size 432x288 with 1 Axes>"
            ],
            "image/png": "[encoded data removed]"
          },
          "metadata": {
            "needs_background": "light"
          }
        },
        {
          "output_type": "display_data",
          "data": {
            "text/plain": [
              "<Figure size 432x288 with 1 Axes>"
            ],
            "image/png": "[encoded data removed]"
          },
          "metadata": {
            "needs_background": "light"
          }
        },
        {
          "output_type": "display_data",
          "data": {
            "text/plain": [
              "<Figure size 432x288 with 1 Axes>"
            ],
            "image/png": "[encoded data removed]"
          },
          "metadata": {
            "needs_background": "light"
          }
        }
      ]
    },
    {
      "cell_type": "markdown",
      "source": [
        "**Part 5**\n",
        "\n",
        "**Adding noise 60% to input of parts two and four of the model**\n",
        "\n",
        "The accuracy of part 2's model with 60% noise applied is 66.6%."
      ],
      "metadata": {
        "id": "Y91Dh0fHQiI_"
      }
    },
    {
      "cell_type": "code",
      "source": [
        "input_1_noise_60 = ResultWhitNoise(input_1,0.6)\n",
        "input_2_noise_60 = ResultWhitNoise(input_2,0.6)\n",
        "input_3_noise_60 = ResultWhitNoise(input_3,0.6)"
      ],
      "metadata": {
        "id": "f-m_iCLOQ-BT"
      },
      "execution_count": null,
      "outputs": []
    },
    {
      "cell_type": "code",
      "source": [
        "fig = plt.figure(figsize=(8, 8))\n",
        "fig.add_subplot(1, 3, 1)\n",
        "plt.imshow(input_1_noise_60.reshape((9, 7)), interpolation='nearest',cmap='Greys')\n",
        "plt.title('input_1 with noise')\n",
        "fig.add_subplot(1, 3, 2)\n",
        "plt.imshow(input_2_noise_60.reshape((9, 7)), interpolation='nearest',cmap='Greys')\n",
        "plt.title('input_2 with noise')\n",
        "fig.add_subplot(1, 3, 3)\n",
        "plt.imshow(input_3_noise_60.reshape((9, 7)), interpolation='nearest',cmap='Greys')\n",
        "plt.title('input_3 with noise')\n",
        "plt.show()"
      ],
      "metadata": {
        "colab": {
          "base_uri": "https://localhost:8080/",
          "height": 233
        },
        "outputId": "70fc7505-785d-413b-8934-2ef76a492930",
        "id": "okWRx8ncQ-Bm"
      },
      "execution_count": null,
      "outputs": [
        {
          "output_type": "display_data",
          "data": {
            "text/plain": [
              "<Figure size 576x576 with 3 Axes>"
            ],
            "image/png": "[encoded data removed]"
          },
          "metadata": {
            "needs_background": "light"
          }
        }
      ]
    },
    {
      "cell_type": "code",
      "source": [
        "S = np.array([copy.deepcopy(input_1), copy.deepcopy(input_2), copy.deepcopy(input_3)])\n",
        "T = np.array([copy.deepcopy(output_1), copy.deepcopy(output_2), copy.deepcopy(output_3)])\n",
        "heb5 = Hebbian(S,T)\n",
        "heb5.train()"
      ],
      "metadata": {
        "id": "-GNTGsIMRg2A"
      },
      "execution_count": null,
      "outputs": []
    },
    {
      "cell_type": "code",
      "source": [
        "heb5.showResult_1(input_1_noise_60)\n",
        "heb5.showResult_1(input_2_noise_60)\n",
        "heb5.showResult_1(input_3_noise_60)"
      ],
      "metadata": {
        "colab": {
          "base_uri": "https://localhost:8080/",
          "height": 761
        },
        "outputId": "87b02a9b-65ee-474d-a772-be7815af9390",
        "id": "yFiMNkPkRg2F"
      },
      "execution_count": null,
      "outputs": [
        {
          "output_type": "display_data",
          "data": {
            "text/plain": [
              "<Figure size 432x288 with 1 Axes>"
            ],
            "image/png": "[encoded data removed]"
          },
          "metadata": {
            "needs_background": "light"
          }
        },
        {
          "output_type": "display_data",
          "data": {
            "text/plain": [
              "<Figure size 432x288 with 1 Axes>"
            ],
            "image/png": "[encoded data removed]"
          },
          "metadata": {
            "needs_background": "light"
          }
        },
        {
          "output_type": "display_data",
          "data": {
            "text/plain": [
              "<Figure size 432x288 with 1 Axes>"
            ],
            "image/png": "[encoded data removed]"
          },
          "metadata": {
            "needs_background": "light"
          }
        }
      ]
    },
    {
      "cell_type": "markdown",
      "source": [
        "**The accuracy of part 4's model with 60% noise applied is 33.3%.**"
      ],
      "metadata": {
        "id": "BNZos7wcWhGI"
      }
    },
    {
      "cell_type": "code",
      "source": [
        "input_1_noise_60 = ResultWhitNoise(input_1,0.6)\n",
        "input_1_noise_60 = ResultWhitNoise(input_2,0.6)\n",
        "input_1_noise_60 = ResultWhitNoise(input_3,0.6)"
      ],
      "metadata": {
        "id": "DToD-fDmR9tk"
      },
      "execution_count": null,
      "outputs": []
    },
    {
      "cell_type": "code",
      "source": [
        "S = np.array([copy.deepcopy(input_1), copy.deepcopy(input_2), copy.deepcopy(input_3)])\n",
        "T = np.array([copy.deepcopy(input_1_smallest_reshaped), copy.deepcopy(input_2_smallest_reshaped), copy.deepcopy(input_3_smallest_reshaped)])\n",
        "heb6 = Hebbian(S,T)\n",
        "heb6.train()"
      ],
      "metadata": {
        "id": "zhnt6TmPR9to"
      },
      "execution_count": null,
      "outputs": []
    },
    {
      "cell_type": "code",
      "source": [
        "heb6.showResult_2(input_1_noise_60)\n",
        "heb6.showResult_2(input_2_noise_60)\n",
        "heb6.showResult_2(input_3_noise_60)"
      ],
      "metadata": {
        "colab": {
          "base_uri": "https://localhost:8080/",
          "height": 773
        },
        "outputId": "7e5b791e-83f3-46fc-c817-ca632996cd62",
        "id": "Q4-H4DwDR9tq"
      },
      "execution_count": null,
      "outputs": [
        {
          "output_type": "display_data",
          "data": {
            "text/plain": [
              "<Figure size 432x288 with 1 Axes>"
            ],
            "image/png": "[encoded data removed]"
          },
          "metadata": {
            "needs_background": "light"
          }
        },
        {
          "output_type": "display_data",
          "data": {
            "text/plain": [
              "<Figure size 432x288 with 1 Axes>"
            ],
            "image/png": "[encoded data removed]"
          },
          "metadata": {
            "needs_background": "light"
          }
        },
        {
          "output_type": "display_data",
          "data": {
            "text/plain": [
              "<Figure size 432x288 with 1 Axes>"
            ],
            "image/png": "[encoded data removed]"
          },
          "metadata": {
            "needs_background": "light"
          }
        }
      ]
    },
    {
      "cell_type": "markdown",
      "source": [
        "**Part 6**\n",
        "\n",
        "**Results of part 2's Inputs with 20% & 60% Lost**"
      ],
      "metadata": {
        "id": "nOY5Ga4oWpme"
      }
    },
    {
      "cell_type": "code",
      "source": [
        "def showResultWithLost(arr,percentage):\n",
        "    pixels = int(np.prod(arr.shape)*percentage)\n",
        "    with_noise = np.copy(arr)\n",
        "    for pixel in range(pixels) :\n",
        "      random_pixel = np.random.choice(np.prod(with_noise.shape), 1)\n",
        "      with_noise.flat[random_pixel] = 0\n",
        "    return with_noise"
      ],
      "metadata": {
        "id": "yA2t4QaJgfQD"
      },
      "execution_count": null,
      "outputs": []
    },
    {
      "cell_type": "code",
      "source": [
        "input_1_lost_20 = showResultWithLost(input_1,0.2)\n",
        "input_2_lost_20 = showResultWithLost(input_2,0.2)\n",
        "input_3_lost_20 = showResultWithLost(input_3,0.2)"
      ],
      "metadata": {
        "id": "VHViJt5QhCHM"
      },
      "execution_count": null,
      "outputs": []
    },
    {
      "cell_type": "code",
      "source": [
        "fig = plt.figure(figsize=(8, 8))\n",
        "fig.add_subplot(1, 3, 1)\n",
        "plt.imshow(input_1_lost_20.reshape((9, 7)), interpolation='nearest',cmap='Greys')\n",
        "plt.title('input_1 with lost')\n",
        "fig.add_subplot(1, 3, 2)\n",
        "plt.imshow(input_2_lost_20.reshape((9, 7)), interpolation='nearest',cmap='Greys')\n",
        "plt.title('input_2 with lost')\n",
        "fig.add_subplot(1, 3, 3)\n",
        "plt.imshow(input_3_lost_20.reshape((9, 7)), interpolation='nearest',cmap='Greys')\n",
        "plt.title('input_3 with lost')\n",
        "plt.show()"
      ],
      "metadata": {
        "colab": {
          "base_uri": "https://localhost:8080/",
          "height": 233
        },
        "id": "IsbOJYHyhW9C",
        "outputId": "1d8bf35f-7eef-45af-f8ef-02f55555cecd"
      },
      "execution_count": null,
      "outputs": [
        {
          "output_type": "display_data",
          "data": {
            "text/plain": [
              "<Figure size 576x576 with 3 Axes>"
            ],
            "image/png": "[encoded data removed]"
          },
          "metadata": {
            "needs_background": "light"
          }
        }
      ]
    },
    {
      "cell_type": "markdown",
      "source": [
        "**The accuracy of model is 100%**"
      ],
      "metadata": {
        "id": "fmNtkzjzjAue"
      }
    },
    {
      "cell_type": "code",
      "source": [
        "S = np.array([copy.deepcopy(input_1), copy.deepcopy(input_2), copy.deepcopy(input_3)])\n",
        "T = np.array([copy.deepcopy(output_1), copy.deepcopy(output_2), copy.deepcopy(output_3)])\n",
        "heb7 = Hebbian(S,T)\n",
        "heb7.train()"
      ],
      "metadata": {
        "id": "GVJk5h34g_mB"
      },
      "execution_count": null,
      "outputs": []
    },
    {
      "cell_type": "code",
      "source": [
        "heb7.showResult_1(input_1_lost_20)\n",
        "heb7.showResult_1(input_2_lost_20)\n",
        "heb7.showResult_1(input_3_lost_20)"
      ],
      "metadata": {
        "colab": {
          "base_uri": "https://localhost:8080/",
          "height": 761
        },
        "outputId": "e8d2754a-ae7d-48ff-934e-74a80ca8c66c",
        "id": "2CNw2Dccg_m6"
      },
      "execution_count": null,
      "outputs": [
        {
          "output_type": "display_data",
          "data": {
            "text/plain": [
              "<Figure size 432x288 with 1 Axes>"
            ],
            "image/png": "[encoded data removed]"
          },
          "metadata": {
            "needs_background": "light"
          }
        },
        {
          "output_type": "display_data",
          "data": {
            "text/plain": [
              "<Figure size 432x288 with 1 Axes>"
            ],
            "image/png": "[encoded data removed]"
          },
          "metadata": {
            "needs_background": "light"
          }
        },
        {
          "output_type": "display_data",
          "data": {
            "text/plain": [
              "<Figure size 432x288 with 1 Axes>"
            ],
            "image/png": "[encoded data removed]"
          },
          "metadata": {
            "needs_background": "light"
          }
        }
      ]
    },
    {
      "cell_type": "code",
      "source": [
        "input_1_lost_60 = showResultWithLost(input_1,0.6)\n",
        "input_2_lost_60 = showResultWithLost(input_2,0.6)\n",
        "input_3_lost_60 = showResultWithLost(input_3,0.6)"
      ],
      "metadata": {
        "id": "6OtQt77ih_Eo"
      },
      "execution_count": null,
      "outputs": []
    },
    {
      "cell_type": "code",
      "source": [
        "fig = plt.figure(figsize=(8, 8))\n",
        "fig.add_subplot(1, 3, 1)\n",
        "plt.imshow(input_1_lost_60.reshape((9, 7)), interpolation='nearest',cmap='Greys')\n",
        "plt.title('input_1 with lost')\n",
        "fig.add_subplot(1, 3, 2)\n",
        "plt.imshow(input_2_lost_60.reshape((9, 7)), interpolation='nearest',cmap='Greys')\n",
        "plt.title('input_2 with lost')\n",
        "fig.add_subplot(1, 3, 3)\n",
        "plt.imshow(input_3_lost_60.reshape((9, 7)), interpolation='nearest',cmap='Greys')\n",
        "plt.title('input_3 with lost')\n",
        "plt.show()"
      ],
      "metadata": {
        "colab": {
          "base_uri": "https://localhost:8080/",
          "height": 233
        },
        "outputId": "b22546be-f096-48fa-efc8-67211082228a",
        "id": "OxrJcqKGh_FY"
      },
      "execution_count": null,
      "outputs": [
        {
          "output_type": "display_data",
          "data": {
            "text/plain": [
              "<Figure size 576x576 with 3 Axes>"
            ],
            "image/png": "[encoded data removed]"
          },
          "metadata": {
            "needs_background": "light"
          }
        }
      ]
    },
    {
      "cell_type": "markdown",
      "source": [
        "**The accuracy of model is 100%**"
      ],
      "metadata": {
        "id": "362cTfgfjI92"
      }
    },
    {
      "cell_type": "code",
      "source": [
        "S = np.array([copy.deepcopy(input_1), copy.deepcopy(input_2), copy.deepcopy(input_3)])\n",
        "T = np.array([copy.deepcopy(output_1), copy.deepcopy(output_2), copy.deepcopy(output_3)])\n",
        "heb8 = Hebbian(S,T)\n",
        "heb8.train()"
      ],
      "metadata": {
        "id": "1BPIWYiwiPJ_"
      },
      "execution_count": null,
      "outputs": []
    },
    {
      "cell_type": "code",
      "source": [
        "heb8.showResult_1(input_1_lost_60)\n",
        "heb8.showResult_1(input_2_lost_60)\n",
        "heb8.showResult_1(input_3_lost_60)"
      ],
      "metadata": {
        "colab": {
          "base_uri": "https://localhost:8080/",
          "height": 761
        },
        "outputId": "109ab5b9-a6da-4c3e-9359-ea79a14f6379",
        "id": "5jcNJf0piPKu"
      },
      "execution_count": null,
      "outputs": [
        {
          "output_type": "display_data",
          "data": {
            "text/plain": [
              "<Figure size 432x288 with 1 Axes>"
            ],
            "image/png": "[encoded data removed]"
          },
          "metadata": {
            "needs_background": "light"
          }
        },
        {
          "output_type": "display_data",
          "data": {
            "text/plain": [
              "<Figure size 432x288 with 1 Axes>"
            ],
            "image/png": "[encoded data removed]"
          },
          "metadata": {
            "needs_background": "light"
          }
        },
        {
          "output_type": "display_data",
          "data": {
            "text/plain": [
              "<Figure size 432x288 with 1 Axes>"
            ],
            "image/png": "[encoded data removed]"
          },
          "metadata": {
            "needs_background": "light"
          }
        }
      ]
    },
    {
      "cell_type": "markdown",
      "source": [
        "**Results of part 4's Inputs with 20% & 60% Lost**"
      ],
      "metadata": {
        "id": "kAPDc4__jZBE"
      }
    },
    {
      "cell_type": "markdown",
      "source": [
        "**The accuracy of model for both (20 and 60) is 100%**"
      ],
      "metadata": {
        "id": "ehrl2jI9yGYM"
      }
    },
    {
      "cell_type": "code",
      "source": [
        "input_1_lost_20 = showResultWithLost(input_1,0.2)\n",
        "input_2_lost_20 = showResultWithLost(input_2,0.2)\n",
        "input_3_lost_20 = showResultWithLost(input_3,0.2)"
      ],
      "metadata": {
        "id": "Rdcxc61KsfkJ"
      },
      "execution_count": null,
      "outputs": []
    },
    {
      "cell_type": "code",
      "source": [
        "fig = plt.figure(figsize=(8, 8))\n",
        "fig.add_subplot(1, 3, 1)\n",
        "plt.imshow(input_1_lost_20.reshape((9, 7)), interpolation='nearest',cmap='Greys')\n",
        "plt.title('input_1 with lost')\n",
        "fig.add_subplot(1, 3, 2)\n",
        "plt.imshow(input_2_lost_20.reshape((9, 7)), interpolation='nearest',cmap='Greys')\n",
        "plt.title('input_2 with lost')\n",
        "fig.add_subplot(1, 3, 3)\n",
        "plt.imshow(input_3_lost_20.reshape((9, 7)), interpolation='nearest',cmap='Greys')\n",
        "plt.title('input_3 with lost')\n",
        "plt.show()"
      ],
      "metadata": {
        "colab": {
          "base_uri": "https://localhost:8080/",
          "height": 233
        },
        "outputId": "ec636a13-bba8-4927-89e8-cc1adf6e726f",
        "id": "Qd3oC6UbsfkM"
      },
      "execution_count": null,
      "outputs": [
        {
          "output_type": "display_data",
          "data": {
            "text/plain": [
              "<Figure size 576x576 with 3 Axes>"
            ],
            "image/png": "[encoded data removed]"
          },
          "metadata": {
            "needs_background": "light"
          }
        }
      ]
    },
    {
      "cell_type": "code",
      "source": [
        "S = np.array([copy.deepcopy(input_1), copy.deepcopy(input_2), copy.deepcopy(input_3)])\n",
        "T = np.array([copy.deepcopy(input_1_smallest_reshaped), copy.deepcopy(input_2_smallest_reshaped), copy.deepcopy(input_3_smallest_reshaped)])\n",
        "heb9 = Hebbian(S,T)\n",
        "heb9.train()"
      ],
      "metadata": {
        "id": "PL5rsNC3tHHU"
      },
      "execution_count": null,
      "outputs": []
    },
    {
      "cell_type": "code",
      "source": [
        "heb9.showResult_2(input_1_lost_20)\n",
        "heb9.showResult_2(input_2_lost_20)\n",
        "heb9.showResult_2(input_3_lost_20)"
      ],
      "metadata": {
        "colab": {
          "base_uri": "https://localhost:8080/",
          "height": 773
        },
        "outputId": "be8bf499-0d3b-4cc4-9c83-7283add7b811",
        "id": "RTzL8vrGtHHa"
      },
      "execution_count": null,
      "outputs": [
        {
          "output_type": "display_data",
          "data": {
            "text/plain": [
              "<Figure size 432x288 with 1 Axes>"
            ],
            "image/png": "[encoded data removed]"
          },
          "metadata": {
            "needs_background": "light"
          }
        },
        {
          "output_type": "display_data",
          "data": {
            "text/plain": [
              "<Figure size 432x288 with 1 Axes>"
            ],
            "image/png": "[encoded data removed]"
          },
          "metadata": {
            "needs_background": "light"
          }
        },
        {
          "output_type": "display_data",
          "data": {
            "text/plain": [
              "<Figure size 432x288 with 1 Axes>"
            ],
            "image/png": "[encoded data removed]"
          },
          "metadata": {
            "needs_background": "light"
          }
        }
      ]
    },
    {
      "cell_type": "code",
      "source": [
        "input_1_lost_60 = showResultWithLost(input_1,0.6)\n",
        "input_2_lost_60 = showResultWithLost(input_2,0.6)\n",
        "input_3_lost_60 = showResultWithLost(input_3,0.6)"
      ],
      "metadata": {
        "id": "IOTxSWQqjhxv"
      },
      "execution_count": null,
      "outputs": []
    },
    {
      "cell_type": "code",
      "source": [
        "fig = plt.figure(figsize=(8, 8))\n",
        "fig.add_subplot(1, 3, 1)\n",
        "plt.imshow(input_1_lost_60.reshape((9, 7)), interpolation='nearest',cmap='Greys')\n",
        "plt.title('input_1 with lost')\n",
        "fig.add_subplot(1, 3, 2)\n",
        "plt.imshow(input_2_lost_60.reshape((9, 7)), interpolation='nearest',cmap='Greys')\n",
        "plt.title('input_2 with lost')\n",
        "fig.add_subplot(1, 3, 3)\n",
        "plt.imshow(input_3_lost_60.reshape((9, 7)), interpolation='nearest',cmap='Greys')\n",
        "plt.title('input_3 with lost')\n",
        "plt.show()"
      ],
      "metadata": {
        "colab": {
          "base_uri": "https://localhost:8080/",
          "height": 233
        },
        "outputId": "b2847abd-dcec-4d10-fdcb-dc4c80594d17",
        "id": "oe7mudRkjhxy"
      },
      "execution_count": null,
      "outputs": [
        {
          "output_type": "display_data",
          "data": {
            "text/plain": [
              "<Figure size 576x576 with 3 Axes>"
            ],
            "image/png": "[encoded data removed]"
          },
          "metadata": {
            "needs_background": "light"
          }
        }
      ]
    },
    {
      "cell_type": "code",
      "source": [
        "S = np.array([copy.deepcopy(input_1), copy.deepcopy(input_2), copy.deepcopy(input_3)])\n",
        "T = np.array([copy.deepcopy(input_1_smallest_reshaped), copy.deepcopy(input_2_smallest_reshaped), copy.deepcopy(input_3_smallest_reshaped)])\n",
        "heb10 = Hebbian(S,T)\n",
        "heb10.train()"
      ],
      "metadata": {
        "id": "z25HEfMyjstT"
      },
      "execution_count": null,
      "outputs": []
    },
    {
      "cell_type": "code",
      "source": [
        "heb10.showResult_2(input_1_lost_60)\n",
        "heb10.showResult_2(input_2_lost_60)\n",
        "heb10.showResult_2(input_3_lost_60)"
      ],
      "metadata": {
        "colab": {
          "base_uri": "https://localhost:8080/",
          "height": 773
        },
        "outputId": "e29fbeef-8bdb-4bbd-a07f-37dbab849f81",
        "id": "TmLwX9ODjstZ"
      },
      "execution_count": null,
      "outputs": [
        {
          "output_type": "display_data",
          "data": {
            "text/plain": [
              "<Figure size 432x288 with 1 Axes>"
            ],
            "image/png": "[encoded data removed]"
          },
          "metadata": {
            "needs_background": "light"
          }
        },
        {
          "output_type": "display_data",
          "data": {
            "text/plain": [
              "<Figure size 432x288 with 1 Axes>"
            ],
            "image/png": "[encoded data removed]"
          },
          "metadata": {
            "needs_background": "light"
          }
        },
        {
          "output_type": "display_data",
          "data": {
            "text/plain": [
              "<Figure size 432x288 with 1 Axes>"
            ],
            "image/png": "[encoded data removed]"
          },
          "metadata": {
            "needs_background": "light"
          }
        }
      ]
    },
    {
      "cell_type": "markdown",
      "source": [
        "**Part 7**\n",
        "\n",
        "The model with 20% noise can predict properly for both inputs(2 and 4).\n",
        "\n",
        "The accuracy of model whit 60% noise for part 2's input is 66.6% and for part 4's input is 33.3%.\n",
        "\n",
        "The model with 20 and 60% information loss can predict properly for both inputs(2 and 4).\n",
        "\n",
        "so the model is resistant to information loss than noise. \n",
        "\n",
        "Reduce dimensions helps network resistance when losing information(to a point)"
      ],
      "metadata": {
        "id": "SdMOm9Z1Z4E0"
      }
    }
  ]
}